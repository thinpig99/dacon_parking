{
 "cells": [
  {
   "cell_type": "markdown",
   "id": "ea4f5054",
   "metadata": {},
   "source": [
    "# **임대주택 단지 내 적정 주차수요 예측 대회**"
   ]
  },
  {
   "cell_type": "code",
   "execution_count": 588,
   "id": "1b8164ff",
   "metadata": {},
   "outputs": [],
   "source": [
    "PATH = r'C:\\Users\\Wyatt\\wyatt37\\data\\parking'"
   ]
  },
  {
   "cell_type": "code",
   "execution_count": 1204,
   "id": "ebdb7922",
   "metadata": {},
   "outputs": [],
   "source": [
    "import pandas as pd\n",
    "import numpy as np\n",
    "import matplotlib.pyplot as plt\n",
    "import seaborn as sns\n",
    "\n",
    "from matplotlib import font_manager, rc\n",
    "font_path = \"C:/Windows/Fonts/NGULIM.TTF\"\n",
    "font = font_manager.FontProperties(fname=font_path).get_name()\n",
    "rc('font', family=font)\n",
    "\n",
    "import warnings\n",
    "warnings.filterwarnings(\"ignore\")"
   ]
  },
  {
   "cell_type": "code",
   "execution_count": 1240,
   "id": "ee354f55",
   "metadata": {
    "tags": []
   },
   "outputs": [],
   "source": [
    "age_gender = pd.read_csv(PATH + '\\\\new_age_gender_info.csv')\n",
    "train = pd.read_csv(PATH + '\\\\new_train.csv')\n",
    "test = pd.read_csv(PATH + '\\\\new_test.csv')\n",
    "sub = pd.read_csv(PATH + '\\\\new_sample_submission.csv')"
   ]
  },
  {
   "cell_type": "markdown",
   "id": "fcf2e2ce",
   "metadata": {},
   "source": [
    "# PREPROCESSING"
   ]
  },
  {
   "cell_type": "code",
   "execution_count": 1241,
   "id": "76deef50",
   "metadata": {},
   "outputs": [],
   "source": [
    "# 컬럼명이 너무 긴 지하철과 버스만 바꿔주겠습니다.\n",
    "train.rename({'도보 10분거리 내 지하철역 수(환승노선 수 반영)': '지하철',\n",
    "             '도보 10분거리 내 버스정류장 수': '버스'}, axis=1, inplace=True)\n",
    "test.rename({'도보 10분거리 내 지하철역 수(환승노선 수 반영)': '지하철',\n",
    "             '도보 10분거리 내 버스정류장 수': '버스'}, axis=1, inplace=True)"
   ]
  },
  {
   "cell_type": "markdown",
   "id": "ff136edb",
   "metadata": {},
   "source": [
    "## FILLNA"
   ]
  },
  {
   "cell_type": "markdown",
   "id": "87d6be15",
   "metadata": {},
   "source": [
    "### Subway"
   ]
  },
  {
   "cell_type": "code",
   "execution_count": 1242,
   "id": "a6212e70",
   "metadata": {},
   "outputs": [],
   "source": [
    "# train set에 지하철 정보가 없는 경남, 충남은 0으로 보간\n",
    "train.loc[(train['지역'].isin(['경상남도', '충청남도'])) & (train['지하철'].isnull()), '지하철'] = 0"
   ]
  },
  {
   "cell_type": "code",
   "execution_count": 1243,
   "id": "cd3016d4",
   "metadata": {},
   "outputs": [],
   "source": [
    "# LH청약센터에서 찾은 주소로 확인한 대전의 8개 단지는 지하철이 없음\n",
    "# 0으로 채워줍시다.\n",
    "\n",
    "(train.loc[(train['지역'] == '대전광역시') & (train['지하철'].isnull()) , '지하철']) = 0"
   ]
  },
  {
   "cell_type": "code",
   "execution_count": 1244,
   "id": "7cb61443",
   "metadata": {},
   "outputs": [],
   "source": [
    "# test set에 지하철 정보가 없는 충남은 0으로 보간\n",
    "test.loc[(test['지역'].isin(['충청남도'])) & (test['지하철'].isnull()), '지하철'] = 0"
   ]
  },
  {
   "cell_type": "code",
   "execution_count": 1245,
   "id": "904bee43",
   "metadata": {},
   "outputs": [],
   "source": [
    "# LH청약센터에서 찾은 주소로 확인한 대전의 2개 단지는 지하철이 없음\n",
    "# 0으로 채워줍시다.\n",
    "\n",
    "(test.loc[(test['지역'] == '대전광역시') & (test['지하철'].isnull()) & (test['임대건물구분'] != '상가'), '지하철']) = 0"
   ]
  },
  {
   "cell_type": "markdown",
   "id": "79d9ab36",
   "metadata": {},
   "source": [
    "### Bus"
   ]
  },
  {
   "cell_type": "code",
   "execution_count": 1246,
   "id": "f2626d1b",
   "metadata": {},
   "outputs": [],
   "source": [
    "# 버스정류장 결측치는 train set에 1개 단지에 존재\n",
    "# 해당 단지는 양산신도시LH아파트 5단지\n",
    "# 지도를 확인한 결과 보수적으로 잡아도 7개 이상\n",
    "\n",
    "train.loc[train['버스'].isnull(), '버스'] = 7"
   ]
  },
  {
   "cell_type": "markdown",
   "id": "57192dd8",
   "metadata": {},
   "source": [
    "### Rent"
   ]
  },
  {
   "cell_type": "code",
   "execution_count": 1247,
   "id": "377b1d08",
   "metadata": {},
   "outputs": [],
   "source": [
    "# test set 에 임대보증금과 임대료가 결측치인 1개 단지 존재\n",
    "# 해당 단지는 대전둔산1단지주공아파트\n",
    "# 공고문에 의거, 임대보증금과 임대료 아래와 같이 보간\n",
    "\n",
    "test.loc[(test['임대건물구분'] != '상가') & (test['임대보증금'].isnull()), '임대보증금'] = [5787000, 5787000, 11574000]\n",
    "test.loc[(test['임대건물구분'] != '상가') & (test['임대료'].isnull()), '임대료'] = [79980, 79980, 159960]"
   ]
  },
  {
   "cell_type": "markdown",
   "id": "ef251947",
   "metadata": {},
   "source": [
    "### Qualification"
   ]
  },
  {
   "cell_type": "code",
   "execution_count": 1248,
   "id": "e88b2097",
   "metadata": {},
   "outputs": [],
   "source": [
    "# C2411 아파트의 자격유형은 전부 A로 되어 있음.\n",
    "# 동일하게 A로 보간\n",
    "\n",
    "test.loc[(test['단지코드'] == 'C2411') & (test['자격유형'].isnull()), '자격유형'] = 'A'"
   ]
  },
  {
   "cell_type": "code",
   "execution_count": 1249,
   "id": "298bd2b5",
   "metadata": {},
   "outputs": [],
   "source": [
    "# C2253 아파트의 자격유형은 전부 C로 되어 있음.\n",
    "# 동일하게 C로 보간\n",
    "\n",
    "test.loc[(test['단지코드'] == 'C2253') & (test['자격유형'].isnull()), '자격유형'] = 'C'"
   ]
  },
  {
   "cell_type": "markdown",
   "id": "a7daa286",
   "metadata": {},
   "source": [
    "## VALUE PREPROCCESSING"
   ]
  },
  {
   "cell_type": "markdown",
   "id": "58f8befa",
   "metadata": {},
   "source": [
    "### 총세대수, 전용면적별세대수 미일치 데이터 보간"
   ]
  },
  {
   "cell_type": "code",
   "execution_count": 1250,
   "id": "24c725aa",
   "metadata": {},
   "outputs": [],
   "source": [
    "# 경북혁신도시천년나무3단지\n",
    "test.loc[test['단지코드'] == 'C2497', '전용면적별세대수'] = [114, 60, 275, 39]\n",
    "# 속초청초아파트\n",
    "train.loc[train['단지코드'] == 'C1206', '총세대수'] = 478\n",
    "# 충무공동혁신도시LH아파트5단지\n",
    "train.loc[train['단지코드'] == 'C2405', '전용면적별세대수'] = [100, 100, 400]\n",
    "# 경북혁신LH천년나무2단지\n",
    "train.loc[train['단지코드'] == 'C1740', '전용면적별세대수'] = [305, 126, 184, 168]\n",
    "# LH강남아이파크\n",
    "train.loc[train['단지코드'] == 'C1024', '전용면적별세대수'] = [195, 60, 15, 154, 99, 48, 42, 53, 29, 23]\n",
    "# 서울서초A4BL\n",
    "train.loc[train['단지코드'] == 'C1344', '전용면적별세대수'] = [106, 96, 41, 39, 42, 100]\n",
    "# 남양주별내A1-3블록\n",
    "train.loc[train['단지코드'] == 'C1804', '전용면적별세대수'] = [76, 82, 279, 28]\n",
    "train = train.append({'단지코드': 'C1804',\n",
    "              '총세대수': 478,\n",
    "              '임대건물구분': '아파트',\n",
    "              '지역': '경기도',\n",
    "              '공급유형': '공공임대(10년)',\n",
    "              '전용면적': 75.78,\n",
    "              '전용면적별세대수': 13,\n",
    "              '공가수': 3.0,\n",
    "              '자격유형': 'A',\n",
    "              '임대보증금': 78957000,\n",
    "              '임대료': 530130,\n",
    "              '지하철': 0.0,\n",
    "              '버스': 3.0,\n",
    "              '단지내주차면수': 629.0,\n",
    "              '등록차량수': 951.0}, ignore_index=True)\n",
    "# 진천군 연미로 131 천년나무7단지\n",
    "train.loc[train['단지코드'] == 'C1490', '전용면적별세대수'] = [105, 84, 472, 88]\n",
    "# 나주빛가람LH3단지\n",
    "train.loc[train['단지코드'] == 'C2620', '전용면적별세대수'] = [60, 227, 316, 160, 266]\n",
    "# 대전대신2구역2단지\n",
    "train = train.append({'단지코드': 'C2470', '총세대수': 636, '임대건물구분': '아파트', '지역': '대전광역시', '공급유형': '공공분양',\n",
    "              '전용면적': 74.99, '전용면적별세대수': 72, '공가수': 1.0, '자격유형': 'A', '임대보증금': 225013300, '임대료': '-',\n",
    "              '지하철': 1.0, '버스': 2.0, '단지내주차면수': 772.0,\n",
    "              '등록차량수': 887.0}, ignore_index=True)\n",
    "train = train.append({'단지코드': 'C2470', '총세대수': 636, '임대건물구분': '아파트', '지역': '대전광역시', '공급유형': '공공분양',\n",
    "              '전용면적': 74.95, '전용면적별세대수': 66, '공가수': 1.0, '자격유형': 'A', '임대보증금': 226278000, '임대료': '-',\n",
    "              '지하철': 1.0, '버스': 2.0, '단지내주차면수': 772.0,\n",
    "              '등록차량수': 887.0}, ignore_index=True)\n",
    "train = train.append({'단지코드': 'C2470', '총세대수': 636, '임대건물구분': '아파트', '지역': '대전광역시', '공급유형': '공공분양',\n",
    "              '전용면적': 74.99, '전용면적별세대수': 92, '공가수': 1.0, '자격유형': 'A', '임대보증금': 230417000, '임대료': '-',\n",
    "              '지하철': 1.0, '버스': 2.0, '단지내주차면수': 772.0,\n",
    "              '등록차량수': 887.0}, ignore_index=True)\n",
    "#광주첨단H-2BL,H-3BL\n",
    "train.loc[train['단지코드'] == 'C1970', '총세대수'] = 200\n",
    "# 평택고덕Ca1, Ca2\n",
    "train.loc[train['단지코드'] == 'C1894', '총세대수'] = 296"
   ]
  },
  {
   "cell_type": "markdown",
   "id": "1e8e0e63",
   "metadata": {},
   "source": [
    "### Units(총세대수)"
   ]
  },
  {
   "cell_type": "markdown",
   "id": "630a9591",
   "metadata": {},
   "source": [
    "- 총세대수가 틀린 게 아니라, 전용면적별세대수가 틀린 것이라고 판단했습니다.\n",
    "- 총세대수가 여전히 오차가 조금 있지만, 상가분양이라는 주최측의 답변이 있었습니다.\n",
    "- 실제로 큰 차이가 없습니다."
   ]
  },
  {
   "cell_type": "code",
   "execution_count": 1251,
   "id": "60471c2d",
   "metadata": {},
   "outputs": [],
   "source": [
    "# 전용면적별세대수를 합쳐서 총 세대수를 다시 넣어주겠습니다.\n",
    "temp = (train\n",
    "        .groupby(['단지코드'])['전용면적별세대수'].sum()\n",
    "        .reset_index()\n",
    "        .rename({'전용면적별세대수': '전용면적별세대수합'}, axis=1))\n",
    "\n",
    "train = pd.merge(train, temp, on='단지코드')"
   ]
  },
  {
   "cell_type": "code",
   "execution_count": 1252,
   "id": "4a4b4350",
   "metadata": {},
   "outputs": [],
   "source": [
    "# 전용면적별세대수를 합쳐서 총 세대수를 다시 넣어주겠습니다.\n",
    "temp = (test\n",
    "        .groupby(['단지코드'])['전용면적별세대수'].sum()\n",
    "        .reset_index()\n",
    "        .rename({'전용면적별세대수': '전용면적별세대수합'}, axis=1))\n",
    "\n",
    "test = pd.merge(test, temp, on='단지코드')"
   ]
  },
  {
   "cell_type": "markdown",
   "id": "b4df2ba1",
   "metadata": {},
   "source": [
    "### NewUnits"
   ]
  },
  {
   "cell_type": "markdown",
   "id": "edfa9bd6",
   "metadata": {},
   "source": [
    "- 문제가 여럿 있습니다.\n",
    "1. 총세대수가 면적별세대수의 총합보다 적은 단지가 있다. -> 레코드를 보간해준 경우 -> 큰쪽이 맞다.\n",
    "2. 총세대수가 면적별세대수의 총합보다 큰 단지가 있다. -> 분양상가가 누락된 경우 -> 이 경우도 큰쪽이 맞다.\n",
    "3. 같은 경우 -> 문제 없다."
   ]
  },
  {
   "cell_type": "code",
   "execution_count": 1253,
   "id": "2dd337d0",
   "metadata": {},
   "outputs": [],
   "source": [
    "train.loc[train['총세대수'] >= train['전용면적별세대수'], '조정총세대수'] = train.loc[train['총세대수'] >= train['전용면적별세대수']]['총세대수']\n",
    "train.loc[train['총세대수'] < train['전용면적별세대수'], '조정총세대수'] = train.loc[train['총세대수'] < train['전용면적별세대수']]['전용면적별세대수']"
   ]
  },
  {
   "cell_type": "code",
   "execution_count": 1254,
   "id": "6cbc6738",
   "metadata": {},
   "outputs": [],
   "source": [
    "test.loc[test['총세대수'] >= test['전용면적별세대수'], '조정총세대수'] = test.loc[test['총세대수'] >= test['전용면적별세대수']]['총세대수']\n",
    "test.loc[test['총세대수'] < test['전용면적별세대수'], '조정총세대수'] = test.loc[test['총세대수'] < test['전용면적별세대수']]['전용면적별세대수']"
   ]
  },
  {
   "cell_type": "markdown",
   "id": "5b2b5d28",
   "metadata": {},
   "source": [
    "### StdDeposit(환산보증금)"
   ]
  },
  {
   "cell_type": "code",
   "execution_count": 1255,
   "id": "7bc48033",
   "metadata": {
    "tags": []
   },
   "outputs": [],
   "source": [
    "train.loc[train['임대보증금'] == '-', '임대보증금'] = 0\n",
    "test.loc[test['임대보증금'] == '-', '임대보증금'] = 0\n",
    "\n",
    "train.loc[train['임대료'] == '-', '임대료'] = 0\n",
    "test.loc[test['임대료'] == '-', '임대료'] = 0"
   ]
  },
  {
   "cell_type": "code",
   "execution_count": 1256,
   "id": "3fb725be",
   "metadata": {},
   "outputs": [],
   "source": [
    "# nan 값 때문에 object로 되어 있습니다. 일단 0으로 채워 줍니다.\n",
    "train['임대보증금'] = train['임대보증금'].fillna(0)\n",
    "test['임대보증금'] = test['임대보증금'].fillna(0)\n",
    "\n",
    "train['임대료'] = train['임대료'].fillna(0)\n",
    "test['임대료'] = test['임대료'].fillna(0)"
   ]
  },
  {
   "cell_type": "code",
   "execution_count": 1257,
   "id": "ae7fad51",
   "metadata": {
    "tags": []
   },
   "outputs": [],
   "source": [
    "# 계산을 위해서 int로 바꿔줍니다.\n",
    "train['임대보증금'] = train['임대보증금'].astype(int)\n",
    "test['임대보증금'] = test['임대보증금'].astype(int)\n",
    "\n",
    "train['임대료'] = train['임대료'].astype(int)\n",
    "test['임대료'] = test['임대료'].astype(int)"
   ]
  },
  {
   "cell_type": "markdown",
   "id": "6be019ec",
   "metadata": {},
   "source": [
    "기존의 환산보증금 공식으로 가면, 전세금과 환산보증금 차이가 너무 심합니다.<br>\n",
    "전세와 월세가 동시에 있는 단지가 1개 있습니다. 이 단지를 기준으로 환산보증금을 재계산 합니다."
   ]
  },
  {
   "cell_type": "code",
   "execution_count": 1258,
   "id": "8a66b644",
   "metadata": {},
   "outputs": [
    {
     "data": {
      "text/plain": [
       "2542.080887400545"
      ]
     },
     "execution_count": 1258,
     "metadata": {},
     "output_type": "execute_result"
    }
   ],
   "source": [
    "(187694000/51.32) - ((45456000 + (356420 * 354))/46.96)"
   ]
  },
  {
   "cell_type": "code",
   "execution_count": 1259,
   "id": "9213f30b",
   "metadata": {},
   "outputs": [],
   "source": [
    "# 환산보증금 컬럼을 만들어줍니다.\n",
    "train['환산보증금'] = train['임대보증금'] + train['임대료'] * 354\n",
    "test['환산보증금'] = test['임대보증금'] + test['임대료'] * 354"
   ]
  },
  {
   "cell_type": "code",
   "execution_count": 1260,
   "id": "d337e5b3",
   "metadata": {},
   "outputs": [],
   "source": [
    "# 제곱미터당 환산보증금을 만들어줍니다.\n",
    "train['면적당환산보증금'] = (train['환산보증금'] / train['전용면적']).round()\n",
    "test['면적당환산보증금'] = (test['환산보증금'] / test['전용면적']).round()"
   ]
  },
  {
   "cell_type": "markdown",
   "id": "5bd36537",
   "metadata": {},
   "source": [
    "- 임대료가 없는 아파트를 찾아서 값을 넣어주겠습니다."
   ]
  },
  {
   "cell_type": "code",
   "execution_count": 1261,
   "id": "9e9ca774",
   "metadata": {},
   "outputs": [],
   "source": [
    "# C1350은 같은 단지에 다른 임대보증금, 임대료가 있습니다.\n",
    "train.loc[(train['단지코드'] == 'C1350') & (train['임대보증금'] == 0), '면적당환산보증금'] = train.loc[(train['단지코드'] == 'C1350') & (train['임대보증금'] != 0)]['면적당환산보증금'].mean()"
   ]
  },
  {
   "cell_type": "code",
   "execution_count": 1262,
   "id": "b963e82b",
   "metadata": {},
   "outputs": [],
   "source": [
    "# C1786은 같은 단지에 다른 임대보증금, 임대료가 있습니다.\n",
    "train.loc[(train['단지코드'] == 'C1786') & (train['임대보증금'] == 0), '면적당환산보증금'] = train.loc[(train['단지코드'] == 'C1786') & (train['임대보증금'] != 0)]['면적당환산보증금'].mean()"
   ]
  },
  {
   "cell_type": "code",
   "execution_count": 1263,
   "id": "a78b8897",
   "metadata": {},
   "outputs": [],
   "source": [
    "# C2186은 같은 단지에 다른 임대보증금, 임대료가 있습니다.\n",
    "train.loc[(train['단지코드'] == 'C2186') & (train['임대보증금'] == 0), '면적당환산보증금'] = train.loc[(train['단지코드'] == 'C2186') & (train['임대보증금'] != 0)]['면적당환산보증금'].mean()"
   ]
  },
  {
   "cell_type": "code",
   "execution_count": 1264,
   "id": "eaa937d7",
   "metadata": {},
   "outputs": [],
   "source": [
    "# C1326은 비슷한 유형의 단지를 찾아 평균값으로 넣겠습니다.\n",
    "train.loc[train['단지코드'] == 'C1326', '면적당환산보증금'] = train.loc[(train['지역'] == '부산광역시')\n",
    "                                                                  & (train['지하철'] == 0)\n",
    "                                                                  & (train['임대건물구분'] != '상가')\n",
    "                                                                  & (train['공급유형'] == '국민임대')\n",
    "                                                                  & (train['단지코드'] != 'C1326')]['면적당환산보증금'].mean()"
   ]
  },
  {
   "cell_type": "code",
   "execution_count": 1265,
   "id": "4958dd29",
   "metadata": {},
   "outputs": [],
   "source": [
    "# C1267은 같은 단지에 다른 임대보증금, 임대료가 있습니다.\n",
    "test.loc[(test['단지코드'] == 'C1267') & (test['임대보증금'] == 0), '면적당환산보증금'] = test.loc[(test['단지코드'] == 'C1267') & (test['임대보증금'] != 0)]['면적당환산보증금'].mean()"
   ]
  },
  {
   "cell_type": "code",
   "execution_count": 1266,
   "id": "26d1dd05",
   "metadata": {},
   "outputs": [],
   "source": [
    "# C2152은 비슷한 유형의 단지를 찾아 평균값으로 넣겠습니다.\n",
    "test.loc[test['단지코드'] == 'C2152', '면적당환산보증금'] = test.loc[(test['지역'] == '강원도')\n",
    "                                                              & (test['임대건물구분'] != '상가')\n",
    "                                                              & (test['공급유형'] == '영구임대')\n",
    "                                                              & (test['단지코드'] != 'C2152')]['면적당환산보증금'].mean()"
   ]
  },
  {
   "cell_type": "markdown",
   "id": "f935691b",
   "metadata": {},
   "source": [
    "### RecruitType(공급유형)"
   ]
  },
  {
   "cell_type": "code",
   "execution_count": 1267,
   "id": "43e60c2e",
   "metadata": {},
   "outputs": [],
   "source": [
    "# # 공공분양이 있는 1개 단지는 동일 단지의 공공임대로 맞춰주겠습니다.\n",
    "# train.loc[train['공급유형'] == '공공분양', '공급유형'] = '공공임대'"
   ]
  },
  {
   "cell_type": "code",
   "execution_count": 1268,
   "id": "09a60bf1",
   "metadata": {},
   "outputs": [],
   "source": [
    "# # 장기전세가 있는 1개 단지는 유사 유형의 행복주택으로 맞춰주겠습니다.\n",
    "# train.loc[train['공급유형'] == '장기전세', '공급유형'] = '행복주택'"
   ]
  },
  {
   "cell_type": "code",
   "execution_count": 1269,
   "id": "db7bd41d",
   "metadata": {},
   "outputs": [],
   "source": [
    "# # 공공임대(5년, 10년, 50년)는 햇수는 다르지만, 하나로 묶어주는 겠습니다.\n",
    "# train.loc[train['공급유형'].str.contains('공공임대'), '공급유형'] = '공공임대'\n",
    "# test.loc[test['공급유형'].str.contains('공공임대'), '공급유형'] = '공공임대'"
   ]
  },
  {
   "cell_type": "markdown",
   "id": "aa868e2d",
   "metadata": {},
   "source": [
    "### Region"
   ]
  },
  {
   "cell_type": "code",
   "execution_count": 1270,
   "id": "64e25cbf",
   "metadata": {},
   "outputs": [],
   "source": [
    "# 실거주세대 대비 차량수의 지역 평균으로 오름차순 정렬\n",
    "# Order를 주었습니다.\n",
    "region_dict = {'서울특별시': 0,\n",
    "               '경기도':1,\n",
    "               '세종특별자치시':2,\n",
    "               '경상북도':3,\n",
    "               '대구광역시':4,\n",
    "               '광주광역시':5,\n",
    "               '충청북도':6,\n",
    "               '전라남도':7,\n",
    "               '전라북도':8,\n",
    "               '강원도':9,\n",
    "               '경상남도':10,\n",
    "               '울산광역시':11,\n",
    "               '제주특별자치도':12,\n",
    "               '대전광역시':13,\n",
    "               '충청남도':14,\n",
    "               '부산광역시':15}"
   ]
  },
  {
   "cell_type": "code",
   "execution_count": 1271,
   "id": "d95296e2",
   "metadata": {},
   "outputs": [],
   "source": [
    "train['지역'] = train['지역'].map(region_dict)\n",
    "test['지역'] = test['지역'].map(region_dict)"
   ]
  },
  {
   "cell_type": "markdown",
   "id": "66245a12",
   "metadata": {},
   "source": [
    "### Qualification"
   ]
  },
  {
   "cell_type": "code",
   "execution_count": 1272,
   "id": "69b284cd",
   "metadata": {},
   "outputs": [],
   "source": [
    "# 상가가 아닌데 D형이 있습니다.\n",
    "\n",
    "# 같은 단지에 A형이 있으므로 A로 넣어주겠습니다.\n",
    "train.loc[(train['임대건물구분'] != '상가') & (train['자격유형'] == 'D'), '자격유형'] = 'A'\n",
    "\n",
    "# 같은 단지에 C형이 있으므로 C로 넣어주겠습니다.\n",
    "test.loc[(test['임대건물구분'] != '상가') & (test['자격유형'] == 'D'), '자격유형'] = 'C'"
   ]
  },
  {
   "cell_type": "code",
   "execution_count": 1273,
   "id": "ccaa1328",
   "metadata": {},
   "outputs": [
    {
     "data": {
      "image/png": "[encoded data removed]",
      "text/plain": [
       "<Figure size 1152x432 with 1 Axes>"
      ]
     },
     "metadata": {
      "needs_background": "light"
     },
     "output_type": "display_data"
    }
   ],
   "source": [
    "plt.figure(figsize=(16, 6))\n",
    "sns.heatmap(train.isnull().T, cbar=False)\n",
    "plt.show()"
   ]
  },
  {
   "cell_type": "code",
   "execution_count": 1274,
   "id": "6e109d87",
   "metadata": {},
   "outputs": [
    {
     "data": {
      "image/png": "[encoded data removed]",
      "text/plain": [
       "<Figure size 1152x432 with 1 Axes>"
      ]
     },
     "metadata": {
      "needs_background": "light"
     },
     "output_type": "display_data"
    }
   ],
   "source": [
    "plt.figure(figsize=(16, 6))\n",
    "sns.heatmap(test.isnull().T, cbar=False)\n",
    "plt.show()"
   ]
  },
  {
   "cell_type": "markdown",
   "id": "7f63c4be",
   "metadata": {},
   "source": [
    "## FEATURE CREATION"
   ]
  },
  {
   "cell_type": "markdown",
   "id": "d9926731",
   "metadata": {},
   "source": [
    "### Residence(실거주)"
   ]
  },
  {
   "cell_type": "code",
   "execution_count": 1275,
   "id": "3765a8b2",
   "metadata": {},
   "outputs": [],
   "source": [
    "# 공가수를 빼준 실거주 수를 만들어줍니다.\n",
    "train['실거주세대수'] = train['조정총세대수'] - train['공가수']\n",
    "test['실거주세대수'] = test['조정총세대수'] - test['공가수']"
   ]
  },
  {
   "cell_type": "markdown",
   "id": "e32c2107",
   "metadata": {},
   "source": [
    "### UnitType(전용면적구분)"
   ]
  },
  {
   "cell_type": "code",
   "execution_count": 1276,
   "id": "35e326e9",
   "metadata": {},
   "outputs": [],
   "source": [
    "# 80 ~ 은 대형\n",
    "# 40 ~ 80 은 중형\n",
    "# ~ 40 은 소형\n",
    "\n",
    "train.loc[train['전용면적'] < 40, '전용면적구분'] = '소형'\n",
    "train.loc[train['전용면적'] >= 40, '전용면적구분'] = '중형'\n",
    "train.loc[train['전용면적'] >= 80, '전용면적구분'] = '대형'\n",
    "\n",
    "test.loc[test['전용면적'] < 40, '전용면적구분'] = '소형'\n",
    "test.loc[test['전용면적'] >= 40, '전용면적구분'] = '중형'\n",
    "test.loc[test['전용면적'] >= 80, '전용면적구분'] = '대형'"
   ]
  },
  {
   "cell_type": "markdown",
   "id": "c398767c",
   "metadata": {},
   "source": [
    "### Rooms(방의 개수)"
   ]
  },
  {
   "cell_type": "code",
   "execution_count": 1279,
   "id": "06931aed",
   "metadata": {},
   "outputs": [],
   "source": [
    "train.loc[train['전용면적'] < 35, '방개수'] = '원룸'\n",
    "train.loc[train['전용면적'] >= 35, '방개수'] = '투룸'\n",
    "train.loc[train['전용면적'] >= 45, '방개수'] = '쓰리룸'\n",
    "train.loc[train['전용면적'] >= 56, '방개수'] = '포룸'\n",
    "train.loc[train['전용면적'] >= 77, '방개수'] = '오룸'"
   ]
  },
  {
   "cell_type": "code",
   "execution_count": 1280,
   "id": "412bb6ad",
   "metadata": {},
   "outputs": [],
   "source": [
    "test.loc[test['전용면적'] < 35, '방개수'] = '원룸'\n",
    "test.loc[test['전용면적'] >= 35, '방개수'] = '투룸'\n",
    "test.loc[test['전용면적'] >= 45, '방개수'] = '쓰리룸'\n",
    "test.loc[test['전용면적'] >= 56, '방개수'] = '포룸'\n",
    "test.loc[test['전용면적'] >= 77, '방개수'] = '오룸'"
   ]
  },
  {
   "cell_type": "markdown",
   "id": "ed21d34b",
   "metadata": {},
   "source": [
    "### AllNewStdDep(면적당환산보증금가중평균)"
   ]
  },
  {
   "cell_type": "markdown",
   "id": "bd490cd6",
   "metadata": {},
   "source": [
    "가중평균을 내주기로 했습니다."
   ]
  },
  {
   "cell_type": "code",
   "execution_count": 1281,
   "id": "e56d361d",
   "metadata": {},
   "outputs": [],
   "source": [
    "unique_code = list(train['단지코드'].unique())\n",
    "\n",
    "for code in unique_code:\n",
    "    train.loc[train['단지코드'] == code, '면적당환산보증금가중평균'] = np.average(train.loc[train['단지코드'] == code, '면적당환산보증금'],\n",
    "                                                                  weights=train.loc[train['단지코드'] == code, '전용면적별세대수'])"
   ]
  },
  {
   "cell_type": "code",
   "execution_count": 1282,
   "id": "cb3c3791",
   "metadata": {},
   "outputs": [],
   "source": [
    "unique_code = list(test['단지코드'].unique())\n",
    "\n",
    "for code in unique_code:\n",
    "    test.loc[test['단지코드'] == code, '면적당환산보증금가중평균'] = np.average(test.loc[test['단지코드'] == code, '면적당환산보증금'],\n",
    "                                                                weights=test.loc[test['단지코드'] == code, '전용면적별세대수'])"
   ]
  },
  {
   "cell_type": "markdown",
   "id": "3ae666f4",
   "metadata": {},
   "source": [
    "### SumStdDep(시그마 면적당환산보증금 X 세대수)"
   ]
  },
  {
   "cell_type": "markdown",
   "id": "b01352fb",
   "metadata": {},
   "source": [
    "면적당환산보증금을 평균으로 집어넣으니 정보손실이 생기는 것 같습니다. 세대수와 곱해서 총합을 넣어버리겠습니다."
   ]
  },
  {
   "cell_type": "code",
   "execution_count": 1283,
   "id": "dfd80b1d",
   "metadata": {},
   "outputs": [],
   "source": [
    "train['면적당환산보증금세대수합계'] = train['전용면적별세대수'] * train['면적당환산보증금']\n",
    "test['면적당환산보증금세대수합계'] = test['전용면적별세대수'] * test['면적당환산보증금']"
   ]
  },
  {
   "cell_type": "markdown",
   "id": "c90135d1",
   "metadata": {},
   "source": [
    "### Shop(상가세대수)"
   ]
  },
  {
   "cell_type": "markdown",
   "id": "9961ab4a",
   "metadata": {},
   "source": [
    "- 총세대수와 전용면적별세대수합계가 미일치하는 부분이 상가세대수입니다."
   ]
  },
  {
   "cell_type": "code",
   "execution_count": 1284,
   "id": "5b8a3a8a",
   "metadata": {},
   "outputs": [],
   "source": [
    "temp1 = (train.groupby(['단지코드'])['조정총세대수'].max() - train.groupby(['단지코드'])['전용면적별세대수'].sum()).to_frame().rename({0: '분양상가수'}, axis=1)\n",
    "temp2 = train.loc[train['임대건물구분'] == '상가'].groupby(['단지코드'])['전용면적별세대수'].sum().to_frame().rename({'전용면적별세대수':'임대상가수'}, axis=1)\n",
    "temp3 = pd.merge(temp1, temp2, how='outer', on='단지코드').fillna(0)\n",
    "temp4 = (temp3['분양상가수'] + temp3['임대상가수']).to_frame().rename({0: '상가세대수'}, axis=1)\n",
    "train = pd.merge(train.loc[train['임대건물구분'] == '아파트'], temp4, how='outer', on='단지코드').fillna(0)"
   ]
  },
  {
   "cell_type": "code",
   "execution_count": 1285,
   "id": "4eadfc7e",
   "metadata": {},
   "outputs": [],
   "source": [
    "temp1 = (test.groupby(['단지코드'])['조정총세대수'].max() - test.groupby(['단지코드'])['전용면적별세대수'].sum()).to_frame().rename({0: '분양상가수'}, axis=1)\n",
    "temp2 = test.loc[test['임대건물구분'] == '상가'].groupby(['단지코드'])['전용면적별세대수'].sum().to_frame().rename({'전용면적별세대수':'임대상가수'}, axis=1)\n",
    "temp3 = pd.merge(temp1, temp2, how='outer', on='단지코드').fillna(0)\n",
    "temp4 = (temp3['분양상가수'] + temp3['임대상가수']).to_frame().rename({0: '상가세대수'}, axis=1)\n",
    "test = pd.merge(test.loc[test['임대건물구분'] == '아파트'], temp4, how='outer', on='단지코드').fillna(0)"
   ]
  },
  {
   "cell_type": "code",
   "execution_count": 1170,
   "id": "0ed71bb3",
   "metadata": {},
   "outputs": [],
   "source": [
    "# shop_temp = ((train.loc[train['임대건물구분'] == '상가']\n",
    "#               .groupby(['단지코드'])['지역'].count())\n",
    "#              .reset_index()\n",
    "#              .rename({'지역': '상가세대수'}, axis=1))\n",
    "# train = pd.merge(train.loc[train['임대건물구분'] == '아파트'], shop_temp, how='outer', on='단지코드').fillna(0)"
   ]
  },
  {
   "cell_type": "code",
   "execution_count": 1171,
   "id": "ca26e9cb",
   "metadata": {},
   "outputs": [],
   "source": [
    "# shop_temp = ((test.loc[test['임대건물구분'] == '상가']\n",
    "#               .groupby(['단지코드'])['지역'].count())\n",
    "#              .reset_index()\n",
    "#              .rename({'지역': '상가세대수'}, axis=1))\n",
    "# test = pd.merge(test.loc[test['임대건물구분'] == '아파트'], shop_temp, how='outer', on='단지코드').fillna(0)"
   ]
  },
  {
   "cell_type": "markdown",
   "id": "08ec39e9",
   "metadata": {},
   "source": [
    "# MODELING"
   ]
  },
  {
   "cell_type": "code",
   "execution_count": 1286,
   "id": "dfb408fe",
   "metadata": {},
   "outputs": [],
   "source": [
    "def make_train_test(train):\n",
    "\n",
    "    train_preprocessed = train.copy()\n",
    "    \n",
    "    # 전처리가 끝난 변수 삭제\n",
    "    train_preprocessed.drop(['전용면적', '임대보증금', '임대료', '환산보증금'], axis=1, inplace=True)\n",
    "    # 상가 레코드 삭제\n",
    "    train_preprocessed = train_preprocessed.loc[train_preprocessed['임대건물구분'] == '아파트', ~train_preprocessed.columns.isin(['임대건물구분'])]\n",
    "    \n",
    "    # 전용면적구분 unstack\n",
    "    temp = train_preprocessed.groupby(['단지코드', '전용면적구분'])['전용면적별세대수'].sum().unstack().fillna(0)\n",
    "    train_preprocessed = pd.merge(train_preprocessed.loc[:, ~train_preprocessed.columns.isin(['전용면적구분'])], temp, on='단지코드')\n",
    "    \n",
    "    # 공급유형 unstack\n",
    "    temp = train_preprocessed.groupby(['단지코드', '공급유형'])['전용면적별세대수'].sum().unstack().fillna(0)\n",
    "    train_preprocessed = pd.merge(train_preprocessed.loc[:, ~train_preprocessed.columns.isin(['공급유형'])], temp, on='단지코드')\n",
    "    \n",
    "    # 자격유형 unstack\n",
    "    temp = train_preprocessed.groupby(['단지코드', '자격유형'])['전용면적별세대수'].sum().unstack().fillna(0)\n",
    "    train_preprocessed = pd.merge(train_preprocessed.loc[:, ~train_preprocessed.columns.isin(['자격유형'])], temp, on='단지코드')\n",
    "    \n",
    "    # new면적당환산보증금 단지별 평균으로 산출\n",
    "    temp = train_preprocessed.groupby(['단지코드'])['면적당환산보증금'].mean().reset_index()\n",
    "    train_preprocessed = pd.merge(train_preprocessed.loc[:, ~train_preprocessed.columns.isin(['면적당환산보증금'])], temp, on='단지코드')\n",
    "    \n",
    "    # 면적당환산보증금가중평균 단지별로 산출\n",
    "    temp = train_preprocessed.groupby(['단지코드'])['면적당환산보증금가중평균'].max().reset_index()\n",
    "    train_preprocessed = pd.merge(train_preprocessed.loc[:, ~train_preprocessed.columns.isin(['면적당환산보증금가중평균'])], temp, on='단지코드')\n",
    "\n",
    "    # 면적당환산보증금세대수 합계로 산출\n",
    "    temp = train_preprocessed.groupby(['단지코드'])['면적당환산보증금세대수합계'].sum().reset_index()\n",
    "    train_preprocessed = pd.merge(train_preprocessed.loc[:, ~train_preprocessed.columns.isin(['면적당환산보증금세대수합계'])], temp, on='단지코드')\n",
    "    \n",
    "    # 방개수 unstack\n",
    "    temp = train_preprocessed.groupby(['단지코드', '방개수'])['전용면적별세대수'].sum().unstack().fillna(0)\n",
    "    train_preprocessed = pd.merge(train_preprocessed.loc[:, ~train_preprocessed.columns.isin(['방개수'])], temp, on='단지코드')\n",
    "    \n",
    "    \n",
    "    \n",
    "    #---------------------------------------------------------------------------------------------------\n",
    "    \n",
    "    train_preprocessed.drop(['전용면적별세대수'], axis=1, inplace=True)\n",
    "    train_preprocessed = train_preprocessed.drop_duplicates()\n",
    "    \n",
    "    #train_preprocessed.drop(['단지코드'], axis=1, inplace=True)\n",
    "    \n",
    "    return train_preprocessed"
   ]
  },
  {
   "cell_type": "code",
   "execution_count": 1335,
   "id": "0770aee6",
   "metadata": {},
   "outputs": [],
   "source": [
    "X = make_train_test(train)\n",
    "y = make_train_test(test)"
   ]
  },
  {
   "cell_type": "code",
   "execution_count": 1336,
   "id": "9570b2e8",
   "metadata": {},
   "outputs": [
    {
     "data": {
      "text/plain": [
       "((423, 46), (150, 39))"
      ]
     },
     "execution_count": 1336,
     "metadata": {},
     "output_type": "execute_result"
    }
   ],
   "source": [
    "X.shape, y.shape"
   ]
  },
  {
   "cell_type": "code",
   "execution_count": 1337,
   "id": "c1295afc",
   "metadata": {},
   "outputs": [
    {
     "data": {
      "text/plain": [
       "Index(['단지코드', '총세대수', '지역', '공가수', '지하철', '버스', '단지내주차면수', '등록차량수',\n",
       "       '전용면적별세대수합', '조정총세대수', '실거주세대수', '상가세대수', '대형', '소형', '중형', '공공분양',\n",
       "       '공공임대(10년)', '공공임대(50년)', '공공임대(5년)', '공공임대(분납)', '국민임대', '영구임대',\n",
       "       '장기전세', '행복주택', 'A', 'B', 'C', 'E', 'F', 'G', 'H', 'I', 'J', 'K', 'L',\n",
       "       'M', 'N', 'O', '면적당환산보증금', '면적당환산보증금가중평균', '면적당환산보증금세대수합계', '쓰리룸', '오룸',\n",
       "       '원룸', '투룸', '포룸'],\n",
       "      dtype='object')"
      ]
     },
     "execution_count": 1337,
     "metadata": {},
     "output_type": "execute_result"
    }
   ],
   "source": [
    "X.columns"
   ]
  },
  {
   "cell_type": "code",
   "execution_count": 1338,
   "id": "59c7acfc",
   "metadata": {},
   "outputs": [
    {
     "data": {
      "text/plain": [
       "Index(['단지코드', '총세대수', '지역', '공가수', '지하철', '버스', '단지내주차면수', '전용면적별세대수합',\n",
       "       '조정총세대수', '실거주세대수', '상가세대수', '대형', '소형', '중형', '공공임대(10년)', '공공임대(50년)',\n",
       "       '공공임대(분납)', '국민임대', '영구임대', '행복주택', 'A', 'C', 'E', 'G', 'H', 'I', 'J',\n",
       "       'K', 'L', 'M', 'N', '면적당환산보증금', '면적당환산보증금가중평균', '면적당환산보증금세대수합계', '쓰리룸',\n",
       "       '오룸', '원룸', '투룸', '포룸'],\n",
       "      dtype='object')"
      ]
     },
     "execution_count": 1338,
     "metadata": {},
     "output_type": "execute_result"
    }
   ],
   "source": [
    "y.columns"
   ]
  },
  {
   "cell_type": "code",
   "execution_count": 1339,
   "id": "328190ed",
   "metadata": {},
   "outputs": [
    {
     "data": {
      "text/plain": [
       "{'B', 'F', 'O', '공공분양', '공공임대(5년)', '등록차량수', '장기전세'}"
      ]
     },
     "execution_count": 1339,
     "metadata": {},
     "output_type": "execute_result"
    }
   ],
   "source": [
    "set(X.columns).difference(y.columns)"
   ]
  },
  {
   "cell_type": "code",
   "execution_count": 1340,
   "id": "eb035a0a",
   "metadata": {},
   "outputs": [],
   "source": [
    "# y['B'] = 0\n",
    "# y['F'] = 0\n",
    "# y['O'] = 0\n",
    "# y['공공분양'] = 0\n",
    "# y['공공임대(5년)'] = 0\n",
    "# y['장기전세'] = 0"
   ]
  },
  {
   "cell_type": "code",
   "execution_count": 1341,
   "id": "cbf41dc0",
   "metadata": {},
   "outputs": [],
   "source": [
    "X.drop(['B', 'F', 'O', '공공분양','공공임대(5년)', '장기전세'], axis=1, inplace=True)\n",
    "# y.drop(['B', 'F', 'O', '공공분양','공공임대(5년)', '장기전세'], axis=1, inplace=True)"
   ]
  },
  {
   "cell_type": "code",
   "execution_count": 1342,
   "id": "2f66b0db",
   "metadata": {},
   "outputs": [
    {
     "data": {
      "text/plain": [
       "((423, 40), (150, 39))"
      ]
     },
     "execution_count": 1342,
     "metadata": {},
     "output_type": "execute_result"
    }
   ],
   "source": [
    "X.shape, y.shape"
   ]
  },
  {
   "cell_type": "markdown",
   "id": "5c1f46ba",
   "metadata": {},
   "source": [
    "### RF"
   ]
  },
  {
   "cell_type": "code",
   "execution_count": 1343,
   "id": "6ae8a6cf",
   "metadata": {},
   "outputs": [],
   "source": [
    "from sklearn.ensemble import RandomForestRegressor"
   ]
  },
  {
   "cell_type": "code",
   "execution_count": 1344,
   "id": "39461f72",
   "metadata": {},
   "outputs": [],
   "source": [
    "x_train = X.loc[:, ~X.columns.isin(['단지코드', '등록차량수',\n",
    "                                    '총세대수', '면적당환산보증금', '전용면적별세대수합'])]\n",
    "y_train = X['등록차량수']\n",
    "x_test = y.loc[:, ~y.columns.isin(['단지코드', '전용면적별세대수합',\n",
    "                                   '총세대수', '면적당환산보증금'])]"
   ]
  },
  {
   "cell_type": "code",
   "execution_count": 1345,
   "id": "e2512b6e",
   "metadata": {},
   "outputs": [
    {
     "data": {
      "text/plain": [
       "((423, 35), (423,), (150, 35))"
      ]
     },
     "execution_count": 1345,
     "metadata": {},
     "output_type": "execute_result"
    }
   ],
   "source": [
    "x_train.shape, y_train.shape, x_test.shape"
   ]
  },
  {
   "cell_type": "code",
   "execution_count": 1346,
   "id": "f4ed59ff",
   "metadata": {},
   "outputs": [
    {
     "data": {
      "text/html": [
       "<div>\n",
       "<style scoped>\n",
       "    .dataframe tbody tr th:only-of-type {\n",
       "        vertical-align: middle;\n",
       "    }\n",
       "\n",
       "    .dataframe tbody tr th {\n",
       "        vertical-align: top;\n",
       "    }\n",
       "\n",
       "    .dataframe thead th {\n",
       "        text-align: right;\n",
       "    }\n",
       "</style>\n",
       "<table border=\"1\" class=\"dataframe\">\n",
       "  <thead>\n",
       "    <tr style=\"text-align: right;\">\n",
       "      <th></th>\n",
       "      <th>지역</th>\n",
       "      <th>공가수</th>\n",
       "      <th>지하철</th>\n",
       "      <th>버스</th>\n",
       "      <th>단지내주차면수</th>\n",
       "      <th>조정총세대수</th>\n",
       "      <th>실거주세대수</th>\n",
       "      <th>상가세대수</th>\n",
       "      <th>대형</th>\n",
       "      <th>소형</th>\n",
       "      <th>...</th>\n",
       "      <th>L</th>\n",
       "      <th>M</th>\n",
       "      <th>N</th>\n",
       "      <th>면적당환산보증금가중평균</th>\n",
       "      <th>면적당환산보증금세대수합계</th>\n",
       "      <th>쓰리룸</th>\n",
       "      <th>오룸</th>\n",
       "      <th>원룸</th>\n",
       "      <th>투룸</th>\n",
       "      <th>포룸</th>\n",
       "    </tr>\n",
       "  </thead>\n",
       "  <tbody>\n",
       "    <tr>\n",
       "      <th>0</th>\n",
       "      <td>3</td>\n",
       "      <td>38.0</td>\n",
       "      <td>0.0</td>\n",
       "      <td>3.0</td>\n",
       "      <td>1425.0</td>\n",
       "      <td>900</td>\n",
       "      <td>862.0</td>\n",
       "      <td>0.0</td>\n",
       "      <td>0.0</td>\n",
       "      <td>149.0</td>\n",
       "      <td>...</td>\n",
       "      <td>0.0</td>\n",
       "      <td>0.0</td>\n",
       "      <td>0.0</td>\n",
       "      <td>1.704545e+06</td>\n",
       "      <td>1.534091e+09</td>\n",
       "      <td>665.0</td>\n",
       "      <td>0.0</td>\n",
       "      <td>0.0</td>\n",
       "      <td>149.0</td>\n",
       "      <td>86.0</td>\n",
       "    </tr>\n",
       "    <tr>\n",
       "      <th>8</th>\n",
       "      <td>10</td>\n",
       "      <td>17.0</td>\n",
       "      <td>0.0</td>\n",
       "      <td>3.0</td>\n",
       "      <td>624.0</td>\n",
       "      <td>545</td>\n",
       "      <td>528.0</td>\n",
       "      <td>0.0</td>\n",
       "      <td>0.0</td>\n",
       "      <td>356.0</td>\n",
       "      <td>...</td>\n",
       "      <td>0.0</td>\n",
       "      <td>0.0</td>\n",
       "      <td>0.0</td>\n",
       "      <td>1.351388e+06</td>\n",
       "      <td>7.365063e+08</td>\n",
       "      <td>189.0</td>\n",
       "      <td>0.0</td>\n",
       "      <td>276.0</td>\n",
       "      <td>80.0</td>\n",
       "      <td>0.0</td>\n",
       "    </tr>\n",
       "    <tr>\n",
       "      <th>15</th>\n",
       "      <td>13</td>\n",
       "      <td>13.0</td>\n",
       "      <td>1.0</td>\n",
       "      <td>1.0</td>\n",
       "      <td>1285.0</td>\n",
       "      <td>1216</td>\n",
       "      <td>1203.0</td>\n",
       "      <td>0.0</td>\n",
       "      <td>0.0</td>\n",
       "      <td>390.0</td>\n",
       "      <td>...</td>\n",
       "      <td>0.0</td>\n",
       "      <td>0.0</td>\n",
       "      <td>0.0</td>\n",
       "      <td>2.150332e+06</td>\n",
       "      <td>2.614804e+09</td>\n",
       "      <td>464.0</td>\n",
       "      <td>0.0</td>\n",
       "      <td>390.0</td>\n",
       "      <td>362.0</td>\n",
       "      <td>0.0</td>\n",
       "    </tr>\n",
       "    <tr>\n",
       "      <th>26</th>\n",
       "      <td>1</td>\n",
       "      <td>6.0</td>\n",
       "      <td>1.0</td>\n",
       "      <td>3.0</td>\n",
       "      <td>734.0</td>\n",
       "      <td>755</td>\n",
       "      <td>749.0</td>\n",
       "      <td>0.0</td>\n",
       "      <td>0.0</td>\n",
       "      <td>240.0</td>\n",
       "      <td>...</td>\n",
       "      <td>0.0</td>\n",
       "      <td>0.0</td>\n",
       "      <td>0.0</td>\n",
       "      <td>1.742903e+06</td>\n",
       "      <td>1.315892e+09</td>\n",
       "      <td>303.0</td>\n",
       "      <td>0.0</td>\n",
       "      <td>0.0</td>\n",
       "      <td>240.0</td>\n",
       "      <td>212.0</td>\n",
       "    </tr>\n",
       "    <tr>\n",
       "      <th>32</th>\n",
       "      <td>8</td>\n",
       "      <td>14.0</td>\n",
       "      <td>0.0</td>\n",
       "      <td>2.0</td>\n",
       "      <td>645.0</td>\n",
       "      <td>696</td>\n",
       "      <td>682.0</td>\n",
       "      <td>0.0</td>\n",
       "      <td>0.0</td>\n",
       "      <td>254.0</td>\n",
       "      <td>...</td>\n",
       "      <td>0.0</td>\n",
       "      <td>0.0</td>\n",
       "      <td>0.0</td>\n",
       "      <td>1.410867e+06</td>\n",
       "      <td>9.819637e+08</td>\n",
       "      <td>442.0</td>\n",
       "      <td>0.0</td>\n",
       "      <td>0.0</td>\n",
       "      <td>254.0</td>\n",
       "      <td>0.0</td>\n",
       "    </tr>\n",
       "    <tr>\n",
       "      <th>...</th>\n",
       "      <td>...</td>\n",
       "      <td>...</td>\n",
       "      <td>...</td>\n",
       "      <td>...</td>\n",
       "      <td>...</td>\n",
       "      <td>...</td>\n",
       "      <td>...</td>\n",
       "      <td>...</td>\n",
       "      <td>...</td>\n",
       "      <td>...</td>\n",
       "      <td>...</td>\n",
       "      <td>...</td>\n",
       "      <td>...</td>\n",
       "      <td>...</td>\n",
       "      <td>...</td>\n",
       "      <td>...</td>\n",
       "      <td>...</td>\n",
       "      <td>...</td>\n",
       "      <td>...</td>\n",
       "      <td>...</td>\n",
       "      <td>...</td>\n",
       "    </tr>\n",
       "    <tr>\n",
       "      <th>2374</th>\n",
       "      <td>12</td>\n",
       "      <td>7.0</td>\n",
       "      <td>0.0</td>\n",
       "      <td>3.0</td>\n",
       "      <td>66.0</td>\n",
       "      <td>90</td>\n",
       "      <td>83.0</td>\n",
       "      <td>0.0</td>\n",
       "      <td>0.0</td>\n",
       "      <td>90.0</td>\n",
       "      <td>...</td>\n",
       "      <td>0.0</td>\n",
       "      <td>0.0</td>\n",
       "      <td>0.0</td>\n",
       "      <td>2.462206e+06</td>\n",
       "      <td>2.215985e+08</td>\n",
       "      <td>0.0</td>\n",
       "      <td>0.0</td>\n",
       "      <td>54.0</td>\n",
       "      <td>36.0</td>\n",
       "      <td>0.0</td>\n",
       "    </tr>\n",
       "    <tr>\n",
       "      <th>2379</th>\n",
       "      <td>9</td>\n",
       "      <td>24.0</td>\n",
       "      <td>0.0</td>\n",
       "      <td>1.0</td>\n",
       "      <td>521.0</td>\n",
       "      <td>492</td>\n",
       "      <td>468.0</td>\n",
       "      <td>0.0</td>\n",
       "      <td>0.0</td>\n",
       "      <td>312.0</td>\n",
       "      <td>...</td>\n",
       "      <td>0.0</td>\n",
       "      <td>0.0</td>\n",
       "      <td>0.0</td>\n",
       "      <td>1.992450e+06</td>\n",
       "      <td>9.802854e+08</td>\n",
       "      <td>180.0</td>\n",
       "      <td>0.0</td>\n",
       "      <td>156.0</td>\n",
       "      <td>156.0</td>\n",
       "      <td>0.0</td>\n",
       "    </tr>\n",
       "    <tr>\n",
       "      <th>2384</th>\n",
       "      <td>15</td>\n",
       "      <td>7.0</td>\n",
       "      <td>1.0</td>\n",
       "      <td>2.0</td>\n",
       "      <td>25.0</td>\n",
       "      <td>40</td>\n",
       "      <td>33.0</td>\n",
       "      <td>0.0</td>\n",
       "      <td>0.0</td>\n",
       "      <td>40.0</td>\n",
       "      <td>...</td>\n",
       "      <td>40.0</td>\n",
       "      <td>0.0</td>\n",
       "      <td>0.0</td>\n",
       "      <td>2.877206e+06</td>\n",
       "      <td>1.150882e+08</td>\n",
       "      <td>0.0</td>\n",
       "      <td>0.0</td>\n",
       "      <td>25.0</td>\n",
       "      <td>15.0</td>\n",
       "      <td>0.0</td>\n",
       "    </tr>\n",
       "    <tr>\n",
       "      <th>2387</th>\n",
       "      <td>6</td>\n",
       "      <td>12.0</td>\n",
       "      <td>0.0</td>\n",
       "      <td>1.0</td>\n",
       "      <td>30.0</td>\n",
       "      <td>90</td>\n",
       "      <td>78.0</td>\n",
       "      <td>0.0</td>\n",
       "      <td>0.0</td>\n",
       "      <td>90.0</td>\n",
       "      <td>...</td>\n",
       "      <td>0.0</td>\n",
       "      <td>0.0</td>\n",
       "      <td>0.0</td>\n",
       "      <td>1.949723e+06</td>\n",
       "      <td>1.754751e+08</td>\n",
       "      <td>0.0</td>\n",
       "      <td>0.0</td>\n",
       "      <td>90.0</td>\n",
       "      <td>0.0</td>\n",
       "      <td>0.0</td>\n",
       "    </tr>\n",
       "    <tr>\n",
       "      <th>2388</th>\n",
       "      <td>9</td>\n",
       "      <td>7.0</td>\n",
       "      <td>0.0</td>\n",
       "      <td>1.0</td>\n",
       "      <td>166.0</td>\n",
       "      <td>239</td>\n",
       "      <td>232.0</td>\n",
       "      <td>0.0</td>\n",
       "      <td>0.0</td>\n",
       "      <td>0.0</td>\n",
       "      <td>...</td>\n",
       "      <td>0.0</td>\n",
       "      <td>0.0</td>\n",
       "      <td>0.0</td>\n",
       "      <td>1.220375e+06</td>\n",
       "      <td>2.916696e+08</td>\n",
       "      <td>239.0</td>\n",
       "      <td>0.0</td>\n",
       "      <td>0.0</td>\n",
       "      <td>0.0</td>\n",
       "      <td>0.0</td>\n",
       "    </tr>\n",
       "  </tbody>\n",
       "</table>\n",
       "<p>423 rows × 35 columns</p>\n",
       "</div>"
      ],
      "text/plain": [
       "      지역   공가수  지하철   버스  단지내주차면수  조정총세대수  실거주세대수  상가세대수   대형     소형  ...  \\\n",
       "0      3  38.0  0.0  3.0   1425.0     900   862.0    0.0  0.0  149.0  ...   \n",
       "8     10  17.0  0.0  3.0    624.0     545   528.0    0.0  0.0  356.0  ...   \n",
       "15    13  13.0  1.0  1.0   1285.0    1216  1203.0    0.0  0.0  390.0  ...   \n",
       "26     1   6.0  1.0  3.0    734.0     755   749.0    0.0  0.0  240.0  ...   \n",
       "32     8  14.0  0.0  2.0    645.0     696   682.0    0.0  0.0  254.0  ...   \n",
       "...   ..   ...  ...  ...      ...     ...     ...    ...  ...    ...  ...   \n",
       "2374  12   7.0  0.0  3.0     66.0      90    83.0    0.0  0.0   90.0  ...   \n",
       "2379   9  24.0  0.0  1.0    521.0     492   468.0    0.0  0.0  312.0  ...   \n",
       "2384  15   7.0  1.0  2.0     25.0      40    33.0    0.0  0.0   40.0  ...   \n",
       "2387   6  12.0  0.0  1.0     30.0      90    78.0    0.0  0.0   90.0  ...   \n",
       "2388   9   7.0  0.0  1.0    166.0     239   232.0    0.0  0.0    0.0  ...   \n",
       "\n",
       "         L    M    N  면적당환산보증금가중평균  면적당환산보증금세대수합계    쓰리룸   오룸     원룸     투룸  \\\n",
       "0      0.0  0.0  0.0  1.704545e+06   1.534091e+09  665.0  0.0    0.0  149.0   \n",
       "8      0.0  0.0  0.0  1.351388e+06   7.365063e+08  189.0  0.0  276.0   80.0   \n",
       "15     0.0  0.0  0.0  2.150332e+06   2.614804e+09  464.0  0.0  390.0  362.0   \n",
       "26     0.0  0.0  0.0  1.742903e+06   1.315892e+09  303.0  0.0    0.0  240.0   \n",
       "32     0.0  0.0  0.0  1.410867e+06   9.819637e+08  442.0  0.0    0.0  254.0   \n",
       "...    ...  ...  ...           ...            ...    ...  ...    ...    ...   \n",
       "2374   0.0  0.0  0.0  2.462206e+06   2.215985e+08    0.0  0.0   54.0   36.0   \n",
       "2379   0.0  0.0  0.0  1.992450e+06   9.802854e+08  180.0  0.0  156.0  156.0   \n",
       "2384  40.0  0.0  0.0  2.877206e+06   1.150882e+08    0.0  0.0   25.0   15.0   \n",
       "2387   0.0  0.0  0.0  1.949723e+06   1.754751e+08    0.0  0.0   90.0    0.0   \n",
       "2388   0.0  0.0  0.0  1.220375e+06   2.916696e+08  239.0  0.0    0.0    0.0   \n",
       "\n",
       "         포룸  \n",
       "0      86.0  \n",
       "8       0.0  \n",
       "15      0.0  \n",
       "26    212.0  \n",
       "32      0.0  \n",
       "...     ...  \n",
       "2374    0.0  \n",
       "2379    0.0  \n",
       "2384    0.0  \n",
       "2387    0.0  \n",
       "2388    0.0  \n",
       "\n",
       "[423 rows x 35 columns]"
      ]
     },
     "execution_count": 1346,
     "metadata": {},
     "output_type": "execute_result"
    }
   ],
   "source": [
    "x_train"
   ]
  },
  {
   "cell_type": "code",
   "execution_count": 1347,
   "id": "9e7d9520",
   "metadata": {},
   "outputs": [],
   "source": [
    "rf = RandomForestRegressor(random_state=42, oob_score=True, criterion='mse', n_estimators=200)\n",
    "rf.fit(x_train, y_train)\n",
    "pred = rf.predict(x_test)"
   ]
  },
  {
   "cell_type": "code",
   "execution_count": 1348,
   "id": "b296b593",
   "metadata": {},
   "outputs": [
    {
     "data": {
      "text/plain": [
       "0.7722773633777599"
      ]
     },
     "execution_count": 1348,
     "metadata": {},
     "output_type": "execute_result"
    }
   ],
   "source": [
    "rf.oob_score_"
   ]
  },
  {
   "cell_type": "code",
   "execution_count": 1352,
   "id": "73749861",
   "metadata": {},
   "outputs": [
    {
     "data": {
      "image/png": "[encoded data removed]",
      "text/plain": [
       "<Figure size 864x720 with 1 Axes>"
      ]
     },
     "metadata": {
      "needs_background": "light"
     },
     "output_type": "display_data"
    }
   ],
   "source": [
    "warnings.simplefilter(action='ignore', category=FutureWarning)\n",
    "plt.rcParams[\"font.size\"] = \"9\"\n",
    "\n",
    "fe_avg = pd.DataFrame(rf.feature_importances_,\n",
    "                      index=x_train.columns, columns=['fe']).sort_values(by=['fe'], ascending=False)\n",
    "\n",
    "plt.figure(figsize=(12, 10))\n",
    "plots = sns.barplot(fe_avg.fe, y=fe_avg.index)\n",
    "\n",
    "# Annotate every single Bar with its value, based on it's width           \n",
    "for bar in plots.patches:\n",
    "    width = bar.get_width()\n",
    "    plt.text(0.015+ bar.get_width(),\n",
    "             bar.get_y() + 0.5 * bar.get_height(),\n",
    "             '{:.3f}'.format(width),\n",
    "             ha='center', va='center')\n",
    "\n",
    "plt.show()"
   ]
  },
  {
   "cell_type": "code",
   "execution_count": 1353,
   "id": "8d41df7b",
   "metadata": {},
   "outputs": [],
   "source": [
    "sub.num = pred"
   ]
  },
  {
   "cell_type": "code",
   "execution_count": 1354,
   "id": "48f240f3",
   "metadata": {},
   "outputs": [
    {
     "data": {
      "text/html": [
       "<div>\n",
       "<style scoped>\n",
       "    .dataframe tbody tr th:only-of-type {\n",
       "        vertical-align: middle;\n",
       "    }\n",
       "\n",
       "    .dataframe tbody tr th {\n",
       "        vertical-align: top;\n",
       "    }\n",
       "\n",
       "    .dataframe thead th {\n",
       "        text-align: right;\n",
       "    }\n",
       "</style>\n",
       "<table border=\"1\" class=\"dataframe\">\n",
       "  <thead>\n",
       "    <tr style=\"text-align: right;\">\n",
       "      <th></th>\n",
       "      <th>code</th>\n",
       "      <th>num</th>\n",
       "    </tr>\n",
       "  </thead>\n",
       "  <tbody>\n",
       "    <tr>\n",
       "      <th>0</th>\n",
       "      <td>C1072</td>\n",
       "      <td>796.145</td>\n",
       "    </tr>\n",
       "    <tr>\n",
       "      <th>1</th>\n",
       "      <td>C1128</td>\n",
       "      <td>1163.945</td>\n",
       "    </tr>\n",
       "    <tr>\n",
       "      <th>2</th>\n",
       "      <td>C1456</td>\n",
       "      <td>532.225</td>\n",
       "    </tr>\n",
       "    <tr>\n",
       "      <th>3</th>\n",
       "      <td>C1840</td>\n",
       "      <td>516.220</td>\n",
       "    </tr>\n",
       "    <tr>\n",
       "      <th>4</th>\n",
       "      <td>C1332</td>\n",
       "      <td>1047.970</td>\n",
       "    </tr>\n",
       "    <tr>\n",
       "      <th>...</th>\n",
       "      <td>...</td>\n",
       "      <td>...</td>\n",
       "    </tr>\n",
       "    <tr>\n",
       "      <th>145</th>\n",
       "      <td>C2456</td>\n",
       "      <td>199.960</td>\n",
       "    </tr>\n",
       "    <tr>\n",
       "      <th>146</th>\n",
       "      <td>C1266</td>\n",
       "      <td>473.580</td>\n",
       "    </tr>\n",
       "    <tr>\n",
       "      <th>147</th>\n",
       "      <td>C2152</td>\n",
       "      <td>45.645</td>\n",
       "    </tr>\n",
       "    <tr>\n",
       "      <th>148</th>\n",
       "      <td>C1267</td>\n",
       "      <td>338.750</td>\n",
       "    </tr>\n",
       "    <tr>\n",
       "      <th>149</th>\n",
       "      <td>C2189</td>\n",
       "      <td>225.245</td>\n",
       "    </tr>\n",
       "  </tbody>\n",
       "</table>\n",
       "<p>150 rows × 2 columns</p>\n",
       "</div>"
      ],
      "text/plain": [
       "      code       num\n",
       "0    C1072   796.145\n",
       "1    C1128  1163.945\n",
       "2    C1456   532.225\n",
       "3    C1840   516.220\n",
       "4    C1332  1047.970\n",
       "..     ...       ...\n",
       "145  C2456   199.960\n",
       "146  C1266   473.580\n",
       "147  C2152    45.645\n",
       "148  C1267   338.750\n",
       "149  C2189   225.245\n",
       "\n",
       "[150 rows x 2 columns]"
      ]
     },
     "execution_count": 1354,
     "metadata": {},
     "output_type": "execute_result"
    }
   ],
   "source": [
    "sub"
   ]
  },
  {
   "cell_type": "code",
   "execution_count": 1355,
   "id": "b4f8cdda",
   "metadata": {},
   "outputs": [],
   "source": [
    "sub.to_csv('submission/parking_210619_inputAll.csv', index=False)"
   ]
  },
  {
   "cell_type": "markdown",
   "id": "f139504a",
   "metadata": {},
   "source": [
    "#### 210615 실험\n",
    "\n",
    "1. 소수의 데이터를 다수의 데이터로 바꾸고 모델링\n",
    "2. 소수의 데이터를 그대로 두고, test set에 빈 컬럼을 만들어서라도 모델링\n",
    "3. 소수의 데이터를 그대로 두고, drop 해버리고 모델링\n",
    "\n",
    "결론: 3번이 우세"
   ]
  },
  {
   "cell_type": "markdown",
   "id": "460fd584",
   "metadata": {},
   "source": [
    "#### 210616 실험\n",
    "\n",
    "- 전 실험을 MAE에서 MSE로 똑같이 진행\n",
    "\n",
    "결론: MSE가 우세"
   ]
  },
  {
   "cell_type": "markdown",
   "id": "98e5bd78",
   "metadata": {},
   "source": [
    "#### 210617 실험\n",
    "\n",
    "1. new환산보증금: 114.9096\n",
    "2. 상가를 빼고 집계: 결과가 같다. 상가를 넣지 않고 하고 있었다.\n",
    "3. 공급유형을 그대로 두고, test set에 빈 컬럼을 만들기 : 131.316"
   ]
  },
  {
   "cell_type": "markdown",
   "id": "a1fef41e",
   "metadata": {},
   "source": [
    "#### 210618 실험\n",
    "\n",
    "1. 공급유형을 그대로 두고, drop 해버리고 모델링 : 113.263<br>\n",
    "이정도면 최빈값으로 바꾸는 행위는 하지 않는 게 맞는 것 같다. 차라리 그냥 드랍을 시켜라\n",
    "2. 상가세대수 넣어주기: 113.7165\n",
    "3. 총세대수 제대로 넣어주기: 117.7521"
   ]
  },
  {
   "cell_type": "markdown",
   "id": "c809f1ac",
   "metadata": {},
   "source": [
    "*테스트 데이터에 버스 정류장 50개 짜리 20개로 바꿔야 하나 말아야 하나*"
   ]
  },
  {
   "cell_type": "markdown",
   "id": "9d8c24fb",
   "metadata": {},
   "source": [
    "#### 210619 실험\n",
    "1. all new std deposit\n",
    "2. summation units product std deposit\n",
    "3. and so on"
   ]
  },
  {
   "cell_type": "markdown",
   "id": "85a6c1ea",
   "metadata": {},
   "source": [
    "#### 210620 실험\n",
    "1. add rooms\n",
    "2. change unitype to rooms\n",
    "3. and so on"
   ]
  },
  {
   "cell_type": "markdown",
   "id": "b3a10898",
   "metadata": {},
   "source": [
    "#### 210621 실험\n",
    "1. add age_gender\n",
    "2. change region to age_gender\n",
    "3. and so on"
   ]
  },
  {
   "cell_type": "code",
   "execution_count": null,
   "id": "f6a7f7b8",
   "metadata": {},
   "outputs": [],
   "source": []
  },
  {
   "cell_type": "code",
   "execution_count": null,
   "id": "f2295266",
   "metadata": {},
   "outputs": [],
   "source": []
  },
  {
   "cell_type": "code",
   "execution_count": null,
   "id": "624778f7",
   "metadata": {},
   "outputs": [],
   "source": []
  },
  {
   "cell_type": "code",
   "execution_count": null,
   "id": "120647bc",
   "metadata": {},
   "outputs": [],
   "source": []
  },
  {
   "cell_type": "code",
   "execution_count": null,
   "id": "cbae4d43",
   "metadata": {},
   "outputs": [],
   "source": []
  },
  {
   "cell_type": "code",
   "execution_count": null,
   "id": "7b8d4daf",
   "metadata": {},
   "outputs": [],
   "source": []
  },
  {
   "cell_type": "markdown",
   "id": "4cc33911",
   "metadata": {},
   "source": [
    "### LGBM은 나중에"
   ]
  },
  {
   "cell_type": "code",
   "execution_count": 1117,
   "id": "b42a833e",
   "metadata": {},
   "outputs": [],
   "source": [
    "from sklearn.model_selection import KFold\n",
    "from lightgbm import LGBMRegressor"
   ]
  },
  {
   "cell_type": "code",
   "execution_count": 1356,
   "id": "536befba",
   "metadata": {},
   "outputs": [],
   "source": [
    "N_FOLD = 5"
   ]
  },
  {
   "cell_type": "code",
   "execution_count": 1357,
   "id": "7edf196a",
   "metadata": {},
   "outputs": [
    {
     "name": "stdout",
     "output_type": "stream",
     "text": [
      "Training until validation scores don't improve for 30 rounds\n",
      "[100]\ttraining's l2: 21432.2\tvalid_1's l2: 36291.7\n",
      "[200]\ttraining's l2: 13018.8\tvalid_1's l2: 33928.9\n",
      "Early stopping, best iteration is:\n",
      "[244]\ttraining's l2: 11268.3\tvalid_1's l2: 33063.3\n",
      "Training until validation scores don't improve for 30 rounds\n",
      "[100]\ttraining's l2: 22191.4\tvalid_1's l2: 34267.6\n",
      "[200]\ttraining's l2: 13864.8\tvalid_1's l2: 32669\n",
      "Early stopping, best iteration is:\n",
      "[190]\ttraining's l2: 14481.4\tvalid_1's l2: 32586.7\n",
      "Training until validation scores don't improve for 30 rounds\n",
      "[100]\ttraining's l2: 21736.7\tvalid_1's l2: 36173.6\n",
      "Early stopping, best iteration is:\n",
      "[138]\ttraining's l2: 17105.7\tvalid_1's l2: 34473.1\n",
      "Training until validation scores don't improve for 30 rounds\n",
      "[100]\ttraining's l2: 17372.7\tvalid_1's l2: 48985.7\n",
      "Early stopping, best iteration is:\n",
      "[122]\ttraining's l2: 15030.6\tvalid_1's l2: 48822.3\n",
      "Training until validation scores don't improve for 30 rounds\n",
      "[100]\ttraining's l2: 20943.1\tvalid_1's l2: 35031.3\n",
      "Early stopping, best iteration is:\n",
      "[106]\ttraining's l2: 20053.4\tvalid_1's l2: 34858.7\n"
     ]
    }
   ],
   "source": [
    "kfold = KFold(n_splits=N_FOLD, shuffle=True, random_state=42)\n",
    "folds = []\n",
    "for train_idx, valid_idx in kfold.split(x_train, y_train):\n",
    "    folds.append((train_idx, valid_idx))\n",
    "\n",
    "preds = []\n",
    "fe = []\n",
    "models = {}\n",
    "for fold in range(5):\n",
    "    train_idx, valid_idx = folds[fold]\n",
    "    X_tra = x_train.iloc[train_idx, :]\n",
    "    y_tra = y_train.iloc[train_idx]\n",
    "    X_val = x_train.iloc[valid_idx, :]\n",
    "    y_val = y_train.iloc[valid_idx]\n",
    "\n",
    "    model=LGBMRegressor(learning_rate=0.027, random_state=42, n_estimators=10000)\n",
    "    model.fit(X_tra, y_tra, eval_set=[(X_tra, y_tra), (X_val, y_val)],\n",
    "              eval_metric='mse',\n",
    "              early_stopping_rounds=30, verbose=100)\n",
    "    models[fold]=model\n",
    "\n",
    "for k in range(N_FOLD):\n",
    "    preds.append(models[k].predict(x_test))\n",
    "    fe.append(models[k].feature_importances_)"
   ]
  },
  {
   "cell_type": "code",
   "execution_count": 1358,
   "id": "293b3141",
   "metadata": {},
   "outputs": [
    {
     "data": {
      "image/png": "[encoded data removed]",
      "text/plain": [
       "<Figure size 1152x576 with 1 Axes>"
      ]
     },
     "metadata": {
      "needs_background": "light"
     },
     "output_type": "display_data"
    }
   ],
   "source": [
    "warnings.simplefilter(action='ignore', category=FutureWarning)\n",
    "plt.rcParams[\"font.size\"] = \"14\"\n",
    "\n",
    "fe_avg = pd.DataFrame(np.array(fe).mean(axis=0),\n",
    "                      index=x_train.columns, columns=['fe']).sort_values(by=['fe'], ascending=False)\n",
    "\n",
    "plt.figure(figsize=(16, 8))\n",
    "plots = sns.barplot(fe_avg.fe, y=fe_avg.index)\n",
    "\n",
    "# Annotate every single Bar with its value, based on it's width           \n",
    "for bar in plots.patches:\n",
    "    width = bar.get_width()\n",
    "    plt.text(0.015+ bar.get_width(),\n",
    "             bar.get_y() + 0.5 * bar.get_height(),\n",
    "             '{:.3f}'.format(width),\n",
    "             ha='center', va='center')\n",
    "\n",
    "plt.show()"
   ]
  },
  {
   "cell_type": "code",
   "execution_count": 1359,
   "id": "c253703b",
   "metadata": {},
   "outputs": [],
   "source": [
    "sub.num = np.array(preds).mean(axis=0)"
   ]
  },
  {
   "cell_type": "code",
   "execution_count": 1360,
   "id": "42bd7330",
   "metadata": {},
   "outputs": [
    {
     "data": {
      "text/html": [
       "<div>\n",
       "<style scoped>\n",
       "    .dataframe tbody tr th:only-of-type {\n",
       "        vertical-align: middle;\n",
       "    }\n",
       "\n",
       "    .dataframe tbody tr th {\n",
       "        vertical-align: top;\n",
       "    }\n",
       "\n",
       "    .dataframe thead th {\n",
       "        text-align: right;\n",
       "    }\n",
       "</style>\n",
       "<table border=\"1\" class=\"dataframe\">\n",
       "  <thead>\n",
       "    <tr style=\"text-align: right;\">\n",
       "      <th></th>\n",
       "      <th>code</th>\n",
       "      <th>num</th>\n",
       "    </tr>\n",
       "  </thead>\n",
       "  <tbody>\n",
       "    <tr>\n",
       "      <th>0</th>\n",
       "      <td>C1072</td>\n",
       "      <td>851.288486</td>\n",
       "    </tr>\n",
       "    <tr>\n",
       "      <th>1</th>\n",
       "      <td>C1128</td>\n",
       "      <td>1363.889822</td>\n",
       "    </tr>\n",
       "    <tr>\n",
       "      <th>2</th>\n",
       "      <td>C1456</td>\n",
       "      <td>531.838957</td>\n",
       "    </tr>\n",
       "    <tr>\n",
       "      <th>3</th>\n",
       "      <td>C1840</td>\n",
       "      <td>489.107501</td>\n",
       "    </tr>\n",
       "    <tr>\n",
       "      <th>4</th>\n",
       "      <td>C1332</td>\n",
       "      <td>1222.695551</td>\n",
       "    </tr>\n",
       "    <tr>\n",
       "      <th>...</th>\n",
       "      <td>...</td>\n",
       "      <td>...</td>\n",
       "    </tr>\n",
       "    <tr>\n",
       "      <th>145</th>\n",
       "      <td>C2456</td>\n",
       "      <td>210.630679</td>\n",
       "    </tr>\n",
       "    <tr>\n",
       "      <th>146</th>\n",
       "      <td>C1266</td>\n",
       "      <td>475.031896</td>\n",
       "    </tr>\n",
       "    <tr>\n",
       "      <th>147</th>\n",
       "      <td>C2152</td>\n",
       "      <td>91.395534</td>\n",
       "    </tr>\n",
       "    <tr>\n",
       "      <th>148</th>\n",
       "      <td>C1267</td>\n",
       "      <td>286.148502</td>\n",
       "    </tr>\n",
       "    <tr>\n",
       "      <th>149</th>\n",
       "      <td>C2189</td>\n",
       "      <td>216.777180</td>\n",
       "    </tr>\n",
       "  </tbody>\n",
       "</table>\n",
       "<p>150 rows × 2 columns</p>\n",
       "</div>"
      ],
      "text/plain": [
       "      code          num\n",
       "0    C1072   851.288486\n",
       "1    C1128  1363.889822\n",
       "2    C1456   531.838957\n",
       "3    C1840   489.107501\n",
       "4    C1332  1222.695551\n",
       "..     ...          ...\n",
       "145  C2456   210.630679\n",
       "146  C1266   475.031896\n",
       "147  C2152    91.395534\n",
       "148  C1267   286.148502\n",
       "149  C2189   216.777180\n",
       "\n",
       "[150 rows x 2 columns]"
      ]
     },
     "execution_count": 1360,
     "metadata": {},
     "output_type": "execute_result"
    }
   ],
   "source": [
    "sub"
   ]
  },
  {
   "cell_type": "code",
   "execution_count": 1200,
   "id": "3d2bb373",
   "metadata": {},
   "outputs": [],
   "source": [
    "sub.to_csv('submission/parking_210619_kfoldlgbm.csv', index=False)"
   ]
  },
  {
   "cell_type": "code",
   "execution_count": 1361,
   "id": "24546b86",
   "metadata": {},
   "outputs": [],
   "source": [
    "from sklearn.neighbors import KNeighborsRegressor"
   ]
  },
  {
   "cell_type": "code",
   "execution_count": 1363,
   "id": "5b8a998f",
   "metadata": {},
   "outputs": [],
   "source": [
    "knn = KNeighborsRegressor()"
   ]
  },
  {
   "cell_type": "code",
   "execution_count": 1364,
   "id": "36aec70d",
   "metadata": {},
   "outputs": [
    {
     "data": {
      "text/plain": [
       "KNeighborsRegressor()"
      ]
     },
     "execution_count": 1364,
     "metadata": {},
     "output_type": "execute_result"
    }
   ],
   "source": [
    "knn.fit(x_train, y_train)"
   ]
  },
  {
   "cell_type": "code",
   "execution_count": 1366,
   "id": "e9eb4989",
   "metadata": {},
   "outputs": [],
   "source": [
    "pred = knn.predict(x_test)"
   ]
  },
  {
   "cell_type": "code",
   "execution_count": 1368,
   "id": "24164154",
   "metadata": {},
   "outputs": [
    {
     "data": {
      "text/plain": [
       "array([ 897., 1200.,  812.,  323., 1455., 1508.,  810.,  505.,  427.,\n",
       "        271.,  327.,  916.,  149.,  546.,  817.,  499.,  346.,  427.,\n",
       "        529.,  905.,  955.,  391.,  573.,  513.,  573.,  391.,  425.,\n",
       "        524.,  455.,  639.,  813.,  123.,  415.,  451.,  452.,  315.,\n",
       "        487.,  524.,  635.,  266.,  327.,  115.,  278.,  903.,  917.,\n",
       "        762.,  281.,  275.,  278.,  387.,  775.,  266.,  762.,  566.,\n",
       "        392.,  248.,  610.,  290.,  419.,  248.,  241.,  779.,  826.,\n",
       "        460.,   93.,  266.,  557.,  899.,  447.,  329.,  503.,  224.,\n",
       "        529.,  775.,  614.,  484.,  566.,  493.,  625.,  582.,  891.,\n",
       "        770.,  402.,  276.,  233.,  208.,  287.,  228.,  394.,  924.,\n",
       "        493.,  540.,  285.,  652.,  722.,  762.,  773.,  609.,  706.,\n",
       "        582.,  728.,  241.,  722.,  573.,  722.,  762., 1455.,  623.,\n",
       "       1016.,  404.,  623.,  683.,  635.,  812.,  775.,  404.,  230.,\n",
       "        811.,  582.,  497.,  506.,  944.,  901.,  522.,  641.,  275.,\n",
       "        729.,  609.,   92.,  185.,  123.,  566.,  828.,  345.,  574.,\n",
       "        496.,  722.,  700.,  826.,  111.,   31.,  123.,  261.,  367.,\n",
       "        566.,  355.,  592.,   47.,  529.,  441.])"
      ]
     },
     "execution_count": 1368,
     "metadata": {},
     "output_type": "execute_result"
    }
   ],
   "source": [
    "pred.round()"
   ]
  },
  {
   "cell_type": "code",
   "execution_count": 1371,
   "id": "0bf78c57",
   "metadata": {},
   "outputs": [],
   "source": [
    "x_test['pred'] = pred.round()"
   ]
  },
  {
   "cell_type": "code",
   "execution_count": 1375,
   "id": "6e8a4b9a",
   "metadata": {},
   "outputs": [
    {
     "data": {
      "text/html": [
       "<div>\n",
       "<style scoped>\n",
       "    .dataframe tbody tr th:only-of-type {\n",
       "        vertical-align: middle;\n",
       "    }\n",
       "\n",
       "    .dataframe tbody tr th {\n",
       "        vertical-align: top;\n",
       "    }\n",
       "\n",
       "    .dataframe thead th {\n",
       "        text-align: right;\n",
       "    }\n",
       "</style>\n",
       "<table border=\"1\" class=\"dataframe\">\n",
       "  <thead>\n",
       "    <tr style=\"text-align: right;\">\n",
       "      <th></th>\n",
       "      <th>지역</th>\n",
       "      <th>단지내주차면수</th>\n",
       "      <th>조정총세대수</th>\n",
       "      <th>면적당환산보증금가중평균</th>\n",
       "      <th>pred</th>\n",
       "    </tr>\n",
       "  </thead>\n",
       "  <tbody>\n",
       "    <tr>\n",
       "      <th>0</th>\n",
       "      <td>1</td>\n",
       "      <td>683.0</td>\n",
       "      <td>754</td>\n",
       "      <td>2.699787e+06</td>\n",
       "      <td>897.0</td>\n",
       "    </tr>\n",
       "    <tr>\n",
       "      <th>8</th>\n",
       "      <td>1</td>\n",
       "      <td>1216.0</td>\n",
       "      <td>1354</td>\n",
       "      <td>2.620921e+06</td>\n",
       "      <td>1200.0</td>\n",
       "    </tr>\n",
       "    <tr>\n",
       "      <th>17</th>\n",
       "      <td>15</td>\n",
       "      <td>547.0</td>\n",
       "      <td>619</td>\n",
       "      <td>2.495365e+06</td>\n",
       "      <td>812.0</td>\n",
       "    </tr>\n",
       "    <tr>\n",
       "      <th>26</th>\n",
       "      <td>8</td>\n",
       "      <td>543.0</td>\n",
       "      <td>593</td>\n",
       "      <td>1.388386e+06</td>\n",
       "      <td>323.0</td>\n",
       "    </tr>\n",
       "    <tr>\n",
       "      <th>30</th>\n",
       "      <td>1</td>\n",
       "      <td>1112.0</td>\n",
       "      <td>1297</td>\n",
       "      <td>3.032639e+06</td>\n",
       "      <td>1455.0</td>\n",
       "    </tr>\n",
       "    <tr>\n",
       "      <th>38</th>\n",
       "      <td>1</td>\n",
       "      <td>1696.0</td>\n",
       "      <td>1974</td>\n",
       "      <td>3.122293e+06</td>\n",
       "      <td>1508.0</td>\n",
       "    </tr>\n",
       "    <tr>\n",
       "      <th>49</th>\n",
       "      <td>8</td>\n",
       "      <td>1098.0</td>\n",
       "      <td>1349</td>\n",
       "      <td>1.567209e+06</td>\n",
       "      <td>810.0</td>\n",
       "    </tr>\n",
       "    <tr>\n",
       "      <th>55</th>\n",
       "      <td>8</td>\n",
       "      <td>470.0</td>\n",
       "      <td>533</td>\n",
       "      <td>1.692125e+06</td>\n",
       "      <td>505.0</td>\n",
       "    </tr>\n",
       "    <tr>\n",
       "      <th>59</th>\n",
       "      <td>10</td>\n",
       "      <td>384.0</td>\n",
       "      <td>470</td>\n",
       "      <td>1.414701e+06</td>\n",
       "      <td>427.0</td>\n",
       "    </tr>\n",
       "    <tr>\n",
       "      <th>64</th>\n",
       "      <td>10</td>\n",
       "      <td>280.0</td>\n",
       "      <td>353</td>\n",
       "      <td>1.060851e+06</td>\n",
       "      <td>271.0</td>\n",
       "    </tr>\n",
       "    <tr>\n",
       "      <th>68</th>\n",
       "      <td>14</td>\n",
       "      <td>442.0</td>\n",
       "      <td>548</td>\n",
       "      <td>1.250919e+06</td>\n",
       "      <td>327.0</td>\n",
       "    </tr>\n",
       "    <tr>\n",
       "      <th>73</th>\n",
       "      <td>13</td>\n",
       "      <td>428.0</td>\n",
       "      <td>1505</td>\n",
       "      <td>1.275939e+06</td>\n",
       "      <td>916.0</td>\n",
       "    </tr>\n",
       "    <tr>\n",
       "      <th>80</th>\n",
       "      <td>13</td>\n",
       "      <td>384.0</td>\n",
       "      <td>427</td>\n",
       "      <td>1.904331e+06</td>\n",
       "      <td>149.0</td>\n",
       "    </tr>\n",
       "    <tr>\n",
       "      <th>85</th>\n",
       "      <td>15</td>\n",
       "      <td>265.0</td>\n",
       "      <td>383</td>\n",
       "      <td>2.798271e+06</td>\n",
       "      <td>546.0</td>\n",
       "    </tr>\n",
       "    <tr>\n",
       "      <th>93</th>\n",
       "      <td>15</td>\n",
       "      <td>418.0</td>\n",
       "      <td>2572</td>\n",
       "      <td>1.271497e+06</td>\n",
       "      <td>817.0</td>\n",
       "    </tr>\n",
       "    <tr>\n",
       "      <th>96</th>\n",
       "      <td>15</td>\n",
       "      <td>210.0</td>\n",
       "      <td>420</td>\n",
       "      <td>2.097735e+06</td>\n",
       "      <td>499.0</td>\n",
       "    </tr>\n",
       "    <tr>\n",
       "      <th>98</th>\n",
       "      <td>12</td>\n",
       "      <td>491.0</td>\n",
       "      <td>602</td>\n",
       "      <td>1.294596e+06</td>\n",
       "      <td>346.0</td>\n",
       "    </tr>\n",
       "    <tr>\n",
       "      <th>102</th>\n",
       "      <td>9</td>\n",
       "      <td>281.0</td>\n",
       "      <td>371</td>\n",
       "      <td>1.787532e+06</td>\n",
       "      <td>427.0</td>\n",
       "    </tr>\n",
       "    <tr>\n",
       "      <th>105</th>\n",
       "      <td>14</td>\n",
       "      <td>187.0</td>\n",
       "      <td>1245</td>\n",
       "      <td>1.038788e+06</td>\n",
       "      <td>529.0</td>\n",
       "    </tr>\n",
       "    <tr>\n",
       "      <th>108</th>\n",
       "      <td>10</td>\n",
       "      <td>840.0</td>\n",
       "      <td>962</td>\n",
       "      <td>1.413807e+06</td>\n",
       "      <td>905.0</td>\n",
       "    </tr>\n",
       "    <tr>\n",
       "      <th>113</th>\n",
       "      <td>11</td>\n",
       "      <td>308.0</td>\n",
       "      <td>1400</td>\n",
       "      <td>1.139653e+06</td>\n",
       "      <td>955.0</td>\n",
       "    </tr>\n",
       "    <tr>\n",
       "      <th>116</th>\n",
       "      <td>11</td>\n",
       "      <td>400.0</td>\n",
       "      <td>534</td>\n",
       "      <td>1.747869e+06</td>\n",
       "      <td>391.0</td>\n",
       "    </tr>\n",
       "    <tr>\n",
       "      <th>118</th>\n",
       "      <td>11</td>\n",
       "      <td>480.0</td>\n",
       "      <td>558</td>\n",
       "      <td>1.823824e+06</td>\n",
       "      <td>573.0</td>\n",
       "    </tr>\n",
       "    <tr>\n",
       "      <th>120</th>\n",
       "      <td>11</td>\n",
       "      <td>548.0</td>\n",
       "      <td>638</td>\n",
       "      <td>1.702687e+06</td>\n",
       "      <td>513.0</td>\n",
       "    </tr>\n",
       "    <tr>\n",
       "      <th>122</th>\n",
       "      <td>11</td>\n",
       "      <td>447.0</td>\n",
       "      <td>494</td>\n",
       "      <td>2.060504e+06</td>\n",
       "      <td>573.0</td>\n",
       "    </tr>\n",
       "    <tr>\n",
       "      <th>124</th>\n",
       "      <td>11</td>\n",
       "      <td>185.0</td>\n",
       "      <td>1021</td>\n",
       "      <td>1.098518e+06</td>\n",
       "      <td>391.0</td>\n",
       "    </tr>\n",
       "    <tr>\n",
       "      <th>126</th>\n",
       "      <td>9</td>\n",
       "      <td>173.0</td>\n",
       "      <td>1161</td>\n",
       "      <td>7.937889e+05</td>\n",
       "      <td>425.0</td>\n",
       "    </tr>\n",
       "    <tr>\n",
       "      <th>129</th>\n",
       "      <td>9</td>\n",
       "      <td>571.0</td>\n",
       "      <td>709</td>\n",
       "      <td>1.763682e+06</td>\n",
       "      <td>524.0</td>\n",
       "    </tr>\n",
       "    <tr>\n",
       "      <th>132</th>\n",
       "      <td>9</td>\n",
       "      <td>593.0</td>\n",
       "      <td>496</td>\n",
       "      <td>2.005141e+06</td>\n",
       "      <td>455.0</td>\n",
       "    </tr>\n",
       "    <tr>\n",
       "      <th>135</th>\n",
       "      <td>9</td>\n",
       "      <td>499.0</td>\n",
       "      <td>584</td>\n",
       "      <td>1.843406e+06</td>\n",
       "      <td>639.0</td>\n",
       "    </tr>\n",
       "    <tr>\n",
       "      <th>137</th>\n",
       "      <td>15</td>\n",
       "      <td>1101.0</td>\n",
       "      <td>1301</td>\n",
       "      <td>1.779662e+06</td>\n",
       "      <td>813.0</td>\n",
       "    </tr>\n",
       "    <tr>\n",
       "      <th>140</th>\n",
       "      <td>12</td>\n",
       "      <td>152.0</td>\n",
       "      <td>207</td>\n",
       "      <td>1.317739e+06</td>\n",
       "      <td>123.0</td>\n",
       "    </tr>\n",
       "    <tr>\n",
       "      <th>142</th>\n",
       "      <td>12</td>\n",
       "      <td>498.0</td>\n",
       "      <td>620</td>\n",
       "      <td>1.545328e+06</td>\n",
       "      <td>415.0</td>\n",
       "    </tr>\n",
       "    <tr>\n",
       "      <th>145</th>\n",
       "      <td>14</td>\n",
       "      <td>226.0</td>\n",
       "      <td>312</td>\n",
       "      <td>2.216317e+06</td>\n",
       "      <td>451.0</td>\n",
       "    </tr>\n",
       "    <tr>\n",
       "      <th>148</th>\n",
       "      <td>9</td>\n",
       "      <td>131.0</td>\n",
       "      <td>627</td>\n",
       "      <td>1.126487e+06</td>\n",
       "      <td>452.0</td>\n",
       "    </tr>\n",
       "    <tr>\n",
       "      <th>156</th>\n",
       "      <td>3</td>\n",
       "      <td>319.0</td>\n",
       "      <td>408</td>\n",
       "      <td>1.090550e+06</td>\n",
       "      <td>315.0</td>\n",
       "    </tr>\n",
       "    <tr>\n",
       "      <th>162</th>\n",
       "      <td>6</td>\n",
       "      <td>425.0</td>\n",
       "      <td>498</td>\n",
       "      <td>1.229088e+06</td>\n",
       "      <td>487.0</td>\n",
       "    </tr>\n",
       "    <tr>\n",
       "      <th>166</th>\n",
       "      <td>1</td>\n",
       "      <td>573.0</td>\n",
       "      <td>663</td>\n",
       "      <td>2.673359e+06</td>\n",
       "      <td>524.0</td>\n",
       "    </tr>\n",
       "    <tr>\n",
       "      <th>172</th>\n",
       "      <td>1</td>\n",
       "      <td>841.0</td>\n",
       "      <td>980</td>\n",
       "      <td>2.539787e+06</td>\n",
       "      <td>635.0</td>\n",
       "    </tr>\n",
       "    <tr>\n",
       "      <th>180</th>\n",
       "      <td>6</td>\n",
       "      <td>333.0</td>\n",
       "      <td>419</td>\n",
       "      <td>1.205912e+06</td>\n",
       "      <td>266.0</td>\n",
       "    </tr>\n",
       "    <tr>\n",
       "      <th>184</th>\n",
       "      <td>8</td>\n",
       "      <td>458.0</td>\n",
       "      <td>540</td>\n",
       "      <td>1.267984e+06</td>\n",
       "      <td>327.0</td>\n",
       "    </tr>\n",
       "    <tr>\n",
       "      <th>189</th>\n",
       "      <td>3</td>\n",
       "      <td>403.0</td>\n",
       "      <td>528</td>\n",
       "      <td>1.530407e+06</td>\n",
       "      <td>115.0</td>\n",
       "    </tr>\n",
       "    <tr>\n",
       "      <th>194</th>\n",
       "      <td>3</td>\n",
       "      <td>378.0</td>\n",
       "      <td>496</td>\n",
       "      <td>1.188615e+06</td>\n",
       "      <td>278.0</td>\n",
       "    </tr>\n",
       "    <tr>\n",
       "      <th>199</th>\n",
       "      <td>1</td>\n",
       "      <td>516.0</td>\n",
       "      <td>593</td>\n",
       "      <td>2.684552e+06</td>\n",
       "      <td>903.0</td>\n",
       "    </tr>\n",
       "    <tr>\n",
       "      <th>206</th>\n",
       "      <td>1</td>\n",
       "      <td>785.0</td>\n",
       "      <td>898</td>\n",
       "      <td>2.716318e+06</td>\n",
       "      <td>917.0</td>\n",
       "    </tr>\n",
       "    <tr>\n",
       "      <th>215</th>\n",
       "      <td>5</td>\n",
       "      <td>1225.0</td>\n",
       "      <td>1442</td>\n",
       "      <td>1.442495e+06</td>\n",
       "      <td>762.0</td>\n",
       "    </tr>\n",
       "    <tr>\n",
       "      <th>220</th>\n",
       "      <td>5</td>\n",
       "      <td>448.0</td>\n",
       "      <td>449</td>\n",
       "      <td>1.750394e+06</td>\n",
       "      <td>281.0</td>\n",
       "    </tr>\n",
       "    <tr>\n",
       "      <th>225</th>\n",
       "      <td>5</td>\n",
       "      <td>562.0</td>\n",
       "      <td>603</td>\n",
       "      <td>1.619546e+06</td>\n",
       "      <td>275.0</td>\n",
       "    </tr>\n",
       "    <tr>\n",
       "      <th>233</th>\n",
       "      <td>5</td>\n",
       "      <td>350.0</td>\n",
       "      <td>496</td>\n",
       "      <td>1.196959e+06</td>\n",
       "      <td>278.0</td>\n",
       "    </tr>\n",
       "    <tr>\n",
       "      <th>237</th>\n",
       "      <td>3</td>\n",
       "      <td>382.0</td>\n",
       "      <td>377</td>\n",
       "      <td>1.716959e+06</td>\n",
       "      <td>387.0</td>\n",
       "    </tr>\n",
       "  </tbody>\n",
       "</table>\n",
       "</div>"
      ],
      "text/plain": [
       "     지역  단지내주차면수  조정총세대수  면적당환산보증금가중평균    pred\n",
       "0     1    683.0     754  2.699787e+06   897.0\n",
       "8     1   1216.0    1354  2.620921e+06  1200.0\n",
       "17   15    547.0     619  2.495365e+06   812.0\n",
       "26    8    543.0     593  1.388386e+06   323.0\n",
       "30    1   1112.0    1297  3.032639e+06  1455.0\n",
       "38    1   1696.0    1974  3.122293e+06  1508.0\n",
       "49    8   1098.0    1349  1.567209e+06   810.0\n",
       "55    8    470.0     533  1.692125e+06   505.0\n",
       "59   10    384.0     470  1.414701e+06   427.0\n",
       "64   10    280.0     353  1.060851e+06   271.0\n",
       "68   14    442.0     548  1.250919e+06   327.0\n",
       "73   13    428.0    1505  1.275939e+06   916.0\n",
       "80   13    384.0     427  1.904331e+06   149.0\n",
       "85   15    265.0     383  2.798271e+06   546.0\n",
       "93   15    418.0    2572  1.271497e+06   817.0\n",
       "96   15    210.0     420  2.097735e+06   499.0\n",
       "98   12    491.0     602  1.294596e+06   346.0\n",
       "102   9    281.0     371  1.787532e+06   427.0\n",
       "105  14    187.0    1245  1.038788e+06   529.0\n",
       "108  10    840.0     962  1.413807e+06   905.0\n",
       "113  11    308.0    1400  1.139653e+06   955.0\n",
       "116  11    400.0     534  1.747869e+06   391.0\n",
       "118  11    480.0     558  1.823824e+06   573.0\n",
       "120  11    548.0     638  1.702687e+06   513.0\n",
       "122  11    447.0     494  2.060504e+06   573.0\n",
       "124  11    185.0    1021  1.098518e+06   391.0\n",
       "126   9    173.0    1161  7.937889e+05   425.0\n",
       "129   9    571.0     709  1.763682e+06   524.0\n",
       "132   9    593.0     496  2.005141e+06   455.0\n",
       "135   9    499.0     584  1.843406e+06   639.0\n",
       "137  15   1101.0    1301  1.779662e+06   813.0\n",
       "140  12    152.0     207  1.317739e+06   123.0\n",
       "142  12    498.0     620  1.545328e+06   415.0\n",
       "145  14    226.0     312  2.216317e+06   451.0\n",
       "148   9    131.0     627  1.126487e+06   452.0\n",
       "156   3    319.0     408  1.090550e+06   315.0\n",
       "162   6    425.0     498  1.229088e+06   487.0\n",
       "166   1    573.0     663  2.673359e+06   524.0\n",
       "172   1    841.0     980  2.539787e+06   635.0\n",
       "180   6    333.0     419  1.205912e+06   266.0\n",
       "184   8    458.0     540  1.267984e+06   327.0\n",
       "189   3    403.0     528  1.530407e+06   115.0\n",
       "194   3    378.0     496  1.188615e+06   278.0\n",
       "199   1    516.0     593  2.684552e+06   903.0\n",
       "206   1    785.0     898  2.716318e+06   917.0\n",
       "215   5   1225.0    1442  1.442495e+06   762.0\n",
       "220   5    448.0     449  1.750394e+06   281.0\n",
       "225   5    562.0     603  1.619546e+06   275.0\n",
       "233   5    350.0     496  1.196959e+06   278.0\n",
       "237   3    382.0     377  1.716959e+06   387.0"
      ]
     },
     "execution_count": 1375,
     "metadata": {},
     "output_type": "execute_result"
    }
   ],
   "source": [
    "x_test[['지역', '단지내주차면수', '조정총세대수', '면적당환산보증금가중평균', 'pred']].head(50)"
   ]
  },
  {
   "cell_type": "code",
   "execution_count": null,
   "id": "30c3b2a3",
   "metadata": {},
   "outputs": [],
   "source": []
  }
 ],
 "metadata": {
  "kernelspec": {
   "display_name": "wyatt38",
   "language": "python",
   "name": "wyatt38"
  },
  "language_info": {
   "codemirror_mode": {
    "name": "ipython",
    "version": 3
   },
   "file_extension": ".py",
   "mimetype": "text/x-python",
   "name": "python",
   "nbconvert_exporter": "python",
   "pygments_lexer": "ipython3",
   "version": "3.8.0"
  }
 },
 "nbformat": 4,
 "nbformat_minor": 5
}
