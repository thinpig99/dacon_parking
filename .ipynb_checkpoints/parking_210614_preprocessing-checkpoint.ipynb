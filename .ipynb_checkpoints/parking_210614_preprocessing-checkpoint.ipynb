{
 "cells": [
  {
   "cell_type": "markdown",
   "id": "1e5e048a",
   "metadata": {},
   "source": [
    "# **임대주택 단지 내 적정 주차수요 예측 대회**"
   ]
  },
  {
   "cell_type": "code",
   "execution_count": 1,
   "id": "5fd71a06",
   "metadata": {},
   "outputs": [],
   "source": [
    "PATH = r'C:\\Users\\Wyatt\\wyatt37\\data\\parking'"
   ]
  },
  {
   "cell_type": "code",
   "execution_count": 2,
   "id": "b8e5a476",
   "metadata": {},
   "outputs": [],
   "source": [
    "import pandas as pd\n",
    "import numpy as np\n",
    "import matplotlib.pyplot as plt\n",
    "import seaborn as sns\n",
    "\n",
    "from matplotlib import font_manager, rc\n",
    "font_path = \"C:/Windows/Fonts/NGULIM.TTF\"\n",
    "font = font_manager.FontProperties(fname=font_path).get_name()\n",
    "rc('font', family=font)\n",
    "\n",
    "import warnings\n",
    "warnings.filterwarnings(\"ignore\")"
   ]
  },
  {
   "cell_type": "code",
   "execution_count": 7,
   "id": "de7529c9",
   "metadata": {
    "tags": []
   },
   "outputs": [],
   "source": [
    "age_gender = pd.read_csv(PATH + '\\\\new_age_gender_info.csv')\n",
    "train = pd.read_csv(PATH + '\\\\new_train.csv')\n",
    "test = pd.read_csv(PATH + '\\\\new_test.csv')\n",
    "sub = pd.read_csv(PATH + '\\\\new_sample_submission.csv')"
   ]
  },
  {
   "cell_type": "markdown",
   "id": "dc6e3442",
   "metadata": {},
   "source": [
    "# Preprocessing"
   ]
  },
  {
   "cell_type": "markdown",
   "id": "8e42a43d",
   "metadata": {},
   "source": [
    "## FILL NA"
   ]
  },
  {
   "cell_type": "code",
   "execution_count": 107,
   "id": "bfcdd374",
   "metadata": {},
   "outputs": [],
   "source": [
    "# 버스정류장 결측치는 train set에 1개 단지에 존재\n",
    "# 해당 단지는 양산신도시LH아파트 5단지\n",
    "# 지도를 확인한 결과 보수적으로 잡아도 7개 이상\n",
    "\n",
    "train['도보 10분거리 내 버스정류장 수'] = train['도보 10분거리 내 버스정류장 수'].fillna(7)"
   ]
  },
  {
   "cell_type": "code",
   "execution_count": 118,
   "id": "4dc41fac",
   "metadata": {},
   "outputs": [],
   "source": [
    "# test set 에 임대보증금과 임대료가 결측치인 1개 단지 존재\n",
    "# 해당 단지는 대전둔산1단지주공아파트\n",
    "# 공고문에 의거, 임대보증금과 임대료 아래와 같이 보간\n",
    "\n",
    "test.loc[(test['임대건물구분'] != '상가') & (test['임대보증금'].isnull()), '임대보증금'] = [5787000, 5787000, 11574000]\n",
    "test.loc[(test['임대건물구분'] != '상가') & (test['임대료'].isnull()), '임대료'] = [79980, 79980, 159960]"
   ]
  },
  {
   "cell_type": "code",
   "execution_count": null,
   "id": "a4db1fff",
   "metadata": {},
   "outputs": [],
   "source": []
  },
  {
   "cell_type": "code",
   "execution_count": null,
   "id": "8e328729",
   "metadata": {},
   "outputs": [],
   "source": []
  }
 ],
 "metadata": {
  "kernelspec": {
   "display_name": "wyatt38",
   "language": "python",
   "name": "wyatt38"
  },
  "language_info": {
   "codemirror_mode": {
    "name": "ipython",
    "version": 3
   },
   "file_extension": ".py",
   "mimetype": "text/x-python",
   "name": "python",
   "nbconvert_exporter": "python",
   "pygments_lexer": "ipython3",
   "version": "3.8.0"
  }
 },
 "nbformat": 4,
 "nbformat_minor": 5
}
