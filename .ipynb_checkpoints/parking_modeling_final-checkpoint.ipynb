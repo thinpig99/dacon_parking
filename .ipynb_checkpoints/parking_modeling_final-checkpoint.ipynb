{
 "cells": [
  {
   "cell_type": "markdown",
   "id": "9062757d",
   "metadata": {},
   "source": [
    "# **임대주택 단지 내 적정 주차수요 예측 대회**"
   ]
  },
  {
   "cell_type": "code",
   "execution_count": 1,
   "id": "11f07f6a",
   "metadata": {},
   "outputs": [],
   "source": [
    "PATH = r'C:\\Users\\Wyatt\\wyatt37\\data\\parking'"
   ]
  },
  {
   "cell_type": "code",
   "execution_count": 2,
   "id": "e78e7f6c",
   "metadata": {},
   "outputs": [],
   "source": [
    "import pandas as pd\n",
    "pd.options.display.max_rows = 100\n",
    "pd.options.display.max_columns = 100\n",
    "from tabulate import tabulate\n",
    "\n",
    "import numpy as np\n",
    "import matplotlib.pyplot as plt\n",
    "import seaborn as sns\n",
    "import matplotlib.patches as mpatches\n",
    "\n",
    "from matplotlib import font_manager, rc\n",
    "font_path = \"C:/Windows/Fonts/NGULIM.TTF\"\n",
    "font = font_manager.FontProperties(fname=font_path).get_name()\n",
    "rc('font', family=font)\n",
    "\n",
    "import warnings\n",
    "warnings.filterwarnings(\"ignore\")"
   ]
  },
  {
   "cell_type": "code",
   "execution_count": 3,
   "id": "24244389",
   "metadata": {},
   "outputs": [],
   "source": [
    "from sklearn.model_selection import KFold\n",
    "\n",
    "from sklearn.ensemble import RandomForestRegressor, ExtraTreesRegressor\n",
    "from lightgbm import LGBMRegressor\n",
    "from catboost import CatBoostRegressor\n",
    "from sklearn.linear_model import LassoLars, HuberRegressor, LassoLarsCV"
   ]
  },
  {
   "cell_type": "code",
   "execution_count": 4,
   "id": "f3d4ea2c",
   "metadata": {},
   "outputs": [],
   "source": [
    "from pycaret.regression import *"
   ]
  },
  {
   "cell_type": "code",
   "execution_count": 5,
   "id": "086895b8",
   "metadata": {
    "tags": []
   },
   "outputs": [],
   "source": [
    "age_gender = pd.read_csv(PATH + '\\\\new_age_gender_info.csv')\n",
    "train = pd.read_csv(PATH + '\\\\new_train.csv')\n",
    "test = pd.read_csv(PATH + '\\\\new_test.csv')\n",
    "sub = pd.read_csv(PATH + '\\\\new_sample_submission.csv')"
   ]
  },
  {
   "cell_type": "markdown",
   "id": "45b2b5af",
   "metadata": {},
   "source": [
    "# PREPROCESSING"
   ]
  },
  {
   "cell_type": "code",
   "execution_count": 6,
   "id": "8c5c41c4",
   "metadata": {},
   "outputs": [],
   "source": [
    "# 컬럼명이 너무 긴 지하철과 버스만 바꿔주겠습니다.\n",
    "train.rename({'도보 10분거리 내 지하철역 수(환승노선 수 반영)': '지하철',\n",
    "             '도보 10분거리 내 버스정류장 수': '버스'}, axis=1, inplace=True)\n",
    "test.rename({'도보 10분거리 내 지하철역 수(환승노선 수 반영)': '지하철',\n",
    "             '도보 10분거리 내 버스정류장 수': '버스'}, axis=1, inplace=True)"
   ]
  },
  {
   "cell_type": "markdown",
   "id": "d94b5448",
   "metadata": {},
   "source": [
    "## FILLNA"
   ]
  },
  {
   "cell_type": "markdown",
   "id": "548b597b",
   "metadata": {},
   "source": [
    "### Subway"
   ]
  },
  {
   "cell_type": "code",
   "execution_count": 7,
   "id": "b4708efb",
   "metadata": {},
   "outputs": [],
   "source": [
    "# train set에 지하철 정보가 없는 경남, 충남은 0으로 보간\n",
    "train.loc[(train['지역'].isin(['경상남도', '충청남도'])) & (train['지하철'].isnull()), '지하철'] = 0"
   ]
  },
  {
   "cell_type": "code",
   "execution_count": 8,
   "id": "16996137",
   "metadata": {},
   "outputs": [],
   "source": [
    "# LH청약센터에서 찾은 주소로 확인한 대전의 8개 단지는 지하철이 없음\n",
    "# 0으로 채워줍시다.\n",
    "\n",
    "(train.loc[(train['지역'] == '대전광역시') & (train['지하철'].isnull()) , '지하철']) = 0"
   ]
  },
  {
   "cell_type": "code",
   "execution_count": 9,
   "id": "b7043269",
   "metadata": {},
   "outputs": [],
   "source": [
    "# test set에 지하철 정보가 없는 충남은 0으로 보간\n",
    "test.loc[(test['지역'].isin(['충청남도'])) & (test['지하철'].isnull()), '지하철'] = 0"
   ]
  },
  {
   "cell_type": "code",
   "execution_count": 10,
   "id": "8efae7b1",
   "metadata": {},
   "outputs": [],
   "source": [
    "# LH청약센터에서 찾은 주소로 확인한 대전의 2개 단지는 지하철이 없음\n",
    "# 0으로 채워줍시다.\n",
    "\n",
    "(test.loc[(test['지역'] == '대전광역시') & (test['지하철'].isnull()), '지하철']) = 0"
   ]
  },
  {
   "cell_type": "markdown",
   "id": "731bbafe",
   "metadata": {},
   "source": [
    "### Bus"
   ]
  },
  {
   "cell_type": "code",
   "execution_count": 11,
   "id": "e3faa772",
   "metadata": {},
   "outputs": [],
   "source": [
    "# 버스정류장 결측치는 train set에 1개 단지에 존재\n",
    "# 해당 단지는 양산신도시LH아파트 5단지\n",
    "# 동일 단지인 C2431에서 2로 되어 있음.\n",
    "\n",
    "train.loc[train['버스'].isnull(), '버스'] = 2"
   ]
  },
  {
   "cell_type": "markdown",
   "id": "9bfe265d",
   "metadata": {},
   "source": [
    "### Rent"
   ]
  },
  {
   "cell_type": "code",
   "execution_count": 12,
   "id": "d3f07397",
   "metadata": {},
   "outputs": [],
   "source": [
    "# test set 에 임대보증금과 임대료가 결측치인 1개 단지 존재\n",
    "# 해당 단지는 대전둔산1단지주공아파트\n",
    "# 공고문에 의거, 임대보증금과 임대료 아래와 같이 보간\n",
    "\n",
    "test.loc[(test['임대건물구분'] != '상가') & (test['임대보증금'].isnull()), '임대보증금'] = [5787000, 5787000, 11574000]\n",
    "test.loc[(test['임대건물구분'] != '상가') & (test['임대료'].isnull()), '임대료'] = [79980, 79980, 159960]"
   ]
  },
  {
   "cell_type": "markdown",
   "id": "e337b276",
   "metadata": {},
   "source": [
    "### Qualification"
   ]
  },
  {
   "cell_type": "code",
   "execution_count": 13,
   "id": "32717e8d",
   "metadata": {},
   "outputs": [],
   "source": [
    "# C2411 아파트의 자격유형은 전부 A로 되어 있음.\n",
    "# 동일하게 A로 보간\n",
    "\n",
    "test.loc[(test['단지코드'] == 'C2411') & (test['자격유형'].isnull()), '자격유형'] = 'A'"
   ]
  },
  {
   "cell_type": "code",
   "execution_count": 14,
   "id": "79fb5a2a",
   "metadata": {},
   "outputs": [],
   "source": [
    "# C2253 아파트의 자격유형은 전부 C로 되어 있음.\n",
    "# 동일하게 C로 보간\n",
    "\n",
    "test.loc[(test['단지코드'] == 'C2253') & (test['자격유형'].isnull()), '자격유형'] = 'C'"
   ]
  },
  {
   "cell_type": "markdown",
   "id": "ae94f538",
   "metadata": {},
   "source": [
    "## REPLACING"
   ]
  },
  {
   "cell_type": "markdown",
   "id": "14476898",
   "metadata": {},
   "source": [
    "https://www.dacon.io/competitions/official/235745/talkboard/403708?page=1&dtype=recent"
   ]
  },
  {
   "cell_type": "markdown",
   "id": "3f3cf028",
   "metadata": {},
   "source": [
    "### ※ 동일한 단지에 코드가 2개로 부여된 단지 코드 (3쌍) : ['C2085', 'C1397'], ['C2431', 'C1649'], ['C1036', 'C2675'] \n",
    " - C2675 단지는 테스트셋, 나머지는 트레인셋 입니다."
   ]
  },
  {
   "cell_type": "code",
   "execution_count": 15,
   "id": "7d565031",
   "metadata": {},
   "outputs": [],
   "source": [
    "# ['C2085', 'C1397'] 을 C1397로 합병\n",
    "train.loc[train['단지코드'] == 'C2085', '단지코드'] = 'C1397'\n",
    "train.loc[train['단지코드'] == 'C1397', '총세대수'] = (\n",
    "    train.loc[train['단지코드'] == 'C1397'].groupby(['단지코드'])['전용면적별세대수'].sum()[0]\n",
    ")\n",
    "train.loc[train['단지코드'] == 'C1397', '공가수'] = 9"
   ]
  },
  {
   "cell_type": "code",
   "execution_count": 16,
   "id": "695872c5",
   "metadata": {},
   "outputs": [],
   "source": [
    "# ['C2431', 'C1649'] 을 C1649로 합병\n",
    "train.loc[train['단지코드'] == 'C2431', '단지코드'] = 'C1649'\n",
    "train.loc[train['단지코드'] == 'C1649', '총세대수'] = (\n",
    "    train.loc[train['단지코드'] == 'C1649'].groupby(['단지코드'])['전용면적별세대수'].sum()[0]\n",
    ")\n",
    "train.loc[train['단지코드'] == 'C1649', '공가수'] = 31\n",
    "train.loc[train['단지코드'] == 'C1649', '등록차량수'] = 1214"
   ]
  },
  {
   "cell_type": "code",
   "execution_count": 17,
   "id": "7056b264",
   "metadata": {},
   "outputs": [],
   "source": [
    "# ['C1036', 'C2675'] 은 train과 test로 나누어져 있으니 drop\n",
    "train.drop(train.loc[train['단지코드'] == 'C1036'].index, axis=0, inplace=True)\n",
    "test.drop(test.loc[test['단지코드'] == 'C2675'].index, axis=0, inplace=True)"
   ]
  },
  {
   "cell_type": "markdown",
   "id": "c4183cee",
   "metadata": {},
   "source": [
    "### ※ 차이가 94~452세대인 10개 단지(크기순) : ['C1490', 'C2497', 'C2620', 'C1344', 'C1024', 'C2470', 'C1206', 'C1740', 'C2405', 'C1804’]"
   ]
  },
  {
   "cell_type": "code",
   "execution_count": 18,
   "id": "f4fd73c9",
   "metadata": {},
   "outputs": [],
   "source": [
    "# 경북혁신도시천년나무3단지\n",
    "test.loc[test['단지코드'] == 'C2497', '전용면적별세대수'] = [114, 60, 275, 39]\n",
    "\n",
    "# 충무공동혁신도시LH아파트5단지\n",
    "train.loc[train['단지코드'] == 'C2405', '전용면적별세대수'] = [100, 100, 400]\n",
    "# 경북혁신LH천년나무2단지\n",
    "train.loc[train['단지코드'] == 'C1740', '전용면적별세대수'] = [305, 126, 184, 168]\n",
    "# LH강남아이파크\n",
    "train.loc[train['단지코드'] == 'C1024', '전용면적별세대수'] = [195, 60, 15, 154, 99, 48, 42, 53, 29, 23]\n",
    "# 서울서초A4BL\n",
    "train.loc[train['단지코드'] == 'C1344', '전용면적별세대수'] = [106, 96, 41, 39, 42, 100]\n",
    "# 진천군 연미로 131 천년나무7단지\n",
    "train.loc[train['단지코드'] == 'C1490', '전용면적별세대수'] = [105, 84, 472, 88]\n",
    "# 나주빛가람LH3단지\n",
    "train.loc[train['단지코드'] == 'C2620', '전용면적별세대수'] = [60, 227, 316, 160, 266]\n",
    "# 남양주별내A1-3블록\n",
    "train.loc[train['단지코드'] == 'C1804', '전용면적별세대수'] = [76, 82, 279, 28]"
   ]
  },
  {
   "cell_type": "code",
   "execution_count": 19,
   "id": "1ce09f60",
   "metadata": {},
   "outputs": [],
   "source": [
    "# 남양주별내A1-3블록\n",
    "train = train.append({'단지코드': 'C1804',\n",
    "                      '총세대수': 478,\n",
    "                      '임대건물구분': '아파트',\n",
    "                      '지역': '경기도',\n",
    "                      '공급유형': '공공임대(10년)',\n",
    "                      '전용면적': 75.78,\n",
    "                      '전용면적별세대수': 13,\n",
    "                      '공가수': 3.0,\n",
    "                      '자격유형': 'A',\n",
    "                      '임대보증금': 78957000,\n",
    "                      '임대료': 530130,\n",
    "                      '지하철': 0.0,\n",
    "                      '버스': 3.0,\n",
    "                      '단지내주차면수': 629.0,\n",
    "                      '등록차량수': 951.0}, ignore_index=True)\n",
    "# 대전대신2구역2단지\n",
    "train = train.append({'단지코드': 'C2470',\n",
    "                      '총세대수': 636,\n",
    "                      '임대건물구분': '아파트',\n",
    "                      '지역': '대전광역시',\n",
    "                      '공급유형': '공공분양',\n",
    "                      '전용면적': 74.99,\n",
    "                      '전용면적별세대수': 72,\n",
    "                      '공가수': 1.0,\n",
    "                      '자격유형': 'A',\n",
    "                      '임대보증금': 225013300,\n",
    "                      '지하철': 1.0,\n",
    "                      '버스': 2.0,\n",
    "                      '단지내주차면수': 772.0,\n",
    "                      '등록차량수': 887.0}, ignore_index=True)\n",
    "train = train.append({'단지코드': 'C2470',\n",
    "                      '총세대수': 636,\n",
    "                      '임대건물구분': '아파트',\n",
    "                      '지역': '대전광역시',\n",
    "                      '공급유형': '공공분양',\n",
    "                      '전용면적': 74.95,\n",
    "                      '전용면적별세대수': 66,\n",
    "                      '공가수': 1.0,\n",
    "                      '자격유형': 'A',\n",
    "                      '임대보증금': 226278000,\n",
    "                      '지하철': 1.0,\n",
    "                      '버스': 2.0,\n",
    "                      '단지내주차면수': 772.0,\n",
    "                      '등록차량수': 887.0}, ignore_index=True)\n",
    "train = train.append({'단지코드': 'C2470',\n",
    "                      '총세대수': 636,\n",
    "                      '임대건물구분': '아파트',\n",
    "                      '지역': '대전광역시',\n",
    "                      '공급유형': '공공분양',\n",
    "                      '전용면적': 74.99,\n",
    "                      '전용면적별세대수': 92,\n",
    "                      '공가수': 1.0,\n",
    "                      '자격유형': 'A',\n",
    "                      '임대보증금': 230417000,\n",
    "                      '지하철': 1.0,\n",
    "                      '버스': 2.0,\n",
    "                      '단지내주차면수': 772.0,\n",
    "                      '등록차량수': 887.0}, ignore_index=True)\n",
    "# 속초청초아파트\n",
    "train = train.append({'단지코드': 'C1206',\n",
    "                      '총세대수': 755,\n",
    "                      '임대건물구분': '아파트',\n",
    "                      '지역': '강원도',\n",
    "                      '공급유형': '영구임대',\n",
    "                      '전용면적': 41.85,\n",
    "                      '전용면적별세대수': 177,\n",
    "                      '공가수': 1.0,\n",
    "                      '자격유형': 'C',\n",
    "                      '지하철': 0.0,\n",
    "                      '버스': 4.0,\n",
    "                      '단지내주차면수': 88.0,\n",
    "                      '등록차량수': 90.0}, ignore_index=True)\n",
    "train = train.append({'단지코드': 'C1206',\n",
    "                      '총세대수': 755,\n",
    "                      '임대건물구분': '아파트',\n",
    "                      '지역': '강원도',\n",
    "                      '공급유형': '영구임대',\n",
    "                      '전용면적': 51.66,\n",
    "                      '전용면적별세대수': 90,\n",
    "                      '공가수': 1.0,\n",
    "                      '자격유형': 'C',\n",
    "                      '지하철': 0.0,\n",
    "                      '버스': 4.0,\n",
    "                      '단지내주차면수': 88.0,\n",
    "                      '등록차량수': 90.0}, ignore_index=True)"
   ]
  },
  {
   "cell_type": "code",
   "execution_count": 20,
   "id": "b5511809",
   "metadata": {},
   "outputs": [],
   "source": [
    "# train의 C1024는 다른 단지와 다르게 총세대수보다 전용면적별세대수합이 더 큽니다.\n",
    "train.loc[train['단지코드'] == 'C1024', '총세대수'] = (\n",
    "    train.loc[train['단지코드'] == 'C1024'].groupby(['단지코드'])['전용면적별세대수'].sum()[0]\n",
    ")"
   ]
  },
  {
   "cell_type": "markdown",
   "id": "93289688",
   "metadata": {},
   "source": [
    "### ※ 실수가 발생한 단지 코드 (9개 단지) : ['C2335', 'C1327', 'C1095', 'C2051', 'C1218', 'C1894', 'C2483', 'C1502', 'C1988']\n",
    " - C2335, C1327 단지는 테스트셋, 나머지는 트레인셋 입니다."
   ]
  },
  {
   "cell_type": "code",
   "execution_count": 21,
   "id": "64784faa",
   "metadata": {
    "tags": []
   },
   "outputs": [],
   "source": [
    "# train.loc[(train['단지코드'].isin(['C2335', 'C1327', 'C1095', 'C2051', 'C1218', 'C1894', 'C2483', 'C1502', 'C1988']))\n",
    "#          & (train['임대건물구분'] == '아파트')]"
   ]
  },
  {
   "cell_type": "code",
   "execution_count": 22,
   "id": "b8b39e11",
   "metadata": {},
   "outputs": [],
   "source": [
    "# # 노이즈로 판결났으므로 부득이하게 레코드 드랍\n",
    "#train.drop(train.loc[train['단지코드'].isin(['C2335', 'C1327', 'C1095', 'C2051', 'C1218', 'C1894', 'C2483', 'C1502', 'C1988'])].index, axis=0, inplace=True)\n",
    "test.drop(test.loc[test['단지코드'].isin(['C2335', 'C1327'])].index, axis=0, inplace=True)"
   ]
  },
  {
   "cell_type": "markdown",
   "id": "85b23c5b",
   "metadata": {},
   "source": [
    "### UnitCount"
   ]
  },
  {
   "cell_type": "code",
   "execution_count": 23,
   "id": "04884d74",
   "metadata": {
    "tags": []
   },
   "outputs": [],
   "source": [
    "train = pd.merge(train.loc[:, ~train.columns.isin(['총세대수'])],\n",
    "                 train.groupby(['단지코드'])['전용면적별세대수'].sum().reset_index().rename({'전용면적별세대수':'총세대수'}, axis=1),\n",
    "                 how='left', on='단지코드')"
   ]
  },
  {
   "cell_type": "code",
   "execution_count": 24,
   "id": "a293ffcb",
   "metadata": {},
   "outputs": [],
   "source": [
    "test = pd.merge(test.loc[:, ~test.columns.isin(['총세대수'])],\n",
    "                test.groupby(['단지코드'])['전용면적별세대수'].sum().reset_index().rename({'전용면적별세대수':'총세대수'}, axis=1),\n",
    "                how='left', on='단지코드')"
   ]
  },
  {
   "cell_type": "markdown",
   "id": "5d1c6557",
   "metadata": {},
   "source": [
    "### Qualification"
   ]
  },
  {
   "cell_type": "markdown",
   "id": "7c50d7b1",
   "metadata": {},
   "source": [
    "'D' 는 상가에서 보여지는 자격유형입니다. 그러나 train, test 셋에 각각 존재합니다."
   ]
  },
  {
   "cell_type": "code",
   "execution_count": 25,
   "id": "d2a86fa7",
   "metadata": {},
   "outputs": [],
   "source": [
    "# train의 C1350의 D는 최빈값 A로 넣겠습니다.\n",
    "train.loc[(train['자격유형'] == 'D') & (train['임대건물구분'] == '아파트'), '자격유형'] = (\n",
    "    train.loc[(train['단지코드'] == 'C1350') & (~train['임대료'].isnull()), '자격유형'].mode()[0]\n",
    ")"
   ]
  },
  {
   "cell_type": "code",
   "execution_count": 26,
   "id": "50445504",
   "metadata": {},
   "outputs": [],
   "source": [
    "# test의 C1006의 D값은 최빈값인 C로 대체하겠습니다.\n",
    "test.loc[(test['단지코드'] == 'C1006') & (test['임대건물구분'] == '아파트'), '자격유형'] = (\n",
    "    test.loc[(test['단지코드'] == 'C1006') & (test['임대건물구분'] == '아파트'), '자격유형'].mode()[0]\n",
    ")"
   ]
  },
  {
   "cell_type": "markdown",
   "id": "d6624296",
   "metadata": {},
   "source": [
    "### Shops"
   ]
  },
  {
   "cell_type": "markdown",
   "id": "2f1cb360",
   "metadata": {},
   "source": [
    "용이한 전처리를 위해 상가는 따로 뗴어두고 나중에 합칩니다."
   ]
  },
  {
   "cell_type": "code",
   "execution_count": 27,
   "id": "1e9b304f",
   "metadata": {},
   "outputs": [],
   "source": [
    "train_shops = train.loc[train['임대건물구분'] == '상가'].groupby(['단지코드']).sum()[['전용면적별세대수', '전용면적']]\n",
    "test_shops = test.loc[test['임대건물구분'] == '상가'].groupby(['단지코드']).sum()[['전용면적별세대수', '전용면적']]"
   ]
  },
  {
   "cell_type": "code",
   "execution_count": 28,
   "id": "2e4c936a",
   "metadata": {},
   "outputs": [],
   "source": [
    "train = train.loc[train['임대건물구분'] == '아파트']\n",
    "test = test.loc[test['임대건물구분'] == '아파트']"
   ]
  },
  {
   "cell_type": "markdown",
   "id": "5bb599d6",
   "metadata": {},
   "source": [
    "### Deposit / Rent Preprocessing"
   ]
  },
  {
   "cell_type": "markdown",
   "id": "6cf0c875",
   "metadata": {},
   "source": [
    "임대료가 없는 단지를 비교하기 위해서 임대료를 만들어주겠습니다."
   ]
  },
  {
   "cell_type": "code",
   "execution_count": 29,
   "id": "4ee14237",
   "metadata": {
    "tags": []
   },
   "outputs": [],
   "source": [
    "# '-' 값을 0으로 만들어줍니다.\n",
    "train.loc[train['임대보증금'] == '-', '임대보증금'] = 0\n",
    "test.loc[test['임대보증금'] == '-', '임대보증금'] = 0\n",
    "\n",
    "train.loc[train['임대료'] == '-', '임대료'] = 0\n",
    "test.loc[test['임대료'] == '-', '임대료'] = 0"
   ]
  },
  {
   "cell_type": "code",
   "execution_count": 30,
   "id": "322e66fc",
   "metadata": {},
   "outputs": [],
   "source": [
    "# nan 값 때문에 object로 되어 있습니다. 일단 0으로 채워 줍니다.\n",
    "train['임대보증금'] = train['임대보증금'].fillna(0)\n",
    "test['임대보증금'] = test['임대보증금'].fillna(0)\n",
    "\n",
    "train['임대료'] = train['임대료'].fillna(0)\n",
    "test['임대료'] = test['임대료'].fillna(0)"
   ]
  },
  {
   "cell_type": "code",
   "execution_count": 31,
   "id": "2501b5d3",
   "metadata": {
    "tags": []
   },
   "outputs": [],
   "source": [
    "# 계산을 위해서 int로 바꿔줍니다.\n",
    "train['임대보증금'] = train['임대보증금'].astype(int)\n",
    "test['임대보증금'] = test['임대보증금'].astype(int)\n",
    "\n",
    "train['임대료'] = train['임대료'].astype(int)\n",
    "test['임대료'] = test['임대료'].astype(int)"
   ]
  },
  {
   "cell_type": "code",
   "execution_count": 32,
   "id": "ba1e250a",
   "metadata": {},
   "outputs": [],
   "source": [
    "# 면적당으로 보증금과 임대료를 산출해서 역으로 채워넣겠습니다.\n",
    "train['면적당보증금'] = train['임대보증금'] / train['전용면적']\n",
    "train['면적당임대료'] = train['임대료'] / train['전용면적']\n",
    "\n",
    "test['면적당보증금'] = test['임대보증금'] / test['전용면적']\n",
    "test['면적당임대료'] = test['임대료'] / test['전용면적']"
   ]
  },
  {
   "cell_type": "code",
   "execution_count": 33,
   "id": "02924abb",
   "metadata": {},
   "outputs": [],
   "source": [
    "# 0 값을 다시 NULL 값으로 바꿉니다.\n",
    "train.loc[(train['면적당보증금'] == 0), ['임대보증금', '면적당보증금']] = np.nan\n",
    "train.loc[(train['면적당임대료'] == 0), ['임대료', '면적당임대료']] = np.nan\n",
    "\n",
    "test.loc[(test['면적당보증금'] == 0), ['임대보증금', '면적당보증금']] = np.nan\n",
    "test.loc[(test['면적당임대료'] == 0), ['임대료', '면적당임대료']] = np.nan"
   ]
  },
  {
   "cell_type": "markdown",
   "id": "3f0c4c48",
   "metadata": {},
   "source": [
    "train에서 공공분양, 장기전세가 아니면서 보증금과 임대료가 비어있는 곳은 C1350, C1786, C2186, C1326, C1206 입니다."
   ]
  },
  {
   "cell_type": "code",
   "execution_count": 34,
   "id": "9e0d00fd",
   "metadata": {},
   "outputs": [],
   "source": [
    "# C1350은 공공분양이기 때문에 임대료가 없고 보증금이 매우 큽니다.\n",
    "# 이 경우는 비슷한 공급유형의 면적당보증금을 가져오겠습니다.\n",
    "# 임대료는 추후 작업하겠습니다.\n",
    "\n",
    "# 같은 유형의 공공분양 단지의 면적당 보증금의 평균으로 채워줍니다.\n",
    "train.loc[(train['단지코드'] == 'C1350') & (train['임대보증금'].isnull()), '면적당보증금'] = (\n",
    "    train.loc[(train['공급유형'] == '공공분양') & (~train['임대보증금'].isnull()), '면적당보증금'].mean()\n",
    ")\n",
    "\n",
    "# 면적당보증금과 전용면적을 곱해서 임대보증금을 만들어줍니다.\n",
    "train.loc[(train['단지코드'] == 'C1350') & (train['임대보증금'].isnull()), '임대보증금'] = (\n",
    "    train.loc[(train['단지코드'] == 'C1350') & (train['임대보증금'].isnull()), '전용면적']\n",
    "    * train.loc[(train['단지코드'] == 'C1350') & (train['임대보증금'].isnull()), '면적당보증금']\n",
    ")"
   ]
  },
  {
   "cell_type": "code",
   "execution_count": 35,
   "id": "30b2b20e",
   "metadata": {},
   "outputs": [],
   "source": [
    "# C1786 은 행복주택, K 유형의 아파트입니다.\n",
    "# 동일한 공급유형, 자격유형의 값을 가져오겠습니다.\n",
    "train.loc[(train['단지코드'] == 'C1786') & (train['자격유형'] == 'K'), '면적당보증금'] = (\n",
    "    train.loc[(train['공급유형'] == '행복주택') & (train['자격유형'] == 'K'), '면적당보증금'].mean()\n",
    ")\n",
    "train.loc[(train['단지코드'] == 'C1786') & (train['자격유형'] == 'K'), '면적당임대료'] = (\n",
    "    train.loc[(train['공급유형'] == '행복주택') & (train['자격유형'] == 'K'), '면적당임대료'].mean()\n",
    ")\n",
    "\n",
    "# 면적당보증금과 전용면적을 곱해서 임대보증금을 만들어줍니다.\n",
    "train.loc[(train['단지코드'] == 'C1786') & (train['자격유형'] == 'K'), '임대보증금'] = (\n",
    "    train.loc[(train['단지코드'] == 'C1786') & (train['자격유형'] == 'K'), '전용면적']\n",
    "    * train.loc[(train['단지코드'] == 'C1786') & (train['자격유형'] == 'K'), '면적당보증금']\n",
    ")\n",
    "train.loc[(train['단지코드'] == 'C1786') & (train['자격유형'] == 'K'), '임대료'] = (\n",
    "    train.loc[(train['단지코드'] == 'C1786') & (train['자격유형'] == 'K'), '전용면적']\n",
    "    * train.loc[(train['단지코드'] == 'C1786') & (train['자격유형'] == 'K'), '면적당임대료']\n",
    ")"
   ]
  },
  {
   "cell_type": "code",
   "execution_count": 36,
   "id": "74ff54c7",
   "metadata": {},
   "outputs": [],
   "source": [
    "# C2186 단지는 같은 단지에 동일한 공급유형, 동일한 자격유형의 값이 있습니다.\n",
    "# 해당 값으로 넣어주겠습니다.\n",
    "train.loc[(train['단지코드'] == 'C2186') & (train['임대료'].isnull()), '면적당임대료'] = (\n",
    "    train.loc[(train['단지코드'] == 'C2186') & (train['자격유형'] == 'H') & (~train['임대료'].isnull()), '면적당임대료'].mean()\n",
    ")\n",
    "train.loc[(train['단지코드'] == 'C2186') & (train['임대보증금'].isnull()), '면적당보증금'] = (\n",
    "    train.loc[(train['단지코드'] == 'C2186') & (train['자격유형'] == 'H') & (~train['임대보증금'].isnull()), '면적당보증금'].mean()\n",
    ")\n",
    "\n",
    "# 면적당보증금과 전용면적을 곱해서 임대보증금을 만들어줍니다.\n",
    "train.loc[(train['단지코드'] == 'C2186') & (train['임대료'].isnull()), '임대료'] = (\n",
    "    train.loc[(train['단지코드'] == 'C2186') & (train['임대료'].isnull()), '전용면적']\n",
    "    * train.loc[(train['단지코드'] == 'C2186') & (train['임대료'].isnull()), '면적당임대료']\n",
    ")\n",
    "train.loc[(train['단지코드'] == 'C2186') & (train['임대보증금'].isnull()), '임대보증금'] = (\n",
    "    train.loc[(train['단지코드'] == 'C2186') & (train['임대보증금'].isnull()), '전용면적']\n",
    "    * train.loc[(train['단지코드'] == 'C2186') & (train['임대보증금'].isnull()), '면적당보증금']\n",
    ")"
   ]
  },
  {
   "cell_type": "code",
   "execution_count": 37,
   "id": "f60dc895",
   "metadata": {},
   "outputs": [],
   "source": [
    "# C1326 단지는 동일 지역에 H국민임대 단지가 없습니다. 전국적으로 4000~6500원 선이니 평균으로 넣어주겠습니다.\n",
    "train.loc[train['단지코드'] == 'C1326', '면적당보증금'] = (\n",
    "    train.loc[(train['공급유형'] == '국민임대') & (train['자격유형'] == 'H'), '면적당보증금'].mean()\n",
    ")\n",
    "train.loc[train['단지코드'] == 'C1326', '면적당임대료'] = (\n",
    "    train.loc[(train['공급유형'] == '국민임대') & (train['자격유형'] == 'H'), '면적당임대료'].mean()\n",
    ")\n",
    "\n",
    "# 면적당보증금과 전용면적을 곱해서 임대보증금을 만들어줍니다.\n",
    "train.loc[train['단지코드'] == 'C1326', '임대보증금'] = (\n",
    "    train.loc[train['단지코드'] == 'C1326', '면적당보증금']\n",
    "    * train.loc[train['단지코드'] == 'C1326', '전용면적']\n",
    ")\n",
    "train.loc[train['단지코드'] == 'C1326', '임대료'] = (\n",
    "    train.loc[train['단지코드'] == 'C1326', '면적당임대료']\n",
    "    * train.loc[train['단지코드'] == 'C1326', '전용면적']\n",
    ")"
   ]
  },
  {
   "cell_type": "code",
   "execution_count": 38,
   "id": "d3ba4611",
   "metadata": {},
   "outputs": [],
   "source": [
    "# C1206 단지는 동일 단지로 채워줍니다.\n",
    "train.loc[(train['단지코드'] == 'C1206') & (train['임대보증금'].isnull()), '면적당보증금'] = (\n",
    "    train.loc[(train['공급유형'] == '영구임대') & (~train['임대보증금'].isnull()), '면적당보증금'].mean()\n",
    ")\n",
    "train.loc[(train['단지코드'] == 'C1206') & (train['임대료'].isnull()), '면적당임대료'] = (\n",
    "    train.loc[(train['공급유형'] == '영구임대') & (~train['임대료'].isnull()), '면적당임대료'].mean()\n",
    ")\n",
    "\n",
    "# 면적당보증금과 전용면적을 곱해서 임대보증금을 만들어줍니다.\n",
    "train.loc[(train['단지코드'] == 'C1206') & (train['임대보증금'].isnull()), '임대보증금'] = (\n",
    "    train.loc[(train['단지코드'] == 'C1206') & (train['임대보증금'].isnull()), '전용면적']\n",
    "    * train.loc[(train['단지코드'] == 'C1206') & (train['임대보증금'].isnull()), '면적당보증금']\n",
    ")\n",
    "train.loc[(train['단지코드'] == 'C1206') & (train['임대료'].isnull()), '임대료'] = (\n",
    "    train.loc[(train['단지코드'] == 'C1206') & (train['임대료'].isnull()), '전용면적']\n",
    "    * train.loc[(train['단지코드'] == 'C1206') & (train['임대료'].isnull()), '면적당임대료']\n",
    ")"
   ]
  },
  {
   "cell_type": "markdown",
   "id": "b30c589e",
   "metadata": {},
   "source": [
    "test의 보증금과 임대료가 비어 있는 곳은 C1267, C2152 입니다."
   ]
  },
  {
   "cell_type": "code",
   "execution_count": 39,
   "id": "d8a16c52",
   "metadata": {},
   "outputs": [],
   "source": [
    "# C1267 단지는 train의 동일공급유형, 동일자격유형, 거기에 경기도를 뺀 지역의 평균을 넣겠습니다.\n",
    "test.loc[(test['단지코드'] == 'C1267') & (test['임대보증금'].isnull()), '면적당보증금'] = (\n",
    "    train.loc[(train['공급유형'] == '행복주택') & (train['자격유형'] == 'L') & (train['지역'] != '경기도'), '면적당보증금'].mean()\n",
    ")\n",
    "test.loc[(test['단지코드'] == 'C1267') & (test['임대료'].isnull()), '면적당임대료'] = (\n",
    "    train.loc[(train['공급유형'] == '행복주택') & (train['자격유형'] == 'L') & (train['지역'] != '경기도'), '면적당임대료'].mean()\n",
    ")\n",
    "\n",
    "# 면적당보증금과 전용면적을 곱해서 임대보증금을 만들어줍니다.\n",
    "test.loc[(test['단지코드'] == 'C1267') & (test['임대보증금'].isnull()), '임대보증금'] = (\n",
    "    test.loc[(test['단지코드'] == 'C1267') & (test['임대보증금'].isnull()), '전용면적']\n",
    "    * test.loc[(test['단지코드'] == 'C1267') & (test['임대보증금'].isnull()), '면적당보증금']\n",
    ")\n",
    "test.loc[(test['단지코드'] == 'C1267') & (test['임대료'].isnull()), '임대료'] = (\n",
    "    test.loc[(test['단지코드'] == 'C1267') & (test['임대료'].isnull()), '전용면적']\n",
    "    * test.loc[(test['단지코드'] == 'C1267') & (test['임대료'].isnull()), '면적당임대료']\n",
    ")"
   ]
  },
  {
   "cell_type": "code",
   "execution_count": 40,
   "id": "aea5f955",
   "metadata": {},
   "outputs": [],
   "source": [
    "# C2152 단지는 train의 동일 공급유형, 자격유형의 전국 평균 값으로 넣겠습니다.\n",
    "test.loc[test['단지코드'] == 'C2152', '면적당보증금'] = (\n",
    "    train.loc[(train['공급유형'] == '영구임대') & (train['자격유형'] == 'C'), '면적당보증금'].mean()\n",
    ")\n",
    "test.loc[test['단지코드'] == 'C2152', '면적당임대료'] = (\n",
    "    train.loc[(train['공급유형'] == '영구임대') & (train['자격유형'] == 'C'), '면적당임대료'].mean()\n",
    ")\n",
    "\n",
    "# 면적당보증금과 전용면적을 곱해서 임대보증금을 만들어줍니다.\n",
    "test.loc[test['단지코드'] == 'C2152', '임대보증금'] = (\n",
    "    test.loc[test['단지코드'] == 'C2152', '전용면적']\n",
    "    * test.loc[test['단지코드'] == 'C2152', '면적당보증금']\n",
    ")\n",
    "test.loc[test['단지코드'] == 'C2152', '임대료'] = (\n",
    "    test.loc[test['단지코드'] == 'C2152', '전용면적']\n",
    "    * test.loc[test['단지코드'] == 'C2152', '면적당임대료']\n",
    ")"
   ]
  },
  {
   "cell_type": "markdown",
   "id": "6726bebb",
   "metadata": {},
   "source": [
    "장기전세와 공공분양 ['C1397', 'C1039', 'C1350', 'C2470', 'C1206']"
   ]
  },
  {
   "cell_type": "code",
   "execution_count": 41,
   "id": "600f07f8",
   "metadata": {},
   "outputs": [],
   "source": [
    "# 결측치를 0으로 채워줍니다.\n",
    "train['임대료'] = train['임대료'].fillna(0)\n",
    "test['임대료'] = test['임대료'].fillna(0)"
   ]
  },
  {
   "cell_type": "code",
   "execution_count": 42,
   "id": "247d1b28",
   "metadata": {},
   "outputs": [],
   "source": [
    "# 결측치를 0으로 채워줍니다.\n",
    "train['면적당임대료'] = train['면적당임대료'].fillna(0)\n",
    "test['면적당임대료'] = test['면적당임대료'].fillna(0)"
   ]
  },
  {
   "cell_type": "code",
   "execution_count": 43,
   "id": "ce71a08f",
   "metadata": {},
   "outputs": [],
   "source": [
    "# 환산보증금은 임대료의 354배와 보증금을 합친 값으로 정했습니다.\n",
    "train['환산보증금'] = train['임대료'] * 354 + train['임대보증금']\n",
    "test['환산보증금'] = test['임대료'] * 354 + test['임대보증금']"
   ]
  },
  {
   "cell_type": "code",
   "execution_count": 44,
   "id": "1eabc045",
   "metadata": {},
   "outputs": [],
   "source": [
    "# 전용면적으로 나누어서 면적당환산보증급을 만들어줍니다.\n",
    "train['면적당환산보증금'] = train['환산보증금'] / train['전용면적']\n",
    "test['면적당환산보증금'] = test['환산보증금'] / test['전용면적']"
   ]
  },
  {
   "cell_type": "code",
   "execution_count": 45,
   "id": "7c695ccf",
   "metadata": {},
   "outputs": [],
   "source": [
    "# 전용면적과 전용면적별세대수를 곱해서 아파트 단지의 건축연면적을 뽑습니다.\n",
    "train['건축연면적'] = train['전용면적'] * train['전용면적별세대수']\n",
    "test['건축연면적'] = test['전용면적'] * test['전용면적별세대수']"
   ]
  },
  {
   "cell_type": "code",
   "execution_count": 46,
   "id": "707c69d5",
   "metadata": {},
   "outputs": [],
   "source": [
    "# 전용면적별세대수와 환산보증금을 곱해서 아파트 단지의 총 환산보증금을 뽑습니다.\n",
    "train['세대수X환산보증금'] = train['전용면적별세대수'] * train['환산보증금']\n",
    "test['세대수X환산보증금'] = test['전용면적별세대수'] * test['환산보증금']"
   ]
  },
  {
   "cell_type": "code",
   "execution_count": 48,
   "id": "86df42a6",
   "metadata": {},
   "outputs": [],
   "source": [
    "# 전용면적의 크기에 따른 방의 개수를 입력해줍니다.\n",
    "# 기준은 통상적인 전용면적별 방의 개수로 했습니다.\n",
    "train.loc[train['전용면적'] < 35, '방개수'] = '1룸'\n",
    "train.loc[train['전용면적'] >= 35, '방개수'] = '2룸'\n",
    "train.loc[train['전용면적'] >= 45, '방개수'] = '3룸'\n",
    "train.loc[train['전용면적'] >= 56, '방개수'] = '4룸'\n",
    "train.loc[train['전용면적'] >= 77, '방개수'] = '5룸'\n",
    "\n",
    "test.loc[test['전용면적'] < 35, '방개수'] = '1룸'\n",
    "test.loc[test['전용면적'] >= 35, '방개수'] = '2룸'\n",
    "test.loc[test['전용면적'] >= 45, '방개수'] = '3룸'\n",
    "test.loc[test['전용면적'] >= 56, '방개수'] = '4룸'\n",
    "test.loc[test['전용면적'] >= 77, '방개수'] = '5룸'"
   ]
  },
  {
   "cell_type": "code",
   "execution_count": 49,
   "id": "b0caa00f",
   "metadata": {},
   "outputs": [],
   "source": [
    "# 전용면적의 크기에 따른 아파트 크기를 나눕니다.\n",
    "# 통상적인 기준으로 정했습니다.\n",
    "\n",
    "train.loc[train['전용면적'] < 40, '전용면적구분'] = '소형'\n",
    "train.loc[train['전용면적'] >= 40, '전용면적구분'] = '중형'\n",
    "train.loc[train['전용면적'] >= 80, '전용면적구분'] = '대형'\n",
    "\n",
    "test.loc[test['전용면적'] < 40, '전용면적구분'] = '소형'\n",
    "test.loc[test['전용면적'] >= 40, '전용면적구분'] = '중형'\n",
    "test.loc[test['전용면적'] >= 80, '전용면적구분'] = '대형'"
   ]
  },
  {
   "cell_type": "code",
   "execution_count": 50,
   "id": "e5ac5704",
   "metadata": {},
   "outputs": [],
   "source": [
    "# 주어진 주차면수로 총세대수를 나눈 값을 넣어줍니다.\n",
    "train['총세대수/주차면수'] = train['총세대수'] / train['단지내주차면수']\n",
    "test['총세대수/주차면수'] = test['총세대수'] / test['단지내주차면수']"
   ]
  },
  {
   "cell_type": "code",
   "execution_count": 51,
   "id": "86be14f7",
   "metadata": {},
   "outputs": [
    {
     "name": "stdout",
     "output_type": "stream",
     "text": [
      "국민임대 ['A' 'B' 'E' 'G' 'H']\n",
      "공공임대(50년) ['A']\n",
      "영구임대 ['C' 'E' 'F' 'I' 'A']\n",
      "공공임대(10년) ['A']\n",
      "공공임대(분납) ['A']\n",
      "장기전세 ['A']\n",
      "공공분양 ['A']\n",
      "행복주택 ['J' 'K' 'L' 'M' 'N' 'O']\n",
      "공공임대(5년) ['A']\n"
     ]
    }
   ],
   "source": [
    "for x in list(train.공급유형.unique()):\n",
    "    print(x, train.loc[train['공급유형'] == x]['자격유형'].unique())"
   ]
  },
  {
   "cell_type": "code",
   "execution_count": 52,
   "id": "5df23e94",
   "metadata": {},
   "outputs": [],
   "source": [
    "# 특정 공급유형에만 존재하는 자격유형을 묶어줍니다.\n",
    "\n",
    "train.loc[train['자격유형'].isin(['J', 'L', 'K', 'N', 'M', 'O']), '자격유형'] = '행복주택_공급대상'\n",
    "test.loc[test['자격유형'].isin(['J', 'L', 'K', 'N', 'M', 'O']), '자격유형'] = '행복주택_공급대상'\n",
    "\n",
    "train.loc[train['자격유형'].isin(['H', 'B', 'E', 'G']), '자격유형'] = '국민임대_공급대상'\n",
    "test.loc[test['자격유형'].isin(['H', 'B', 'E', 'G']), '자격유형'] = '국민임대_공급대상'\n",
    "\n",
    "train.loc[train['자격유형'].isin(['C', 'I', 'F']), '자격유형'] = '영구임대_공급대상'\n",
    "test.loc[test['자격유형'].isin(['C', 'I', 'F']), '자격유형'] = '영구임대_공급대상'"
   ]
  },
  {
   "cell_type": "markdown",
   "id": "ee53fcc3",
   "metadata": {},
   "source": [
    "# Modeling"
   ]
  },
  {
   "cell_type": "code",
   "execution_count": 53,
   "id": "d27a6ff9",
   "metadata": {},
   "outputs": [
    {
     "data": {
      "text/html": [
       "<div>\n",
       "<style scoped>\n",
       "    .dataframe tbody tr th:only-of-type {\n",
       "        vertical-align: middle;\n",
       "    }\n",
       "\n",
       "    .dataframe tbody tr th {\n",
       "        vertical-align: top;\n",
       "    }\n",
       "\n",
       "    .dataframe thead th {\n",
       "        text-align: right;\n",
       "    }\n",
       "</style>\n",
       "<table border=\"1\" class=\"dataframe\">\n",
       "  <thead>\n",
       "    <tr style=\"text-align: right;\">\n",
       "      <th></th>\n",
       "      <th>단지코드</th>\n",
       "      <th>임대건물구분</th>\n",
       "      <th>지역</th>\n",
       "      <th>공급유형</th>\n",
       "      <th>전용면적</th>\n",
       "      <th>전용면적별세대수</th>\n",
       "      <th>공가수</th>\n",
       "      <th>자격유형</th>\n",
       "      <th>임대보증금</th>\n",
       "      <th>임대료</th>\n",
       "      <th>지하철</th>\n",
       "      <th>버스</th>\n",
       "      <th>단지내주차면수</th>\n",
       "      <th>등록차량수</th>\n",
       "      <th>총세대수</th>\n",
       "      <th>면적당보증금</th>\n",
       "      <th>면적당임대료</th>\n",
       "      <th>환산보증금</th>\n",
       "      <th>면적당환산보증금</th>\n",
       "      <th>건축연면적</th>\n",
       "      <th>세대수X환산보증금</th>\n",
       "      <th>방개수</th>\n",
       "      <th>전용면적구분</th>\n",
       "      <th>총세대수/주차면수</th>\n",
       "    </tr>\n",
       "  </thead>\n",
       "  <tbody>\n",
       "    <tr>\n",
       "      <th>0</th>\n",
       "      <td>C2483</td>\n",
       "      <td>아파트</td>\n",
       "      <td>경상북도</td>\n",
       "      <td>국민임대</td>\n",
       "      <td>39.72</td>\n",
       "      <td>134</td>\n",
       "      <td>38.0</td>\n",
       "      <td>A</td>\n",
       "      <td>15667000.0</td>\n",
       "      <td>103680.0</td>\n",
       "      <td>0.0</td>\n",
       "      <td>3.0</td>\n",
       "      <td>1425.0</td>\n",
       "      <td>1015.0</td>\n",
       "      <td>900</td>\n",
       "      <td>394436.052367</td>\n",
       "      <td>2610.271903</td>\n",
       "      <td>52369720.0</td>\n",
       "      <td>1.318472e+06</td>\n",
       "      <td>5322.48</td>\n",
       "      <td>7.017542e+09</td>\n",
       "      <td>2룸</td>\n",
       "      <td>소형</td>\n",
       "      <td>0.631579</td>\n",
       "    </tr>\n",
       "    <tr>\n",
       "      <th>1</th>\n",
       "      <td>C2483</td>\n",
       "      <td>아파트</td>\n",
       "      <td>경상북도</td>\n",
       "      <td>국민임대</td>\n",
       "      <td>39.72</td>\n",
       "      <td>15</td>\n",
       "      <td>38.0</td>\n",
       "      <td>A</td>\n",
       "      <td>15667000.0</td>\n",
       "      <td>103680.0</td>\n",
       "      <td>0.0</td>\n",
       "      <td>3.0</td>\n",
       "      <td>1425.0</td>\n",
       "      <td>1015.0</td>\n",
       "      <td>900</td>\n",
       "      <td>394436.052367</td>\n",
       "      <td>2610.271903</td>\n",
       "      <td>52369720.0</td>\n",
       "      <td>1.318472e+06</td>\n",
       "      <td>595.80</td>\n",
       "      <td>7.855458e+08</td>\n",
       "      <td>2룸</td>\n",
       "      <td>소형</td>\n",
       "      <td>0.631579</td>\n",
       "    </tr>\n",
       "    <tr>\n",
       "      <th>2</th>\n",
       "      <td>C2483</td>\n",
       "      <td>아파트</td>\n",
       "      <td>경상북도</td>\n",
       "      <td>국민임대</td>\n",
       "      <td>51.93</td>\n",
       "      <td>385</td>\n",
       "      <td>38.0</td>\n",
       "      <td>A</td>\n",
       "      <td>27304000.0</td>\n",
       "      <td>184330.0</td>\n",
       "      <td>0.0</td>\n",
       "      <td>3.0</td>\n",
       "      <td>1425.0</td>\n",
       "      <td>1015.0</td>\n",
       "      <td>900</td>\n",
       "      <td>525784.710187</td>\n",
       "      <td>3549.585981</td>\n",
       "      <td>92556820.0</td>\n",
       "      <td>1.782338e+06</td>\n",
       "      <td>19993.05</td>\n",
       "      <td>3.563438e+10</td>\n",
       "      <td>3룸</td>\n",
       "      <td>중형</td>\n",
       "      <td>0.631579</td>\n",
       "    </tr>\n",
       "    <tr>\n",
       "      <th>3</th>\n",
       "      <td>C2483</td>\n",
       "      <td>아파트</td>\n",
       "      <td>경상북도</td>\n",
       "      <td>국민임대</td>\n",
       "      <td>51.93</td>\n",
       "      <td>15</td>\n",
       "      <td>38.0</td>\n",
       "      <td>A</td>\n",
       "      <td>27304000.0</td>\n",
       "      <td>184330.0</td>\n",
       "      <td>0.0</td>\n",
       "      <td>3.0</td>\n",
       "      <td>1425.0</td>\n",
       "      <td>1015.0</td>\n",
       "      <td>900</td>\n",
       "      <td>525784.710187</td>\n",
       "      <td>3549.585981</td>\n",
       "      <td>92556820.0</td>\n",
       "      <td>1.782338e+06</td>\n",
       "      <td>778.95</td>\n",
       "      <td>1.388352e+09</td>\n",
       "      <td>3룸</td>\n",
       "      <td>중형</td>\n",
       "      <td>0.631579</td>\n",
       "    </tr>\n",
       "    <tr>\n",
       "      <th>4</th>\n",
       "      <td>C2483</td>\n",
       "      <td>아파트</td>\n",
       "      <td>경상북도</td>\n",
       "      <td>국민임대</td>\n",
       "      <td>51.93</td>\n",
       "      <td>41</td>\n",
       "      <td>38.0</td>\n",
       "      <td>A</td>\n",
       "      <td>27304000.0</td>\n",
       "      <td>184330.0</td>\n",
       "      <td>0.0</td>\n",
       "      <td>3.0</td>\n",
       "      <td>1425.0</td>\n",
       "      <td>1015.0</td>\n",
       "      <td>900</td>\n",
       "      <td>525784.710187</td>\n",
       "      <td>3549.585981</td>\n",
       "      <td>92556820.0</td>\n",
       "      <td>1.782338e+06</td>\n",
       "      <td>2129.13</td>\n",
       "      <td>3.794830e+09</td>\n",
       "      <td>3룸</td>\n",
       "      <td>중형</td>\n",
       "      <td>0.631579</td>\n",
       "    </tr>\n",
       "  </tbody>\n",
       "</table>\n",
       "</div>"
      ],
      "text/plain": [
       "    단지코드 임대건물구분    지역  공급유형   전용면적  전용면적별세대수   공가수 자격유형       임대보증금       임대료  \\\n",
       "0  C2483    아파트  경상북도  국민임대  39.72       134  38.0    A  15667000.0  103680.0   \n",
       "1  C2483    아파트  경상북도  국민임대  39.72        15  38.0    A  15667000.0  103680.0   \n",
       "2  C2483    아파트  경상북도  국민임대  51.93       385  38.0    A  27304000.0  184330.0   \n",
       "3  C2483    아파트  경상북도  국민임대  51.93        15  38.0    A  27304000.0  184330.0   \n",
       "4  C2483    아파트  경상북도  국민임대  51.93        41  38.0    A  27304000.0  184330.0   \n",
       "\n",
       "   지하철   버스  단지내주차면수   등록차량수  총세대수         면적당보증금       면적당임대료       환산보증금  \\\n",
       "0  0.0  3.0   1425.0  1015.0   900  394436.052367  2610.271903  52369720.0   \n",
       "1  0.0  3.0   1425.0  1015.0   900  394436.052367  2610.271903  52369720.0   \n",
       "2  0.0  3.0   1425.0  1015.0   900  525784.710187  3549.585981  92556820.0   \n",
       "3  0.0  3.0   1425.0  1015.0   900  525784.710187  3549.585981  92556820.0   \n",
       "4  0.0  3.0   1425.0  1015.0   900  525784.710187  3549.585981  92556820.0   \n",
       "\n",
       "       면적당환산보증금     건축연면적     세대수X환산보증금 방개수 전용면적구분  총세대수/주차면수  \n",
       "0  1.318472e+06   5322.48  7.017542e+09  2룸     소형   0.631579  \n",
       "1  1.318472e+06    595.80  7.855458e+08  2룸     소형   0.631579  \n",
       "2  1.782338e+06  19993.05  3.563438e+10  3룸     중형   0.631579  \n",
       "3  1.782338e+06    778.95  1.388352e+09  3룸     중형   0.631579  \n",
       "4  1.782338e+06   2129.13  3.794830e+09  3룸     중형   0.631579  "
      ]
     },
     "execution_count": 53,
     "metadata": {},
     "output_type": "execute_result"
    }
   ],
   "source": [
    "train.head()"
   ]
  },
  {
   "cell_type": "code",
   "execution_count": 54,
   "id": "f91000e5",
   "metadata": {
    "tags": []
   },
   "outputs": [],
   "source": [
    "# 공급유형 unstack\n",
    "temp = train.groupby(['단지코드', '공급유형'])['전용면적별세대수'].sum().unstack().fillna(0)\n",
    "train = pd.merge(train.loc[:, ~train.columns.isin(['공급유형'])], temp, on='단지코드')\n",
    "temp = test.groupby(['단지코드', '공급유형'])['전용면적별세대수'].sum().unstack().fillna(0)\n",
    "test = pd.merge(test.loc[:, ~test.columns.isin(['공급유형'])], temp, on='단지코드')"
   ]
  },
  {
   "cell_type": "code",
   "execution_count": 55,
   "id": "4434fcb6",
   "metadata": {},
   "outputs": [],
   "source": [
    "# 자격유형 unstack\n",
    "temp = train.groupby(['단지코드', '자격유형'])['전용면적별세대수'].sum().unstack().fillna(0)\n",
    "train = pd.merge(train.loc[:, ~train.columns.isin(['자격유형'])], temp, on='단지코드')\n",
    "temp = test.groupby(['단지코드', '자격유형'])['전용면적별세대수'].sum().unstack().fillna(0)\n",
    "test = pd.merge(test.loc[:, ~test.columns.isin(['자격유형'])], temp, on='단지코드')"
   ]
  },
  {
   "cell_type": "code",
   "execution_count": 56,
   "id": "86d9888a",
   "metadata": {},
   "outputs": [],
   "source": [
    "# 면적당환산보증금세대수 합계로 산출\n",
    "temp = train.groupby(['단지코드'])['세대수X환산보증금'].sum().reset_index()\n",
    "train = pd.merge(train.loc[:, ~train.columns.isin(['세대수X환산보증금'])], temp, on='단지코드')\n",
    "temp = test.groupby(['단지코드'])['세대수X환산보증금'].sum().reset_index()\n",
    "test = pd.merge(test.loc[:, ~test.columns.isin(['세대수X환산보증금'])], temp, on='단지코드')"
   ]
  },
  {
   "cell_type": "code",
   "execution_count": 57,
   "id": "93610616",
   "metadata": {},
   "outputs": [],
   "source": [
    "# 단지평균면적당환산보증금 산출\n",
    "temp = train.groupby(['단지코드'])['면적당환산보증금'].mean().reset_index()\n",
    "train = pd.merge(train.loc[:, ~train.columns.isin(['면적당환산보증금'])], temp, on='단지코드')\n",
    "temp = test.groupby(['단지코드'])['면적당환산보증금'].mean().reset_index()\n",
    "test = pd.merge(test.loc[:, ~test.columns.isin(['면적당환산보증금'])], temp, on='단지코드')"
   ]
  },
  {
   "cell_type": "code",
   "execution_count": 58,
   "id": "643ece14",
   "metadata": {},
   "outputs": [],
   "source": [
    "# 방개수 unstack\n",
    "temp = train.groupby(['단지코드', '방개수'])['전용면적별세대수'].sum().unstack().fillna(0)\n",
    "train = pd.merge(train.loc[:, ~train.columns.isin(['방개수'])], temp, on='단지코드')\n",
    "temp = test.groupby(['단지코드', '방개수'])['전용면적별세대수'].sum().unstack().fillna(0)\n",
    "test = pd.merge(test.loc[:, ~test.columns.isin(['방개수'])], temp, on='단지코드')"
   ]
  },
  {
   "cell_type": "code",
   "execution_count": 59,
   "id": "1de80879",
   "metadata": {},
   "outputs": [],
   "source": [
    "# 전용면적구분 unstack\n",
    "temp = train.groupby(['단지코드', '전용면적구분'])['전용면적별세대수'].sum().unstack().fillna(0)\n",
    "train = pd.merge(train.loc[:, ~train.columns.isin(['전용면적구분'])], temp, on='단지코드')\n",
    "temp = test.groupby(['단지코드', '전용면적구분'])['전용면적별세대수'].sum().unstack().fillna(0)\n",
    "test = pd.merge(test.loc[:, ~test.columns.isin(['전용면적구분'])], temp, on='단지코드')"
   ]
  },
  {
   "cell_type": "code",
   "execution_count": 60,
   "id": "7f97ab53",
   "metadata": {},
   "outputs": [],
   "source": [
    "# 건축연면적 합계로 산출\n",
    "temp = train.groupby(['단지코드'])['건축연면적'].sum().reset_index()\n",
    "train = pd.merge(train.loc[:, ~train.columns.isin(['건축연면적'])], temp, on='단지코드')\n",
    "temp = test.groupby(['단지코드'])['건축연면적'].sum().reset_index()\n",
    "test = pd.merge(test.loc[:, ~test.columns.isin(['건축연면적'])], temp, on='단지코드')"
   ]
  },
  {
   "cell_type": "code",
   "execution_count": 61,
   "id": "7532ad4f",
   "metadata": {},
   "outputs": [],
   "source": [
    "# 실거주세대 대비 차량수의 지역 평균으로 오름차순 정렬\n",
    "# Order를 주었습니다.\n",
    "region_dict = {'서울특별시': 0,\n",
    "               '경기도':1,\n",
    "               '세종특별자치시':2,\n",
    "               '경상북도':3,\n",
    "               '대구광역시':4,\n",
    "               '광주광역시':5,\n",
    "               '충청북도':6,\n",
    "               '전라남도':7,\n",
    "               '전라북도':8,\n",
    "               '강원도':9,\n",
    "               '경상남도':10,\n",
    "               '울산광역시':11,\n",
    "               '제주특별자치도':12,\n",
    "               '대전광역시':13,\n",
    "               '충청남도':14,\n",
    "               '부산광역시':15}\n",
    "\n",
    "train['지역'] = train['지역'].map(region_dict)\n",
    "test['지역'] = test['지역'].map(region_dict)"
   ]
  },
  {
   "cell_type": "code",
   "execution_count": 62,
   "id": "b99de927",
   "metadata": {
    "tags": []
   },
   "outputs": [],
   "source": [
    "# 전처리가 끝나서 필요없는 변수 삭제\n",
    "train.drop(['임대건물구분', '전용면적', '전용면적별세대수', '임대보증금',\n",
    "            '임대료', '환산보증금', '면적당보증금', '면적당임대료'], axis=1, inplace=True)\n",
    "test.drop(['임대건물구분', '전용면적', '전용면적별세대수', '임대보증금',\n",
    "           '임대료', '환산보증금', '면적당보증금', '면적당임대료'], axis=1, inplace=True)"
   ]
  },
  {
   "cell_type": "code",
   "execution_count": 63,
   "id": "3e21dec6",
   "metadata": {},
   "outputs": [],
   "source": [
    "# 단지고유의 레코드만 남겨줍니다.\n",
    "train = train.drop_duplicates().reset_index(drop=True)\n",
    "test = test.drop_duplicates().reset_index(drop=True)"
   ]
  },
  {
   "cell_type": "code",
   "execution_count": 64,
   "id": "3ea7201b",
   "metadata": {},
   "outputs": [
    {
     "data": {
      "text/plain": [
       "((420, 33), (147, 29))"
      ]
     },
     "execution_count": 64,
     "metadata": {},
     "output_type": "execute_result"
    }
   ],
   "source": [
    "train.shape, test.shape"
   ]
  },
  {
   "cell_type": "code",
   "execution_count": 70,
   "id": "98801f49",
   "metadata": {
    "tags": []
   },
   "outputs": [],
   "source": [
    "# 일전에 떼어 놓았던 상가 컬럼 두개를 합쳐줍니다.\n",
    "train = pd.merge(train, train_shops.rename({'전용면적별세대수':'상가세대수', '전용면적':'상가면적합'}, axis=1).reset_index(),\n",
    "                 how='left', on='단지코드')\n",
    "test = pd.merge(test, test_shops.rename({'전용면적별세대수':'상가세대수', '전용면적':'상가면적합'}, axis=1).reset_index(),\n",
    "                how='left', on='단지코드')"
   ]
  },
  {
   "cell_type": "code",
   "execution_count": 65,
   "id": "7f563410",
   "metadata": {},
   "outputs": [
    {
     "data": {
      "text/plain": [
       "{'공공분양', '공공임대(5년)', '등록차량수', '장기전세'}"
      ]
     },
     "execution_count": 65,
     "metadata": {},
     "output_type": "execute_result"
    }
   ],
   "source": [
    "set(train.columns).difference(test.columns)"
   ]
  },
  {
   "cell_type": "code",
   "execution_count": 66,
   "id": "7d9b989d",
   "metadata": {
    "tags": []
   },
   "outputs": [],
   "source": [
    "# 테스트 셋에는 없는 컬럼을 드랍해줍니다.\n",
    "train.drop(['장기전세', '공공분양', '공공임대(5년)'], axis=1, inplace=True)"
   ]
  },
  {
   "cell_type": "code",
   "execution_count": 71,
   "id": "b7db366d",
   "metadata": {},
   "outputs": [
    {
     "data": {
      "text/html": [
       "<div>\n",
       "<style scoped>\n",
       "    .dataframe tbody tr th:only-of-type {\n",
       "        vertical-align: middle;\n",
       "    }\n",
       "\n",
       "    .dataframe tbody tr th {\n",
       "        vertical-align: top;\n",
       "    }\n",
       "\n",
       "    .dataframe thead th {\n",
       "        text-align: right;\n",
       "    }\n",
       "</style>\n",
       "<table border=\"1\" class=\"dataframe\">\n",
       "  <thead>\n",
       "    <tr style=\"text-align: right;\">\n",
       "      <th></th>\n",
       "      <th>단지코드</th>\n",
       "      <th>지역</th>\n",
       "      <th>공가수</th>\n",
       "      <th>지하철</th>\n",
       "      <th>버스</th>\n",
       "      <th>단지내주차면수</th>\n",
       "      <th>등록차량수</th>\n",
       "      <th>총세대수</th>\n",
       "      <th>총세대수/주차면수</th>\n",
       "      <th>공공임대(10년)</th>\n",
       "      <th>공공임대(50년)</th>\n",
       "      <th>공공임대(분납)</th>\n",
       "      <th>국민임대</th>\n",
       "      <th>영구임대</th>\n",
       "      <th>행복주택</th>\n",
       "      <th>A</th>\n",
       "      <th>국민임대_공급대상</th>\n",
       "      <th>영구임대_공급대상</th>\n",
       "      <th>행복주택_공급대상</th>\n",
       "      <th>세대수X환산보증금</th>\n",
       "      <th>면적당환산보증금</th>\n",
       "      <th>1룸</th>\n",
       "      <th>2룸</th>\n",
       "      <th>3룸</th>\n",
       "      <th>4룸</th>\n",
       "      <th>5룸</th>\n",
       "      <th>대형</th>\n",
       "      <th>소형</th>\n",
       "      <th>중형</th>\n",
       "      <th>건축연면적</th>\n",
       "      <th>상가세대수</th>\n",
       "      <th>상가면적합</th>\n",
       "    </tr>\n",
       "  </thead>\n",
       "  <tbody>\n",
       "    <tr>\n",
       "      <th>0</th>\n",
       "      <td>C2483</td>\n",
       "      <td>3</td>\n",
       "      <td>38.0</td>\n",
       "      <td>0.0</td>\n",
       "      <td>3.0</td>\n",
       "      <td>1425.0</td>\n",
       "      <td>1015.0</td>\n",
       "      <td>900</td>\n",
       "      <td>0.631579</td>\n",
       "      <td>0.0</td>\n",
       "      <td>0.0</td>\n",
       "      <td>0.0</td>\n",
       "      <td>900.0</td>\n",
       "      <td>0.0</td>\n",
       "      <td>0.0</td>\n",
       "      <td>900.0</td>\n",
       "      <td>0.0</td>\n",
       "      <td>0.0</td>\n",
       "      <td>0.0</td>\n",
       "      <td>7.848731e+10</td>\n",
       "      <td>1.665119e+06</td>\n",
       "      <td>0.0</td>\n",
       "      <td>149.0</td>\n",
       "      <td>665.0</td>\n",
       "      <td>86.0</td>\n",
       "      <td>0.0</td>\n",
       "      <td>0.0</td>\n",
       "      <td>149.0</td>\n",
       "      <td>751.0</td>\n",
       "      <td>45605.89</td>\n",
       "      <td>NaN</td>\n",
       "      <td>NaN</td>\n",
       "    </tr>\n",
       "    <tr>\n",
       "      <th>1</th>\n",
       "      <td>C2515</td>\n",
       "      <td>10</td>\n",
       "      <td>17.0</td>\n",
       "      <td>0.0</td>\n",
       "      <td>3.0</td>\n",
       "      <td>624.0</td>\n",
       "      <td>205.0</td>\n",
       "      <td>545</td>\n",
       "      <td>0.873397</td>\n",
       "      <td>0.0</td>\n",
       "      <td>0.0</td>\n",
       "      <td>0.0</td>\n",
       "      <td>545.0</td>\n",
       "      <td>0.0</td>\n",
       "      <td>0.0</td>\n",
       "      <td>545.0</td>\n",
       "      <td>0.0</td>\n",
       "      <td>0.0</td>\n",
       "      <td>0.0</td>\n",
       "      <td>3.069148e+10</td>\n",
       "      <td>1.461542e+06</td>\n",
       "      <td>276.0</td>\n",
       "      <td>80.0</td>\n",
       "      <td>189.0</td>\n",
       "      <td>0.0</td>\n",
       "      <td>0.0</td>\n",
       "      <td>0.0</td>\n",
       "      <td>356.0</td>\n",
       "      <td>189.0</td>\n",
       "      <td>21941.82</td>\n",
       "      <td>NaN</td>\n",
       "      <td>NaN</td>\n",
       "    </tr>\n",
       "    <tr>\n",
       "      <th>2</th>\n",
       "      <td>C1407</td>\n",
       "      <td>13</td>\n",
       "      <td>13.0</td>\n",
       "      <td>1.0</td>\n",
       "      <td>1.0</td>\n",
       "      <td>1285.0</td>\n",
       "      <td>1064.0</td>\n",
       "      <td>1216</td>\n",
       "      <td>0.946304</td>\n",
       "      <td>0.0</td>\n",
       "      <td>0.0</td>\n",
       "      <td>0.0</td>\n",
       "      <td>1216.0</td>\n",
       "      <td>0.0</td>\n",
       "      <td>0.0</td>\n",
       "      <td>1216.0</td>\n",
       "      <td>0.0</td>\n",
       "      <td>0.0</td>\n",
       "      <td>0.0</td>\n",
       "      <td>1.072339e+11</td>\n",
       "      <td>2.173057e+06</td>\n",
       "      <td>390.0</td>\n",
       "      <td>362.0</td>\n",
       "      <td>464.0</td>\n",
       "      <td>0.0</td>\n",
       "      <td>0.0</td>\n",
       "      <td>0.0</td>\n",
       "      <td>390.0</td>\n",
       "      <td>826.0</td>\n",
       "      <td>49159.08</td>\n",
       "      <td>NaN</td>\n",
       "      <td>NaN</td>\n",
       "    </tr>\n",
       "    <tr>\n",
       "      <th>3</th>\n",
       "      <td>C1945</td>\n",
       "      <td>1</td>\n",
       "      <td>6.0</td>\n",
       "      <td>1.0</td>\n",
       "      <td>3.0</td>\n",
       "      <td>734.0</td>\n",
       "      <td>730.0</td>\n",
       "      <td>755</td>\n",
       "      <td>1.028610</td>\n",
       "      <td>0.0</td>\n",
       "      <td>0.0</td>\n",
       "      <td>0.0</td>\n",
       "      <td>755.0</td>\n",
       "      <td>0.0</td>\n",
       "      <td>0.0</td>\n",
       "      <td>0.0</td>\n",
       "      <td>755.0</td>\n",
       "      <td>0.0</td>\n",
       "      <td>0.0</td>\n",
       "      <td>6.703930e+10</td>\n",
       "      <td>1.748453e+06</td>\n",
       "      <td>0.0</td>\n",
       "      <td>240.0</td>\n",
       "      <td>303.0</td>\n",
       "      <td>212.0</td>\n",
       "      <td>0.0</td>\n",
       "      <td>0.0</td>\n",
       "      <td>240.0</td>\n",
       "      <td>515.0</td>\n",
       "      <td>37962.15</td>\n",
       "      <td>NaN</td>\n",
       "      <td>NaN</td>\n",
       "    </tr>\n",
       "    <tr>\n",
       "      <th>4</th>\n",
       "      <td>C1470</td>\n",
       "      <td>8</td>\n",
       "      <td>14.0</td>\n",
       "      <td>0.0</td>\n",
       "      <td>2.0</td>\n",
       "      <td>645.0</td>\n",
       "      <td>553.0</td>\n",
       "      <td>696</td>\n",
       "      <td>1.079070</td>\n",
       "      <td>0.0</td>\n",
       "      <td>0.0</td>\n",
       "      <td>0.0</td>\n",
       "      <td>696.0</td>\n",
       "      <td>0.0</td>\n",
       "      <td>0.0</td>\n",
       "      <td>696.0</td>\n",
       "      <td>0.0</td>\n",
       "      <td>0.0</td>\n",
       "      <td>0.0</td>\n",
       "      <td>4.440690e+10</td>\n",
       "      <td>1.390810e+06</td>\n",
       "      <td>0.0</td>\n",
       "      <td>254.0</td>\n",
       "      <td>442.0</td>\n",
       "      <td>0.0</td>\n",
       "      <td>0.0</td>\n",
       "      <td>0.0</td>\n",
       "      <td>254.0</td>\n",
       "      <td>442.0</td>\n",
       "      <td>31250.88</td>\n",
       "      <td>NaN</td>\n",
       "      <td>NaN</td>\n",
       "    </tr>\n",
       "  </tbody>\n",
       "</table>\n",
       "</div>"
      ],
      "text/plain": [
       "    단지코드  지역   공가수  지하철   버스  단지내주차면수   등록차량수  총세대수  총세대수/주차면수  공공임대(10년)  \\\n",
       "0  C2483   3  38.0  0.0  3.0   1425.0  1015.0   900   0.631579        0.0   \n",
       "1  C2515  10  17.0  0.0  3.0    624.0   205.0   545   0.873397        0.0   \n",
       "2  C1407  13  13.0  1.0  1.0   1285.0  1064.0  1216   0.946304        0.0   \n",
       "3  C1945   1   6.0  1.0  3.0    734.0   730.0   755   1.028610        0.0   \n",
       "4  C1470   8  14.0  0.0  2.0    645.0   553.0   696   1.079070        0.0   \n",
       "\n",
       "   공공임대(50년)  공공임대(분납)    국민임대  영구임대  행복주택       A  국민임대_공급대상  영구임대_공급대상  \\\n",
       "0        0.0       0.0   900.0   0.0   0.0   900.0        0.0        0.0   \n",
       "1        0.0       0.0   545.0   0.0   0.0   545.0        0.0        0.0   \n",
       "2        0.0       0.0  1216.0   0.0   0.0  1216.0        0.0        0.0   \n",
       "3        0.0       0.0   755.0   0.0   0.0     0.0      755.0        0.0   \n",
       "4        0.0       0.0   696.0   0.0   0.0   696.0        0.0        0.0   \n",
       "\n",
       "   행복주택_공급대상     세대수X환산보증금      면적당환산보증금     1룸     2룸     3룸     4룸   5룸  \\\n",
       "0        0.0  7.848731e+10  1.665119e+06    0.0  149.0  665.0   86.0  0.0   \n",
       "1        0.0  3.069148e+10  1.461542e+06  276.0   80.0  189.0    0.0  0.0   \n",
       "2        0.0  1.072339e+11  2.173057e+06  390.0  362.0  464.0    0.0  0.0   \n",
       "3        0.0  6.703930e+10  1.748453e+06    0.0  240.0  303.0  212.0  0.0   \n",
       "4        0.0  4.440690e+10  1.390810e+06    0.0  254.0  442.0    0.0  0.0   \n",
       "\n",
       "    대형     소형     중형     건축연면적  상가세대수  상가면적합  \n",
       "0  0.0  149.0  751.0  45605.89    NaN    NaN  \n",
       "1  0.0  356.0  189.0  21941.82    NaN    NaN  \n",
       "2  0.0  390.0  826.0  49159.08    NaN    NaN  \n",
       "3  0.0  240.0  515.0  37962.15    NaN    NaN  \n",
       "4  0.0  254.0  442.0  31250.88    NaN    NaN  "
      ]
     },
     "execution_count": 71,
     "metadata": {},
     "output_type": "execute_result"
    }
   ],
   "source": [
    "train.head()"
   ]
  },
  {
   "cell_type": "code",
   "execution_count": 72,
   "id": "689a623c",
   "metadata": {},
   "outputs": [
    {
     "data": {
      "text/html": [
       "<div>\n",
       "<style scoped>\n",
       "    .dataframe tbody tr th:only-of-type {\n",
       "        vertical-align: middle;\n",
       "    }\n",
       "\n",
       "    .dataframe tbody tr th {\n",
       "        vertical-align: top;\n",
       "    }\n",
       "\n",
       "    .dataframe thead th {\n",
       "        text-align: right;\n",
       "    }\n",
       "</style>\n",
       "<table border=\"1\" class=\"dataframe\">\n",
       "  <thead>\n",
       "    <tr style=\"text-align: right;\">\n",
       "      <th></th>\n",
       "      <th>단지코드</th>\n",
       "      <th>지역</th>\n",
       "      <th>공가수</th>\n",
       "      <th>지하철</th>\n",
       "      <th>버스</th>\n",
       "      <th>단지내주차면수</th>\n",
       "      <th>총세대수</th>\n",
       "      <th>총세대수/주차면수</th>\n",
       "      <th>공공임대(10년)</th>\n",
       "      <th>공공임대(50년)</th>\n",
       "      <th>공공임대(분납)</th>\n",
       "      <th>국민임대</th>\n",
       "      <th>영구임대</th>\n",
       "      <th>행복주택</th>\n",
       "      <th>A</th>\n",
       "      <th>국민임대_공급대상</th>\n",
       "      <th>영구임대_공급대상</th>\n",
       "      <th>행복주택_공급대상</th>\n",
       "      <th>세대수X환산보증금</th>\n",
       "      <th>면적당환산보증금</th>\n",
       "      <th>1룸</th>\n",
       "      <th>2룸</th>\n",
       "      <th>3룸</th>\n",
       "      <th>4룸</th>\n",
       "      <th>5룸</th>\n",
       "      <th>대형</th>\n",
       "      <th>소형</th>\n",
       "      <th>중형</th>\n",
       "      <th>건축연면적</th>\n",
       "      <th>상가세대수</th>\n",
       "      <th>상가면적합</th>\n",
       "    </tr>\n",
       "  </thead>\n",
       "  <tbody>\n",
       "    <tr>\n",
       "      <th>0</th>\n",
       "      <td>C1072</td>\n",
       "      <td>1</td>\n",
       "      <td>14.0</td>\n",
       "      <td>0.0</td>\n",
       "      <td>2.0</td>\n",
       "      <td>683.0</td>\n",
       "      <td>754</td>\n",
       "      <td>1.103953</td>\n",
       "      <td>0.0</td>\n",
       "      <td>0.0</td>\n",
       "      <td>0.0</td>\n",
       "      <td>754.0</td>\n",
       "      <td>0.0</td>\n",
       "      <td>0.0</td>\n",
       "      <td>30.0</td>\n",
       "      <td>724.0</td>\n",
       "      <td>0.0</td>\n",
       "      <td>0.0</td>\n",
       "      <td>9.892643e+10</td>\n",
       "      <td>2.713866e+06</td>\n",
       "      <td>0.0</td>\n",
       "      <td>116.0</td>\n",
       "      <td>638.0</td>\n",
       "      <td>0.0</td>\n",
       "      <td>0.0</td>\n",
       "      <td>0.0</td>\n",
       "      <td>116.0</td>\n",
       "      <td>638.0</td>\n",
       "      <td>36394.95</td>\n",
       "      <td>NaN</td>\n",
       "      <td>NaN</td>\n",
       "    </tr>\n",
       "    <tr>\n",
       "      <th>1</th>\n",
       "      <td>C1128</td>\n",
       "      <td>1</td>\n",
       "      <td>9.0</td>\n",
       "      <td>0.0</td>\n",
       "      <td>3.0</td>\n",
       "      <td>1216.0</td>\n",
       "      <td>1354</td>\n",
       "      <td>1.113487</td>\n",
       "      <td>0.0</td>\n",
       "      <td>0.0</td>\n",
       "      <td>0.0</td>\n",
       "      <td>1354.0</td>\n",
       "      <td>0.0</td>\n",
       "      <td>0.0</td>\n",
       "      <td>222.0</td>\n",
       "      <td>1132.0</td>\n",
       "      <td>0.0</td>\n",
       "      <td>0.0</td>\n",
       "      <td>1.680103e+11</td>\n",
       "      <td>2.594390e+06</td>\n",
       "      <td>0.0</td>\n",
       "      <td>420.0</td>\n",
       "      <td>934.0</td>\n",
       "      <td>0.0</td>\n",
       "      <td>0.0</td>\n",
       "      <td>0.0</td>\n",
       "      <td>420.0</td>\n",
       "      <td>934.0</td>\n",
       "      <td>63429.68</td>\n",
       "      <td>NaN</td>\n",
       "      <td>NaN</td>\n",
       "    </tr>\n",
       "    <tr>\n",
       "      <th>2</th>\n",
       "      <td>C1456</td>\n",
       "      <td>15</td>\n",
       "      <td>18.0</td>\n",
       "      <td>0.0</td>\n",
       "      <td>16.0</td>\n",
       "      <td>547.0</td>\n",
       "      <td>619</td>\n",
       "      <td>1.131627</td>\n",
       "      <td>0.0</td>\n",
       "      <td>0.0</td>\n",
       "      <td>0.0</td>\n",
       "      <td>619.0</td>\n",
       "      <td>0.0</td>\n",
       "      <td>0.0</td>\n",
       "      <td>619.0</td>\n",
       "      <td>0.0</td>\n",
       "      <td>0.0</td>\n",
       "      <td>0.0</td>\n",
       "      <td>7.042407e+10</td>\n",
       "      <td>2.488889e+06</td>\n",
       "      <td>82.0</td>\n",
       "      <td>165.0</td>\n",
       "      <td>328.0</td>\n",
       "      <td>44.0</td>\n",
       "      <td>0.0</td>\n",
       "      <td>0.0</td>\n",
       "      <td>247.0</td>\n",
       "      <td>372.0</td>\n",
       "      <td>27958.80</td>\n",
       "      <td>NaN</td>\n",
       "      <td>NaN</td>\n",
       "    </tr>\n",
       "    <tr>\n",
       "      <th>3</th>\n",
       "      <td>C1840</td>\n",
       "      <td>8</td>\n",
       "      <td>7.0</td>\n",
       "      <td>0.0</td>\n",
       "      <td>3.0</td>\n",
       "      <td>543.0</td>\n",
       "      <td>593</td>\n",
       "      <td>1.092081</td>\n",
       "      <td>0.0</td>\n",
       "      <td>0.0</td>\n",
       "      <td>0.0</td>\n",
       "      <td>593.0</td>\n",
       "      <td>0.0</td>\n",
       "      <td>0.0</td>\n",
       "      <td>593.0</td>\n",
       "      <td>0.0</td>\n",
       "      <td>0.0</td>\n",
       "      <td>0.0</td>\n",
       "      <td>3.596387e+10</td>\n",
       "      <td>1.397721e+06</td>\n",
       "      <td>0.0</td>\n",
       "      <td>335.0</td>\n",
       "      <td>258.0</td>\n",
       "      <td>0.0</td>\n",
       "      <td>0.0</td>\n",
       "      <td>0.0</td>\n",
       "      <td>335.0</td>\n",
       "      <td>258.0</td>\n",
       "      <td>25778.67</td>\n",
       "      <td>NaN</td>\n",
       "      <td>NaN</td>\n",
       "    </tr>\n",
       "    <tr>\n",
       "      <th>4</th>\n",
       "      <td>C1332</td>\n",
       "      <td>1</td>\n",
       "      <td>11.0</td>\n",
       "      <td>0.0</td>\n",
       "      <td>2.0</td>\n",
       "      <td>1112.0</td>\n",
       "      <td>1297</td>\n",
       "      <td>1.166367</td>\n",
       "      <td>0.0</td>\n",
       "      <td>0.0</td>\n",
       "      <td>0.0</td>\n",
       "      <td>1297.0</td>\n",
       "      <td>0.0</td>\n",
       "      <td>0.0</td>\n",
       "      <td>0.0</td>\n",
       "      <td>1297.0</td>\n",
       "      <td>0.0</td>\n",
       "      <td>0.0</td>\n",
       "      <td>1.824962e+11</td>\n",
       "      <td>3.090162e+06</td>\n",
       "      <td>0.0</td>\n",
       "      <td>425.0</td>\n",
       "      <td>872.0</td>\n",
       "      <td>0.0</td>\n",
       "      <td>0.0</td>\n",
       "      <td>0.0</td>\n",
       "      <td>425.0</td>\n",
       "      <td>872.0</td>\n",
       "      <td>59456.73</td>\n",
       "      <td>NaN</td>\n",
       "      <td>NaN</td>\n",
       "    </tr>\n",
       "  </tbody>\n",
       "</table>\n",
       "</div>"
      ],
      "text/plain": [
       "    단지코드  지역   공가수  지하철    버스  단지내주차면수  총세대수  총세대수/주차면수  공공임대(10년)  공공임대(50년)  \\\n",
       "0  C1072   1  14.0  0.0   2.0    683.0   754   1.103953        0.0        0.0   \n",
       "1  C1128   1   9.0  0.0   3.0   1216.0  1354   1.113487        0.0        0.0   \n",
       "2  C1456  15  18.0  0.0  16.0    547.0   619   1.131627        0.0        0.0   \n",
       "3  C1840   8   7.0  0.0   3.0    543.0   593   1.092081        0.0        0.0   \n",
       "4  C1332   1  11.0  0.0   2.0   1112.0  1297   1.166367        0.0        0.0   \n",
       "\n",
       "   공공임대(분납)    국민임대  영구임대  행복주택      A  국민임대_공급대상  영구임대_공급대상  행복주택_공급대상  \\\n",
       "0       0.0   754.0   0.0   0.0   30.0      724.0        0.0        0.0   \n",
       "1       0.0  1354.0   0.0   0.0  222.0     1132.0        0.0        0.0   \n",
       "2       0.0   619.0   0.0   0.0  619.0        0.0        0.0        0.0   \n",
       "3       0.0   593.0   0.0   0.0  593.0        0.0        0.0        0.0   \n",
       "4       0.0  1297.0   0.0   0.0    0.0     1297.0        0.0        0.0   \n",
       "\n",
       "      세대수X환산보증금      면적당환산보증금    1룸     2룸     3룸    4룸   5룸   대형     소형  \\\n",
       "0  9.892643e+10  2.713866e+06   0.0  116.0  638.0   0.0  0.0  0.0  116.0   \n",
       "1  1.680103e+11  2.594390e+06   0.0  420.0  934.0   0.0  0.0  0.0  420.0   \n",
       "2  7.042407e+10  2.488889e+06  82.0  165.0  328.0  44.0  0.0  0.0  247.0   \n",
       "3  3.596387e+10  1.397721e+06   0.0  335.0  258.0   0.0  0.0  0.0  335.0   \n",
       "4  1.824962e+11  3.090162e+06   0.0  425.0  872.0   0.0  0.0  0.0  425.0   \n",
       "\n",
       "      중형     건축연면적  상가세대수  상가면적합  \n",
       "0  638.0  36394.95    NaN    NaN  \n",
       "1  934.0  63429.68    NaN    NaN  \n",
       "2  372.0  27958.80    NaN    NaN  \n",
       "3  258.0  25778.67    NaN    NaN  \n",
       "4  872.0  59456.73    NaN    NaN  "
      ]
     },
     "execution_count": 72,
     "metadata": {},
     "output_type": "execute_result"
    }
   ],
   "source": [
    "test.head()"
   ]
  },
  {
   "cell_type": "code",
   "execution_count": 73,
   "id": "cf5e42e4",
   "metadata": {},
   "outputs": [
    {
     "data": {
      "text/plain": [
       "((420, 32), (147, 31))"
      ]
     },
     "execution_count": 73,
     "metadata": {},
     "output_type": "execute_result"
    }
   ],
   "source": [
    "train.shape, test.shape"
   ]
  },
  {
   "cell_type": "code",
   "execution_count": 74,
   "id": "6043a8f8",
   "metadata": {},
   "outputs": [],
   "source": [
    "train = train.fillna(0)\n",
    "test = test.fillna(0)"
   ]
  },
  {
   "cell_type": "code",
   "execution_count": 75,
   "id": "b6e804e1",
   "metadata": {},
   "outputs": [],
   "source": [
    "x_train = train.loc[:, ~train.columns.isin(['단지코드', '등록차량수'])]\n",
    "y_train = train['등록차량수']\n",
    "x_test = test.loc[:, ~test.columns.isin(['단지코드'])]\n",
    "x_code = test['단지코드']"
   ]
  },
  {
   "cell_type": "code",
   "execution_count": 76,
   "id": "6721ccc9",
   "metadata": {},
   "outputs": [
    {
     "data": {
      "text/plain": [
       "((420, 30), (420,), (147, 30), (147,))"
      ]
     },
     "execution_count": 76,
     "metadata": {},
     "output_type": "execute_result"
    }
   ],
   "source": [
    "x_train.shape, y_train.shape, x_test.shape, x_code.shape"
   ]
  },
  {
   "cell_type": "code",
   "execution_count": 77,
   "id": "48959fd3",
   "metadata": {},
   "outputs": [],
   "source": [
    "# 다양한 알고리즘과 하이퍼파라미터 튜닝을 거쳤지만, 랜포가 가장 높은 성능\n",
    "rf = RandomForestRegressor(random_state=42, oob_score=True, criterion='mse', n_estimators=200)\n",
    "rf.fit(x_train, y_train)\n",
    "pred = rf.predict(x_test)"
   ]
  },
  {
   "cell_type": "code",
   "execution_count": 78,
   "id": "2b2b31d5",
   "metadata": {},
   "outputs": [
    {
     "data": {
      "text/plain": [
       "0.7793952713748383"
      ]
     },
     "execution_count": 78,
     "metadata": {},
     "output_type": "execute_result"
    }
   ],
   "source": [
    "rf.oob_score_"
   ]
  },
  {
   "cell_type": "code",
   "execution_count": 79,
   "id": "a7963ec8",
   "metadata": {
    "tags": []
   },
   "outputs": [
    {
     "data": {
      "image/png": "[encoded data removed]",
      "text/plain": [
       "<Figure size 864x1080 with 1 Axes>"
      ]
     },
     "metadata": {
      "needs_background": "light"
     },
     "output_type": "display_data"
    }
   ],
   "source": [
    "warnings.simplefilter(action='ignore', category=FutureWarning)\n",
    "plt.rcParams[\"font.size\"] = \"9\"\n",
    "\n",
    "fe_avg = pd.DataFrame(rf.feature_importances_,\n",
    "                      index=x_train.columns, columns=['fe']).sort_values(by=['fe'], ascending=False)\n",
    "\n",
    "plt.figure(figsize=(12, 15))\n",
    "plots = sns.barplot(fe_avg.fe, y=fe_avg.index)\n",
    "\n",
    "# Annotate every single Bar with its value, based on it's width           \n",
    "for bar in plots.patches:\n",
    "    width = bar.get_width()\n",
    "    plt.text(0.015+ bar.get_width(),\n",
    "             bar.get_y() + 0.5 * bar.get_height(),\n",
    "             '{:.3f}'.format(width),\n",
    "             ha='center', va='center')\n",
    "\n",
    "plt.show()"
   ]
  },
  {
   "cell_type": "code",
   "execution_count": 80,
   "id": "9de7ddf7",
   "metadata": {},
   "outputs": [],
   "source": [
    "pred = pred.round()"
   ]
  },
  {
   "cell_type": "code",
   "execution_count": 81,
   "id": "32b9b49c",
   "metadata": {},
   "outputs": [],
   "source": [
    "sub = pd.merge(sub, pd.DataFrame(pred, index=x_code, columns=['pred']).reset_index(),\n",
    "               how='left', left_on='code', right_on='단지코드').fillna(0)[['code', 'pred']]"
   ]
  },
  {
   "cell_type": "code",
   "execution_count": 82,
   "id": "e627b800",
   "metadata": {},
   "outputs": [],
   "source": [
    "sub.rename({'pred':'num'}, axis=1, inplace=True)"
   ]
  },
  {
   "cell_type": "code",
   "execution_count": 88,
   "id": "fc103150",
   "metadata": {
    "tags": []
   },
   "outputs": [
    {
     "data": {
      "text/html": [
       "<div>\n",
       "<style scoped>\n",
       "    .dataframe tbody tr th:only-of-type {\n",
       "        vertical-align: middle;\n",
       "    }\n",
       "\n",
       "    .dataframe tbody tr th {\n",
       "        vertical-align: top;\n",
       "    }\n",
       "\n",
       "    .dataframe thead th {\n",
       "        text-align: right;\n",
       "    }\n",
       "</style>\n",
       "<table border=\"1\" class=\"dataframe\">\n",
       "  <thead>\n",
       "    <tr style=\"text-align: right;\">\n",
       "      <th></th>\n",
       "      <th>code</th>\n",
       "      <th>num</th>\n",
       "    </tr>\n",
       "  </thead>\n",
       "  <tbody>\n",
       "    <tr>\n",
       "      <th>0</th>\n",
       "      <td>C1072</td>\n",
       "      <td>800.0</td>\n",
       "    </tr>\n",
       "    <tr>\n",
       "      <th>1</th>\n",
       "      <td>C1128</td>\n",
       "      <td>1169.0</td>\n",
       "    </tr>\n",
       "    <tr>\n",
       "      <th>2</th>\n",
       "      <td>C1456</td>\n",
       "      <td>511.0</td>\n",
       "    </tr>\n",
       "    <tr>\n",
       "      <th>3</th>\n",
       "      <td>C1840</td>\n",
       "      <td>534.0</td>\n",
       "    </tr>\n",
       "    <tr>\n",
       "      <th>4</th>\n",
       "      <td>C1332</td>\n",
       "      <td>1254.0</td>\n",
       "    </tr>\n",
       "  </tbody>\n",
       "</table>\n",
       "</div>"
      ],
      "text/plain": [
       "    code     num\n",
       "0  C1072   800.0\n",
       "1  C1128  1169.0\n",
       "2  C1456   511.0\n",
       "3  C1840   534.0\n",
       "4  C1332  1254.0"
      ]
     },
     "execution_count": 88,
     "metadata": {},
     "output_type": "execute_result"
    }
   ],
   "source": [
    "sub.head()"
   ]
  },
  {
   "cell_type": "markdown",
   "id": "af4bae23",
   "metadata": {},
   "source": [
    "- Public Score: 98.28571\n",
    "- Private Score: 110.81632"
   ]
  },
  {
   "cell_type": "markdown",
   "id": "dd62953c",
   "metadata": {},
   "source": [
    "- Public Rank: 120th\n",
    "- Private Rank: 83th"
   ]
  },
  {
   "cell_type": "code",
   "execution_count": null,
   "id": "84323270",
   "metadata": {},
   "outputs": [],
   "source": []
  }
 ],
 "metadata": {
  "kernelspec": {
   "display_name": "wyatt38",
   "language": "python",
   "name": "wyatt38"
  },
  "language_info": {
   "codemirror_mode": {
    "name": "ipython",
    "version": 3
   },
   "file_extension": ".py",
   "mimetype": "text/x-python",
   "name": "python",
   "nbconvert_exporter": "python",
   "pygments_lexer": "ipython3",
   "version": "3.8.0"
  }
 },
 "nbformat": 4,
 "nbformat_minor": 5
}
