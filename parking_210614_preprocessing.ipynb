{
 "cells": [
  {
   "cell_type": "markdown",
   "id": "d233c0c3",
   "metadata": {},
   "source": [
    "# **임대주택 단지 내 적정 주차수요 예측 대회**"
   ]
  },
  {
   "cell_type": "code",
   "execution_count": 588,
   "id": "6b450dd9",
   "metadata": {},
   "outputs": [],
   "source": [
    "PATH = r'C:\\Users\\Wyatt\\wyatt37\\data\\parking'"
   ]
  },
  {
   "cell_type": "code",
   "execution_count": 1123,
   "id": "78cd553b",
   "metadata": {},
   "outputs": [],
   "source": [
    "import pandas as pd\n",
    "import numpy as np\n",
    "import matplotlib.pyplot as plt\n",
    "import seaborn as sns\n",
    "\n",
    "from matplotlib import font_manager, rc\n",
    "font_path = \"C:/Windows/Fonts/NGULIM.TTF\"\n",
    "font = font_manager.FontProperties(fname=font_path).get_name()\n",
    "rc('font', family=font)\n",
    "\n",
    "import warnings\n",
    "warnings.filterwarnings(\"ignore\")"
   ]
  },
  {
   "cell_type": "code",
   "execution_count": 1124,
   "id": "5bebf83d",
   "metadata": {
    "tags": []
   },
   "outputs": [],
   "source": [
    "age_gender = pd.read_csv(PATH + '\\\\new_age_gender_info.csv')\n",
    "train = pd.read_csv(PATH + '\\\\new_train.csv')\n",
    "test = pd.read_csv(PATH + '\\\\new_test.csv')\n",
    "sub = pd.read_csv(PATH + '\\\\new_sample_submission.csv')"
   ]
  },
  {
   "cell_type": "markdown",
   "id": "31d8f5dc",
   "metadata": {},
   "source": [
    "# PREPROCESSING"
   ]
  },
  {
   "cell_type": "code",
   "execution_count": 1125,
   "id": "2020a746",
   "metadata": {},
   "outputs": [],
   "source": [
    "# 컬럼명이 너무 긴 지하철과 버스만 바꿔주겠습니다.\n",
    "train.rename({'도보 10분거리 내 지하철역 수(환승노선 수 반영)': '지하철',\n",
    "             '도보 10분거리 내 버스정류장 수': '버스'}, axis=1, inplace=True)\n",
    "test.rename({'도보 10분거리 내 지하철역 수(환승노선 수 반영)': '지하철',\n",
    "             '도보 10분거리 내 버스정류장 수': '버스'}, axis=1, inplace=True)"
   ]
  },
  {
   "cell_type": "markdown",
   "id": "4648b18d",
   "metadata": {},
   "source": [
    "## FILLNA"
   ]
  },
  {
   "cell_type": "markdown",
   "id": "c886ffa8",
   "metadata": {},
   "source": [
    "### Subway"
   ]
  },
  {
   "cell_type": "code",
   "execution_count": 1126,
   "id": "d7aef9c4",
   "metadata": {},
   "outputs": [],
   "source": [
    "# train set에 지하철 정보가 없는 경남, 충남은 0으로 보간\n",
    "train.loc[(train['지역'].isin(['경상남도', '충청남도'])) & (train['지하철'].isnull()), '지하철'] = 0"
   ]
  },
  {
   "cell_type": "code",
   "execution_count": 1127,
   "id": "59423040",
   "metadata": {},
   "outputs": [],
   "source": [
    "# LH청약센터에서 찾은 주소로 확인한 대전의 8개 단지는 지하철이 없음\n",
    "# 0으로 채워줍시다.\n",
    "\n",
    "(train.loc[(train['지역'] == '대전광역시') & (train['지하철'].isnull()) , '지하철']) = 0"
   ]
  },
  {
   "cell_type": "code",
   "execution_count": 1128,
   "id": "d1fa2822",
   "metadata": {},
   "outputs": [],
   "source": [
    "# test set에 지하철 정보가 없는 충남은 0으로 보간\n",
    "test.loc[(test['지역'].isin(['충청남도'])) & (test['지하철'].isnull()), '지하철'] = 0"
   ]
  },
  {
   "cell_type": "code",
   "execution_count": 1129,
   "id": "030ba121",
   "metadata": {},
   "outputs": [],
   "source": [
    "# LH청약센터에서 찾은 주소로 확인한 대전의 2개 단지는 지하철이 없음\n",
    "# 0으로 채워줍시다.\n",
    "\n",
    "(test.loc[(test['지역'] == '대전광역시') & (test['지하철'].isnull()) & (test['임대건물구분'] != '상가'), '지하철']) = 0"
   ]
  },
  {
   "cell_type": "markdown",
   "id": "0b32e943",
   "metadata": {},
   "source": [
    "### Bus"
   ]
  },
  {
   "cell_type": "code",
   "execution_count": 1130,
   "id": "4ae16f4d",
   "metadata": {},
   "outputs": [],
   "source": [
    "# 버스정류장 결측치는 train set에 1개 단지에 존재\n",
    "# 해당 단지는 양산신도시LH아파트 5단지\n",
    "# 지도를 확인한 결과 보수적으로 잡아도 7개 이상\n",
    "\n",
    "train.loc[train['버스'].isnull(), '버스'] = 7"
   ]
  },
  {
   "cell_type": "markdown",
   "id": "f91d242b",
   "metadata": {},
   "source": [
    "### Rent"
   ]
  },
  {
   "cell_type": "code",
   "execution_count": 1131,
   "id": "ad59d0d9",
   "metadata": {},
   "outputs": [],
   "source": [
    "# test set 에 임대보증금과 임대료가 결측치인 1개 단지 존재\n",
    "# 해당 단지는 대전둔산1단지주공아파트\n",
    "# 공고문에 의거, 임대보증금과 임대료 아래와 같이 보간\n",
    "\n",
    "test.loc[(test['임대건물구분'] != '상가') & (test['임대보증금'].isnull()), '임대보증금'] = [5787000, 5787000, 11574000]\n",
    "test.loc[(test['임대건물구분'] != '상가') & (test['임대료'].isnull()), '임대료'] = [79980, 79980, 159960]"
   ]
  },
  {
   "cell_type": "markdown",
   "id": "e5ee02cf",
   "metadata": {},
   "source": [
    "### Qualification"
   ]
  },
  {
   "cell_type": "code",
   "execution_count": 1132,
   "id": "f79fcf9d",
   "metadata": {},
   "outputs": [],
   "source": [
    "# C2411 아파트의 자격유형은 전부 A로 되어 있음.\n",
    "# 동일하게 A로 보간\n",
    "\n",
    "test.loc[(test['단지코드'] == 'C2411') & (test['자격유형'].isnull()), '자격유형'] = 'A'"
   ]
  },
  {
   "cell_type": "code",
   "execution_count": 1133,
   "id": "234d29e7",
   "metadata": {},
   "outputs": [],
   "source": [
    "# C2253 아파트의 자격유형은 전부 C로 되어 있음.\n",
    "# 동일하게 C로 보간\n",
    "\n",
    "test.loc[(test['단지코드'] == 'C2253') & (test['자격유형'].isnull()), '자격유형'] = 'C'"
   ]
  },
  {
   "cell_type": "markdown",
   "id": "8c0b35a1",
   "metadata": {},
   "source": [
    "## VALUE PREPROCCESSING"
   ]
  },
  {
   "cell_type": "markdown",
   "id": "ca35a73f",
   "metadata": {},
   "source": [
    "### 총세대수, 전용면적별세대수 미일치 데이터 보간"
   ]
  },
  {
   "cell_type": "code",
   "execution_count": 1134,
   "id": "c94635cd",
   "metadata": {},
   "outputs": [],
   "source": [
    "# 경북혁신도시천년나무3단지\n",
    "test.loc[test['단지코드'] == 'C2497', '전용면적별세대수'] = [114, 60, 275, 39]\n",
    "# 속초청초아파트\n",
    "train.loc[train['단지코드'] == 'C1206', '총세대수'] = 478\n",
    "# 충무공동혁신도시LH아파트5단지\n",
    "train.loc[train['단지코드'] == 'C2405', '전용면적별세대수'] = [100, 100, 400]\n",
    "# 경북혁신LH천년나무2단지\n",
    "train.loc[train['단지코드'] == 'C1740', '전용면적별세대수'] = [305, 126, 184, 168]\n",
    "# LH강남아이파크\n",
    "train.loc[train['단지코드'] == 'C1024', '전용면적별세대수'] = [195, 60, 15, 154, 99, 48, 42, 53, 29, 23]\n",
    "# 서울서초A4BL\n",
    "train.loc[train['단지코드'] == 'C1344', '전용면적별세대수'] = [106, 96, 41, 39, 42, 100]\n",
    "# 남양주별내A1-3블록\n",
    "train.loc[train['단지코드'] == 'C1804', '전용면적별세대수'] = [76, 82, 279, 28]\n",
    "train = train.append({'단지코드': 'C1804',\n",
    "              '총세대수': 478,\n",
    "              '임대건물구분': '아파트',\n",
    "              '지역': '경기도',\n",
    "              '공급유형': '공공임대(10년)',\n",
    "              '전용면적': 75.78,\n",
    "              '전용면적별세대수': 13,\n",
    "              '공가수': 3.0,\n",
    "              '자격유형': 'A',\n",
    "              '임대보증금': 78957000,\n",
    "              '임대료': 530130,\n",
    "              '지하철': 0.0,\n",
    "              '버스': 3.0,\n",
    "              '단지내주차면수': 629.0,\n",
    "              '등록차량수': 951.0}, ignore_index=True)\n",
    "# 진천군 연미로 131 천년나무7단지\n",
    "train.loc[train['단지코드'] == 'C1490', '전용면적별세대수'] = [105, 84, 472, 88]\n",
    "# 나주빛가람LH3단지\n",
    "train.loc[train['단지코드'] == 'C2620', '전용면적별세대수'] = [60, 227, 316, 160, 266]\n",
    "# 대전대신2구역2단지\n",
    "train = train.append({'단지코드': 'C2470', '총세대수': 636, '임대건물구분': '아파트', '지역': '대전광역시', '공급유형': '공공분양',\n",
    "              '전용면적': 74.99, '전용면적별세대수': 72, '공가수': 1.0, '자격유형': 'A', '임대보증금': 225013300, '임대료': '-',\n",
    "              '지하철': 1.0, '버스': 2.0, '단지내주차면수': 772.0,\n",
    "              '등록차량수': 887.0}, ignore_index=True)\n",
    "train = train.append({'단지코드': 'C2470', '총세대수': 636, '임대건물구분': '아파트', '지역': '대전광역시', '공급유형': '공공분양',\n",
    "              '전용면적': 74.95, '전용면적별세대수': 66, '공가수': 1.0, '자격유형': 'A', '임대보증금': 226278000, '임대료': '-',\n",
    "              '지하철': 1.0, '버스': 2.0, '단지내주차면수': 772.0,\n",
    "              '등록차량수': 887.0}, ignore_index=True)\n",
    "train = train.append({'단지코드': 'C2470', '총세대수': 636, '임대건물구분': '아파트', '지역': '대전광역시', '공급유형': '공공분양',\n",
    "              '전용면적': 74.99, '전용면적별세대수': 92, '공가수': 1.0, '자격유형': 'A', '임대보증금': 230417000, '임대료': '-',\n",
    "              '지하철': 1.0, '버스': 2.0, '단지내주차면수': 772.0,\n",
    "              '등록차량수': 887.0}, ignore_index=True)\n",
    "#광주첨단H-2BL,H-3BL\n",
    "train.loc[train['단지코드'] == 'C1970', '총세대수'] = 200\n",
    "# 평택고덕Ca1, Ca2\n",
    "train.loc[train['단지코드'] == 'C1894', '총세대수'] = 296"
   ]
  },
  {
   "cell_type": "markdown",
   "id": "780e5afa",
   "metadata": {},
   "source": [
    "### StdDeposit(환산보증금)"
   ]
  },
  {
   "cell_type": "code",
   "execution_count": 1135,
   "id": "7412a3aa",
   "metadata": {
    "tags": []
   },
   "outputs": [],
   "source": [
    "train.loc[train['임대보증금'] == '-', '임대보증금'] = 0\n",
    "test.loc[test['임대보증금'] == '-', '임대보증금'] = 0\n",
    "\n",
    "train.loc[train['임대료'] == '-', '임대료'] = 0\n",
    "test.loc[test['임대료'] == '-', '임대료'] = 0"
   ]
  },
  {
   "cell_type": "code",
   "execution_count": 1136,
   "id": "e626208c",
   "metadata": {},
   "outputs": [],
   "source": [
    "# nan 값 때문에 object로 되어 있습니다. 일단 0으로 채워 줍니다.\n",
    "train['임대보증금'] = train['임대보증금'].fillna(0)\n",
    "test['임대보증금'] = test['임대보증금'].fillna(0)\n",
    "\n",
    "train['임대료'] = train['임대료'].fillna(0)\n",
    "test['임대료'] = test['임대료'].fillna(0)"
   ]
  },
  {
   "cell_type": "code",
   "execution_count": 1137,
   "id": "b8e2f5a8",
   "metadata": {
    "tags": []
   },
   "outputs": [],
   "source": [
    "# 계산을 위해서 int로 바꿔줍니다.\n",
    "train['임대보증금'] = train['임대보증금'].astype(int)\n",
    "test['임대보증금'] = test['임대보증금'].astype(int)\n",
    "\n",
    "train['임대료'] = train['임대료'].astype(int)\n",
    "test['임대료'] = test['임대료'].astype(int)"
   ]
  },
  {
   "cell_type": "markdown",
   "id": "17e2cc93",
   "metadata": {},
   "source": [
    "### NewStdDeposit(전세금과 월세의 균형을 맞춘 면적당환산보증금)"
   ]
  },
  {
   "cell_type": "markdown",
   "id": "60984fa0",
   "metadata": {},
   "source": [
    "기존의 환산보증금 공식으로 가면, 전세금과 환산보증금 차이가 너무 심합니다.<br>\n",
    "전세와 월세가 동시에 있는 단지가 1개 있습니다. 이 단지를 기준으로 환산보증금을 재계산 합니다."
   ]
  },
  {
   "cell_type": "markdown",
   "id": "f29547f0",
   "metadata": {},
   "source": [
    "반대로 환산보증금이 아닌, 환산임대료로 가는 것도 나쁘지 않습니다."
   ]
  },
  {
   "cell_type": "code",
   "execution_count": 1138,
   "id": "b94470e4",
   "metadata": {},
   "outputs": [
    {
     "data": {
      "text/plain": [
       "2542.080887400545"
      ]
     },
     "execution_count": 1138,
     "metadata": {},
     "output_type": "execute_result"
    }
   ],
   "source": [
    "(187694000/51.32) - ((45456000 + (356420 * 354))/46.96)"
   ]
  },
  {
   "cell_type": "code",
   "execution_count": 1139,
   "id": "1d2debb4",
   "metadata": {},
   "outputs": [],
   "source": [
    "# 환산보증금 컬럼을 만들어줍니다.\n",
    "train['new환산보증금'] = train['임대보증금'] + train['임대료'] * 354\n",
    "test['new환산보증금'] = test['임대보증금'] + test['임대료'] * 354"
   ]
  },
  {
   "cell_type": "code",
   "execution_count": 1140,
   "id": "fca4aa3d",
   "metadata": {},
   "outputs": [],
   "source": [
    "# 제곱미터당 환산보증금을 만들어줍니다.\n",
    "train['new면적당환산보증금'] = (train['new환산보증금'] / train['전용면적']).round()\n",
    "test['new면적당환산보증금'] = (test['new환산보증금'] / test['전용면적']).round()"
   ]
  },
  {
   "cell_type": "markdown",
   "id": "75e2ca1c",
   "metadata": {},
   "source": [
    "- 임대료가 없는 아파트를 찾아서 값을 넣어주겠습니다."
   ]
  },
  {
   "cell_type": "code",
   "execution_count": 1141,
   "id": "e57c00ee",
   "metadata": {},
   "outputs": [],
   "source": [
    "# C1350은 같은 단지에 다른 임대보증금, 임대료가 있습니다.\n",
    "train.loc[(train['단지코드'] == 'C1350') & (train['임대보증금'] == 0), 'new면적당환산보증금'] = train.loc[(train['단지코드'] == 'C1350') & (train['임대보증금'] != 0)]['new면적당환산보증금'].mean()"
   ]
  },
  {
   "cell_type": "code",
   "execution_count": 1142,
   "id": "3f49628f",
   "metadata": {},
   "outputs": [],
   "source": [
    "# C1786은 같은 단지에 다른 임대보증금, 임대료가 있습니다.\n",
    "train.loc[(train['단지코드'] == 'C1786') & (train['임대보증금'] == 0), 'new면적당환산보증금'] = train.loc[(train['단지코드'] == 'C1786') & (train['임대보증금'] != 0)]['new면적당환산보증금'].mean()"
   ]
  },
  {
   "cell_type": "code",
   "execution_count": 1143,
   "id": "3bdf6f0f",
   "metadata": {},
   "outputs": [],
   "source": [
    "# C2186은 같은 단지에 다른 임대보증금, 임대료가 있습니다.\n",
    "train.loc[(train['단지코드'] == 'C2186') & (train['임대보증금'] == 0), 'new면적당환산보증금'] = train.loc[(train['단지코드'] == 'C2186') & (train['임대보증금'] != 0)]['new면적당환산보증금'].mean()"
   ]
  },
  {
   "cell_type": "code",
   "execution_count": 1144,
   "id": "439f2bf3",
   "metadata": {},
   "outputs": [],
   "source": [
    "# C1326은 비슷한 유형의 단지를 찾아 평균값으로 넣겠습니다.\n",
    "train.loc[train['단지코드'] == 'C1326', 'new면적당환산보증금'] = train.loc[(train['지역'] == '부산광역시')\n",
    "                                                                      & (train['지하철'] == 0)\n",
    "                                                                      & (train['임대건물구분'] != '상가')\n",
    "                                                                      & (train['공급유형'] == '국민임대')\n",
    "                                                                      & (train['단지코드'] != 'C1326')]['new면적당환산보증금'].mean()"
   ]
  },
  {
   "cell_type": "code",
   "execution_count": 1145,
   "id": "a3bc73dd",
   "metadata": {},
   "outputs": [],
   "source": [
    "# C1267은 같은 단지에 다른 임대보증금, 임대료가 있습니다.\n",
    "test.loc[(test['단지코드'] == 'C1267') & (test['임대보증금'] == 0), 'new면적당환산보증금'] = test.loc[(test['단지코드'] == 'C1267') & (test['임대보증금'] != 0)]['new면적당환산보증금'].mean()"
   ]
  },
  {
   "cell_type": "code",
   "execution_count": 1146,
   "id": "c7394aff",
   "metadata": {},
   "outputs": [],
   "source": [
    "# C2152은 비슷한 유형의 단지를 찾아 평균값으로 넣겠습니다.\n",
    "test.loc[test['단지코드'] == 'C2152', 'new면적당환산보증금'] = test.loc[(test['지역'] == '강원도')\n",
    "                                                                  & (test['임대건물구분'] != '상가')\n",
    "                                                                  & (test['공급유형'] == '영구임대')\n",
    "                                                                  & (test['단지코드'] != 'C2152')]['new면적당환산보증금'].mean()"
   ]
  },
  {
   "cell_type": "markdown",
   "id": "9331a5bd",
   "metadata": {},
   "source": [
    "### Units(총세대수)"
   ]
  },
  {
   "cell_type": "markdown",
   "id": "6a9cd8c6",
   "metadata": {},
   "source": [
    "- 총세대수가 틀린 게 아니라, 전용면적별세대수가 틀린 것이라고 판단했습니다.\n",
    "- 총세대수가 여전히 오차가 조금 있지만, 상가분양이라는 주최측의 답변이 있었습니다.\n",
    "- 실제로 큰 차이가 없습니다."
   ]
  },
  {
   "cell_type": "code",
   "execution_count": 1147,
   "id": "16f24d3a",
   "metadata": {},
   "outputs": [],
   "source": [
    "# 전용면적별세대수를 합쳐서 총 세대수를 다시 넣어주겠습니다.\n",
    "temp = train.groupby(['단지코드'])['전용면적별세대수'].sum().reset_index().rename({'전용면적별세대수': 'new총세대수'}, axis=1)\n",
    "train = pd.merge(train, temp, on='단지코드')"
   ]
  },
  {
   "cell_type": "code",
   "execution_count": 1148,
   "id": "5f206a6f",
   "metadata": {},
   "outputs": [],
   "source": [
    "# 전용면적별세대수를 합쳐서 총 세대수를 다시 넣어주겠습니다.\n",
    "temp = test.groupby(['단지코드'])['전용면적별세대수'].sum().reset_index().rename({'전용면적별세대수': 'new총세대수'}, axis=1)\n",
    "test = pd.merge(test, temp, on='단지코드')"
   ]
  },
  {
   "cell_type": "markdown",
   "id": "55cb37e9",
   "metadata": {},
   "source": [
    "### NewUnits"
   ]
  },
  {
   "cell_type": "markdown",
   "id": "0b345b2c",
   "metadata": {},
   "source": [
    "- 문제가 여럿 있습니다.\n",
    "1. 총세대수가 면적별세대수의 총합보다 적은 단지가 있다. -> 레코드를 보간해준 경우 -> 큰쪽이 맞다.\n",
    "2. 총세대수가 면적별세대수의 총합보다 큰 단지가 있다. -> 분양상가가 누락된 경우 -> 이 경우도 큰쪽이 맞다.\n",
    "3. 같은 경우 -> 문제 없다."
   ]
  },
  {
   "cell_type": "code",
   "execution_count": 1149,
   "id": "c1f5e8ef",
   "metadata": {},
   "outputs": [],
   "source": [
    "train.loc[train['총세대수'] >= train['new총세대수'], 'final총세대수'] = train.loc[train['총세대수'] >= train['new총세대수']]['총세대수']\n",
    "train.loc[train['총세대수'] < train['new총세대수'], 'final총세대수'] = train.loc[train['총세대수'] < train['new총세대수']]['new총세대수']"
   ]
  },
  {
   "cell_type": "code",
   "execution_count": 1150,
   "id": "ae162934",
   "metadata": {},
   "outputs": [],
   "source": [
    "test.loc[test['총세대수'] >= test['new총세대수'], 'final총세대수'] = test.loc[test['총세대수'] >= test['new총세대수']]['총세대수']\n",
    "test.loc[test['총세대수'] < test['new총세대수'], 'final총세대수'] = test.loc[test['총세대수'] < test['new총세대수']]['new총세대수']"
   ]
  },
  {
   "cell_type": "markdown",
   "id": "ad97f58a",
   "metadata": {},
   "source": [
    "### RecruitType(공급유형)"
   ]
  },
  {
   "cell_type": "code",
   "execution_count": 1151,
   "id": "7bd59eb0",
   "metadata": {},
   "outputs": [],
   "source": [
    "# # 공공분양이 있는 1개 단지는 동일 단지의 공공임대로 맞춰주겠습니다.\n",
    "# train.loc[train['공급유형'] == '공공분양', '공급유형'] = '공공임대'"
   ]
  },
  {
   "cell_type": "code",
   "execution_count": 1152,
   "id": "924299d6",
   "metadata": {},
   "outputs": [],
   "source": [
    "# # 장기전세가 있는 1개 단지는 유사 유형의 행복주택으로 맞춰주겠습니다.\n",
    "# train.loc[train['공급유형'] == '장기전세', '공급유형'] = '행복주택'"
   ]
  },
  {
   "cell_type": "code",
   "execution_count": 1153,
   "id": "90ae8800",
   "metadata": {},
   "outputs": [],
   "source": [
    "# # 공공임대(5년, 10년, 50년)는 햇수는 다르지만, 하나로 묶어주는 겠습니다.\n",
    "# train.loc[train['공급유형'].str.contains('공공임대'), '공급유형'] = '공공임대'\n",
    "# test.loc[test['공급유형'].str.contains('공공임대'), '공급유형'] = '공공임대'"
   ]
  },
  {
   "cell_type": "markdown",
   "id": "95d77f02",
   "metadata": {},
   "source": [
    "### UnitType(전용면적구분)"
   ]
  },
  {
   "cell_type": "code",
   "execution_count": 1154,
   "id": "6e65eeac",
   "metadata": {},
   "outputs": [],
   "source": [
    "# 80 ~ 은 대형\n",
    "# 40 ~ 80 은 중형\n",
    "# ~ 40 은 소형\n",
    "\n",
    "train.loc[train['전용면적'] < 40, '전용면적구분'] = '소형'\n",
    "train.loc[train['전용면적'] >= 40, '전용면적구분'] = '중형'\n",
    "train.loc[train['전용면적'] >= 80, '전용면적구분'] = '대형'\n",
    "\n",
    "test.loc[test['전용면적'] < 40, '전용면적구분'] = '소형'\n",
    "test.loc[test['전용면적'] >= 40, '전용면적구분'] = '중형'\n",
    "test.loc[test['전용면적'] >= 80, '전용면적구분'] = '대형'"
   ]
  },
  {
   "cell_type": "markdown",
   "id": "921adb2e",
   "metadata": {},
   "source": [
    "### Residence(실거주)"
   ]
  },
  {
   "cell_type": "code",
   "execution_count": 1155,
   "id": "caf39845",
   "metadata": {},
   "outputs": [],
   "source": [
    "# 공가수를 빼준 실거주 수를 만들어줍니다.\n",
    "train['실거주세대수'] = train['final총세대수'] - train['공가수']\n",
    "test['실거주세대수'] = test['final총세대수'] - test['공가수']"
   ]
  },
  {
   "cell_type": "markdown",
   "id": "adb53f02",
   "metadata": {},
   "source": [
    "### Region"
   ]
  },
  {
   "cell_type": "code",
   "execution_count": 1156,
   "id": "23a7add4",
   "metadata": {},
   "outputs": [],
   "source": [
    "# 실거주세대 대비 차량수의 지역 평균으로 오름차순 정렬\n",
    "# Order를 주었습니다.\n",
    "region_dict = {'서울특별시': 0,\n",
    "               '경기도':1,\n",
    "               '세종특별자치시':2,\n",
    "               '경상북도':3,\n",
    "               '대구광역시':4,\n",
    "               '광주광역시':5,\n",
    "               '충청북도':6,\n",
    "               '전라남도':7,\n",
    "               '전라북도':8,\n",
    "               '강원도':9,\n",
    "               '경상남도':10,\n",
    "               '울산광역시':11,\n",
    "               '제주특별자치도':12,\n",
    "               '대전광역시':13,\n",
    "               '충청남도':14,\n",
    "               '부산광역시':15}"
   ]
  },
  {
   "cell_type": "code",
   "execution_count": 1157,
   "id": "2d4d7fa3",
   "metadata": {},
   "outputs": [],
   "source": [
    "train['지역'] = train['지역'].map(region_dict)\n",
    "test['지역'] = test['지역'].map(region_dict)"
   ]
  },
  {
   "cell_type": "markdown",
   "id": "b051b6b5",
   "metadata": {},
   "source": [
    "### Qualification"
   ]
  },
  {
   "cell_type": "code",
   "execution_count": 1158,
   "id": "81f793b0",
   "metadata": {},
   "outputs": [],
   "source": [
    "# 상가가 아닌데 D형이 있습니다.\n",
    "\n",
    "# 같은 단지에 A형이 있으므로 A로 넣어주겠습니다.\n",
    "train.loc[(train['임대건물구분'] != '상가') & (train['자격유형'] == 'D'), '자격유형'] = 'A'\n",
    "\n",
    "# 같은 단지에 C형이 있으므로 C로 넣어주겠습니다.\n",
    "test.loc[(test['임대건물구분'] != '상가') & (test['자격유형'] == 'D'), '자격유형'] = 'C'"
   ]
  },
  {
   "cell_type": "code",
   "execution_count": 1159,
   "id": "323a36fe",
   "metadata": {},
   "outputs": [],
   "source": [
    "# # F는 단 3개의 row가 있습니다. 동일 단지의 C형으로 바꾸겠습니다.\n",
    "# train.loc[train['자격유형'] == 'F', '자격유형'] = 'C'\n",
    "\n",
    "# # O는 단 1개의 row가 있습니다. 동일 단지의 N형으로 바꾸겠습니다.\n",
    "# train.loc[train['자격유형'] == 'O', '자격유형'] = 'N'"
   ]
  },
  {
   "cell_type": "code",
   "execution_count": 1160,
   "id": "3b1167bd",
   "metadata": {},
   "outputs": [],
   "source": [
    "# # B형은 조금 어렵습니다. 일단은 C로 바꾸었는데, 나중에 조정을 해야할 것 같습니다.\n",
    "# train.loc[train['자격유형'] == 'B', '자격유형'] = 'C'"
   ]
  },
  {
   "cell_type": "code",
   "execution_count": 1161,
   "id": "6d399d2e",
   "metadata": {},
   "outputs": [
    {
     "data": {
      "image/png": "[encoded data removed]",
      "text/plain": [
       "<Figure size 1152x432 with 1 Axes>"
      ]
     },
     "metadata": {
      "needs_background": "light"
     },
     "output_type": "display_data"
    }
   ],
   "source": [
    "plt.figure(figsize=(16, 6))\n",
    "sns.heatmap(train.isnull().T, cbar=False)\n",
    "plt.show()"
   ]
  },
  {
   "cell_type": "code",
   "execution_count": 1162,
   "id": "985b25bb",
   "metadata": {},
   "outputs": [
    {
     "data": {
      "image/png": "[encoded data removed]",
      "text/plain": [
       "<Figure size 1152x432 with 1 Axes>"
      ]
     },
     "metadata": {
      "needs_background": "light"
     },
     "output_type": "display_data"
    }
   ],
   "source": [
    "plt.figure(figsize=(16, 6))\n",
    "sns.heatmap(test.isnull().T, cbar=False)\n",
    "plt.show()"
   ]
  },
  {
   "cell_type": "markdown",
   "id": "da0cee37",
   "metadata": {},
   "source": [
    "## FEATURE CREATION"
   ]
  },
  {
   "cell_type": "markdown",
   "id": "ff3f2579",
   "metadata": {},
   "source": [
    "### Rooms(방의 개수)"
   ]
  },
  {
   "cell_type": "code",
   "execution_count": 1163,
   "id": "a53a0919",
   "metadata": {},
   "outputs": [],
   "source": [
    "train.loc[train['전용면적'] < 35, '방개수'] = 1\n",
    "train.loc[train['전용면적'] >= 35, '방개수'] = 2\n",
    "train.loc[train['전용면적'] >= 45, '방개수'] = 3\n",
    "train.loc[train['전용면적'] >= 56, '방개수'] = 4\n",
    "train.loc[train['전용면적'] >= 77, '방개수'] = 5"
   ]
  },
  {
   "cell_type": "code",
   "execution_count": 1164,
   "id": "12c5eceb",
   "metadata": {},
   "outputs": [],
   "source": [
    "test.loc[test['전용면적'] < 35, '방개수'] = 1\n",
    "test.loc[test['전용면적'] >= 35, '방개수'] = 2\n",
    "test.loc[test['전용면적'] >= 45, '방개수'] = 3\n",
    "test.loc[test['전용면적'] >= 56, '방개수'] = 4\n",
    "test.loc[test['전용면적'] >= 77, '방개수'] = 5"
   ]
  },
  {
   "cell_type": "markdown",
   "id": "5ecf2d2a",
   "metadata": {},
   "source": [
    "### AllNewStdDep(면적당환산보증금가중평균)"
   ]
  },
  {
   "cell_type": "markdown",
   "id": "254def1d",
   "metadata": {},
   "source": [
    "가중평균을 내주기로 했습니다."
   ]
  },
  {
   "cell_type": "code",
   "execution_count": 1165,
   "id": "59f0617f",
   "metadata": {},
   "outputs": [],
   "source": [
    "unique_code = list(train['단지코드'].unique())\n",
    "\n",
    "for code in unique_code:\n",
    "    train.loc[train['단지코드'] == code, '면적당환산보증금가중평균'] = np.average(train.loc[train['단지코드'] == code, 'new면적당환산보증금'],\n",
    "                                                                  weights=train.loc[train['단지코드'] == code, '전용면적별세대수'])"
   ]
  },
  {
   "cell_type": "code",
   "execution_count": 1166,
   "id": "7822be25",
   "metadata": {},
   "outputs": [],
   "source": [
    "unique_code = list(test['단지코드'].unique())\n",
    "\n",
    "for code in unique_code:\n",
    "    test.loc[test['단지코드'] == code, '면적당환산보증금가중평균'] = np.average(test.loc[test['단지코드'] == code, 'new면적당환산보증금'],\n",
    "                                                                weights=test.loc[test['단지코드'] == code, '전용면적별세대수'])"
   ]
  },
  {
   "cell_type": "markdown",
   "id": "73abcf13",
   "metadata": {},
   "source": [
    "### SumStdDep(시그마 면적당환산보증금 X 세대수)"
   ]
  },
  {
   "cell_type": "markdown",
   "id": "35d6e5e5",
   "metadata": {},
   "source": [
    "면적당환산보증금을 평균으로 집어넣으니 정보손실이 생기는 것 같습니다. 세대수와 곱해서 총합을 넣어버리겠습니다."
   ]
  },
  {
   "cell_type": "code",
   "execution_count": 1167,
   "id": "7bff1d8d",
   "metadata": {},
   "outputs": [],
   "source": [
    "train['면적당환산보증금세대수합계'] = train['전용면적별세대수'] * train['new면적당환산보증금']\n",
    "test['면적당환산보증금세대수합계'] = test['전용면적별세대수'] * test['new면적당환산보증금']"
   ]
  },
  {
   "cell_type": "markdown",
   "id": "4e2178b9",
   "metadata": {},
   "source": [
    "### Shop(상가세대수)"
   ]
  },
  {
   "cell_type": "markdown",
   "id": "8a3bcaf6",
   "metadata": {},
   "source": [
    "- 총세대수와 전용면적별세대수합계가 미일치하는 부분이 상가세대수입니다."
   ]
  },
  {
   "cell_type": "code",
   "execution_count": 1168,
   "id": "096ba193",
   "metadata": {},
   "outputs": [],
   "source": [
    "temp1 = (train.groupby(['단지코드'])['final총세대수'].max() - train.groupby(['단지코드'])['전용면적별세대수'].sum()).to_frame().rename({0: '분양상가수'}, axis=1)\n",
    "temp2 = train.loc[train['임대건물구분'] == '상가'].groupby(['단지코드'])['전용면적별세대수'].sum().to_frame().rename({'전용면적별세대수':'임대상가수'}, axis=1)\n",
    "temp3 = pd.merge(temp1, temp2, how='outer', on='단지코드').fillna(0)\n",
    "temp4 = (temp3['분양상가수'] + temp3['임대상가수']).to_frame().rename({0: '상가세대수'}, axis=1)\n",
    "train = pd.merge(train.loc[train['임대건물구분'] == '아파트'], temp4, how='outer', on='단지코드').fillna(0)"
   ]
  },
  {
   "cell_type": "code",
   "execution_count": 1169,
   "id": "722070f4",
   "metadata": {},
   "outputs": [],
   "source": [
    "temp1 = (test.groupby(['단지코드'])['final총세대수'].max() - test.groupby(['단지코드'])['전용면적별세대수'].sum()).to_frame().rename({0: '분양상가수'}, axis=1)\n",
    "temp2 = test.loc[test['임대건물구분'] == '상가'].groupby(['단지코드'])['전용면적별세대수'].sum().to_frame().rename({'전용면적별세대수':'임대상가수'}, axis=1)\n",
    "temp3 = pd.merge(temp1, temp2, how='outer', on='단지코드').fillna(0)\n",
    "temp4 = (temp3['분양상가수'] + temp3['임대상가수']).to_frame().rename({0: '상가세대수'}, axis=1)\n",
    "test = pd.merge(test.loc[test['임대건물구분'] == '아파트'], temp4, how='outer', on='단지코드').fillna(0)"
   ]
  },
  {
   "cell_type": "code",
   "execution_count": 1170,
   "id": "53447b7e",
   "metadata": {},
   "outputs": [],
   "source": [
    "# shop_temp = ((train.loc[train['임대건물구분'] == '상가']\n",
    "#               .groupby(['단지코드'])['지역'].count())\n",
    "#              .reset_index()\n",
    "#              .rename({'지역': '상가세대수'}, axis=1))\n",
    "# train = pd.merge(train.loc[train['임대건물구분'] == '아파트'], shop_temp, how='outer', on='단지코드').fillna(0)"
   ]
  },
  {
   "cell_type": "code",
   "execution_count": 1171,
   "id": "bac03022",
   "metadata": {},
   "outputs": [],
   "source": [
    "# shop_temp = ((test.loc[test['임대건물구분'] == '상가']\n",
    "#               .groupby(['단지코드'])['지역'].count())\n",
    "#              .reset_index()\n",
    "#              .rename({'지역': '상가세대수'}, axis=1))\n",
    "# test = pd.merge(test.loc[test['임대건물구분'] == '아파트'], shop_temp, how='outer', on='단지코드').fillna(0)"
   ]
  },
  {
   "cell_type": "markdown",
   "id": "3dd2c6c6",
   "metadata": {},
   "source": [
    "# MODELING"
   ]
  },
  {
   "cell_type": "code",
   "execution_count": 1172,
   "id": "ae2ce975",
   "metadata": {},
   "outputs": [],
   "source": [
    "def make_train_test(train):\n",
    "\n",
    "    train_preprocessed = train.copy()\n",
    "    \n",
    "    # 전처리가 끝난 변수 삭제\n",
    "    train_preprocessed.drop(['전용면적', '임대보증금', '임대료', 'new환산보증금'], axis=1, inplace=True)\n",
    "    # 상가 레코드 삭제\n",
    "    train_preprocessed = train_preprocessed.loc[train_preprocessed['임대건물구분'] == '아파트', ~train_preprocessed.columns.isin(['임대건물구분'])]\n",
    "    \n",
    "    # 전용면적구분 unstack\n",
    "    temp = train_preprocessed.groupby(['단지코드', '전용면적구분'])['전용면적별세대수'].sum().unstack().fillna(0)\n",
    "    train_preprocessed = pd.merge(train_preprocessed.loc[:, ~train_preprocessed.columns.isin(['전용면적구분'])], temp, on='단지코드')\n",
    "    \n",
    "    # 공급유형 unstack\n",
    "    temp = train_preprocessed.groupby(['단지코드', '공급유형'])['전용면적별세대수'].sum().unstack().fillna(0)\n",
    "    train_preprocessed = pd.merge(train_preprocessed.loc[:, ~train_preprocessed.columns.isin(['공급유형'])], temp, on='단지코드')\n",
    "    \n",
    "    # 자격유형 unstack\n",
    "    temp = train_preprocessed.groupby(['단지코드', '자격유형'])['전용면적별세대수'].sum().unstack().fillna(0)\n",
    "    train_preprocessed = pd.merge(train_preprocessed.loc[:, ~train_preprocessed.columns.isin(['자격유형'])], temp, on='단지코드')\n",
    "    \n",
    "    # new면적당환산보증금 단지별 평균으로 산출\n",
    "    temp = train_preprocessed.groupby(['단지코드'])['new면적당환산보증금'].mean().reset_index()\n",
    "    train_preprocessed = pd.merge(train_preprocessed.loc[:, ~train_preprocessed.columns.isin(['new면적당환산보증금'])], temp, on='단지코드')\n",
    "    \n",
    "    # 면적당환산보증금가중평균 단지별로 산출\n",
    "    temp = train_preprocessed.groupby(['단지코드'])['면적당환산보증금가중평균'].max().reset_index()\n",
    "    train_preprocessed = pd.merge(train_preprocessed.loc[:, ~train_preprocessed.columns.isin(['면적당환산보증금가중평균'])], temp, on='단지코드')\n",
    "\n",
    "    # 면적당환산보증금세대수 합계로 산출\n",
    "    temp = train_preprocessed.groupby(['단지코드'])['면적당환산보증금세대수합계'].sum().reset_index()\n",
    "    train_preprocessed = pd.merge(train_preprocessed.loc[:, ~train_preprocessed.columns.isin(['면적당환산보증금세대수합계'])], temp, on='단지코드')\n",
    "    \n",
    "    # 방개수 unstack\n",
    "    temp = train_preprocessed.groupby(['단지코드', '방개수'])['전용면적별세대수'].sum().unstack().fillna(0)\n",
    "    train_preprocessed = pd.merge(train_preprocessed.loc[:, ~train_preprocessed.columns.isin(['방개수'])], temp, on='단지코드')\n",
    "    \n",
    "    \n",
    "    \n",
    "    #---------------------------------------------------------------------------------------------------\n",
    "    \n",
    "    train_preprocessed.drop(['전용면적별세대수'], axis=1, inplace=True)\n",
    "    train_preprocessed = train_preprocessed.drop_duplicates()\n",
    "    \n",
    "    #train_preprocessed.drop(['단지코드'], axis=1, inplace=True)\n",
    "    \n",
    "    return train_preprocessed"
   ]
  },
  {
   "cell_type": "code",
   "execution_count": 1173,
   "id": "964ad22d",
   "metadata": {},
   "outputs": [],
   "source": [
    "X = make_train_test(train)\n",
    "y = make_train_test(test)"
   ]
  },
  {
   "cell_type": "code",
   "execution_count": 1174,
   "id": "5c359708",
   "metadata": {},
   "outputs": [
    {
     "data": {
      "text/plain": [
       "((423, 46), (150, 39))"
      ]
     },
     "execution_count": 1174,
     "metadata": {},
     "output_type": "execute_result"
    }
   ],
   "source": [
    "X.shape, y.shape"
   ]
  },
  {
   "cell_type": "code",
   "execution_count": 1175,
   "id": "a8a071cd",
   "metadata": {},
   "outputs": [
    {
     "data": {
      "text/plain": [
       "Index([         '단지코드',          '총세대수',            '지역',           '공가수',\n",
       "                 '지하철',            '버스',       '단지내주차면수',         '등록차량수',\n",
       "             'new총세대수',     'final총세대수',        '실거주세대수',         '상가세대수',\n",
       "                  '대형',            '소형',            '중형',          '공공분양',\n",
       "           '공공임대(10년)',     '공공임대(50년)',      '공공임대(5년)',      '공공임대(분납)',\n",
       "                '국민임대',          '영구임대',          '장기전세',          '행복주택',\n",
       "                   'A',             'B',             'C',             'E',\n",
       "                   'F',             'G',             'H',             'I',\n",
       "                   'J',             'K',             'L',             'M',\n",
       "                   'N',             'O',   'new면적당환산보증금',  '면적당환산보증금가중평균',\n",
       "       '면적당환산보증금세대수합계',             1.0,             2.0,             3.0,\n",
       "                   4.0,             5.0],\n",
       "      dtype='object')"
      ]
     },
     "execution_count": 1175,
     "metadata": {},
     "output_type": "execute_result"
    }
   ],
   "source": [
    "X.columns"
   ]
  },
  {
   "cell_type": "code",
   "execution_count": 1176,
   "id": "99855d37",
   "metadata": {},
   "outputs": [
    {
     "data": {
      "text/plain": [
       "Index([         '단지코드',          '총세대수',            '지역',           '공가수',\n",
       "                 '지하철',            '버스',       '단지내주차면수',       'new총세대수',\n",
       "           'final총세대수',        '실거주세대수',         '상가세대수',            '대형',\n",
       "                  '소형',            '중형',     '공공임대(10년)',     '공공임대(50년)',\n",
       "            '공공임대(분납)',          '국민임대',          '영구임대',          '행복주택',\n",
       "                   'A',             'C',             'E',             'G',\n",
       "                   'H',             'I',             'J',             'K',\n",
       "                   'L',             'M',             'N',   'new면적당환산보증금',\n",
       "        '면적당환산보증금가중평균', '면적당환산보증금세대수합계',             1.0,             2.0,\n",
       "                   3.0,             4.0,             5.0],\n",
       "      dtype='object')"
      ]
     },
     "execution_count": 1176,
     "metadata": {},
     "output_type": "execute_result"
    }
   ],
   "source": [
    "y.columns"
   ]
  },
  {
   "cell_type": "code",
   "execution_count": 1177,
   "id": "c8f1f2a1",
   "metadata": {},
   "outputs": [
    {
     "data": {
      "text/plain": [
       "{'B', 'F', 'O', '공공분양', '공공임대(5년)', '등록차량수', '장기전세'}"
      ]
     },
     "execution_count": 1177,
     "metadata": {},
     "output_type": "execute_result"
    }
   ],
   "source": [
    "set(X.columns).difference(y.columns)"
   ]
  },
  {
   "cell_type": "code",
   "execution_count": 1178,
   "id": "c65a2dcc",
   "metadata": {},
   "outputs": [],
   "source": [
    "# y['B'] = 0\n",
    "# y['F'] = 0\n",
    "# y['O'] = 0\n",
    "# y['공공분양'] = 0\n",
    "# y['공공임대(5년)'] = 0\n",
    "# y['장기전세'] = 0"
   ]
  },
  {
   "cell_type": "code",
   "execution_count": 1179,
   "id": "e425dc4c",
   "metadata": {},
   "outputs": [],
   "source": [
    "X.drop(['B', 'F', 'O', '공공분양','공공임대(5년)', '장기전세'], axis=1, inplace=True)\n",
    "# y.drop(['B', 'F', 'O', '공공분양','공공임대(5년)', '장기전세'], axis=1, inplace=True)"
   ]
  },
  {
   "cell_type": "code",
   "execution_count": 1180,
   "id": "941eeb8b",
   "metadata": {},
   "outputs": [
    {
     "data": {
      "text/plain": [
       "((423, 40), (150, 39))"
      ]
     },
     "execution_count": 1180,
     "metadata": {},
     "output_type": "execute_result"
    }
   ],
   "source": [
    "X.shape, y.shape"
   ]
  },
  {
   "cell_type": "markdown",
   "id": "155bf22c",
   "metadata": {},
   "source": [
    "### RF"
   ]
  },
  {
   "cell_type": "code",
   "execution_count": 1109,
   "id": "21d2a17b",
   "metadata": {},
   "outputs": [],
   "source": [
    "from sklearn.ensemble import RandomForestRegressor"
   ]
  },
  {
   "cell_type": "code",
   "execution_count": 1110,
   "id": "1e1fce2c",
   "metadata": {},
   "outputs": [],
   "source": [
    "x_train = X.loc[:, ~X.columns.isin(['단지코드', '등록차량수', '총세대수', 'new총세대수', 'final총세대수', '상가세대수', '공가수', '면적당환산보증금가중평균', '면적당환산보증금세대수합계', 1.0, 2.0 , 3.0, 4.0, 5.0])]\n",
    "y_train = X['등록차량수']\n",
    "x_test = y.loc[:, ~y.columns.isin(['단지코드', '총세대수', 'new총세대수', 'final총세대수', '상가세대수', '공가수', '면적당환산보증금가중평균', '면적당환산보증금세대수합계', 1.0, 2.0 , 3.0, 4.0, 5.0])]"
   ]
  },
  {
   "cell_type": "code",
   "execution_count": 1201,
   "id": "7ba62a11",
   "metadata": {},
   "outputs": [
    {
     "data": {
      "text/plain": [
       "((423, 26), (423,), (150, 26))"
      ]
     },
     "execution_count": 1201,
     "metadata": {},
     "output_type": "execute_result"
    }
   ],
   "source": [
    "x_train.shape, y_train.shape, x_test.shape"
   ]
  },
  {
   "cell_type": "code",
   "execution_count": 1202,
   "id": "d894e344",
   "metadata": {},
   "outputs": [],
   "source": [
    "rf = RandomForestRegressor(random_state=42, oob_score=True, criterion='mse', n_estimators=200)\n",
    "rf.fit(x_train, y_train)\n",
    "pred = rf.predict(x_test)"
   ]
  },
  {
   "cell_type": "code",
   "execution_count": 1203,
   "id": "f8c847e9",
   "metadata": {},
   "outputs": [
    {
     "data": {
      "image/png": "[encoded data removed]",
      "text/plain": [
       "<Figure size 720x432 with 1 Axes>"
      ]
     },
     "metadata": {
      "needs_background": "light"
     },
     "output_type": "display_data"
    }
   ],
   "source": [
    "warnings.simplefilter(action='ignore', category=FutureWarning)\n",
    "plt.rcParams[\"font.size\"] = \"14\"\n",
    "\n",
    "fe_avg = pd.DataFrame(rf.feature_importances_,\n",
    "                      index=x_train.columns, columns=['fe']).sort_values(by=['fe'], ascending=False)\n",
    "\n",
    "plt.figure(figsize=(10, 6))\n",
    "plots = sns.barplot(fe_avg.fe, y=fe_avg.index)\n",
    "\n",
    "# Annotate every single Bar with its value, based on it's width           \n",
    "for bar in plots.patches:\n",
    "    width = bar.get_width()\n",
    "    plt.text(0.015+ bar.get_width(),\n",
    "             bar.get_y() + 0.5 * bar.get_height(),\n",
    "             '{:.3f}'.format(width),\n",
    "             ha='center', va='center')\n",
    "\n",
    "plt.show()"
   ]
  },
  {
   "cell_type": "markdown",
   "id": "d8909852",
   "metadata": {},
   "source": [
    "### LGBM"
   ]
  },
  {
   "cell_type": "code",
   "execution_count": 1117,
   "id": "472d2ec6",
   "metadata": {},
   "outputs": [],
   "source": [
    "from sklearn.model_selection import KFold\n",
    "from lightgbm import LGBMRegressor"
   ]
  },
  {
   "cell_type": "code",
   "execution_count": 1181,
   "id": "0a6354e8",
   "metadata": {},
   "outputs": [],
   "source": [
    "N_FOLD = 5"
   ]
  },
  {
   "cell_type": "code",
   "execution_count": 1193,
   "id": "d1279b65",
   "metadata": {},
   "outputs": [
    {
     "name": "stdout",
     "output_type": "stream",
     "text": [
      "Training until validation scores don't improve for 30 rounds\n",
      "[100]\ttraining's l2: 22835.1\tvalid_1's l2: 38481.9\n",
      "[200]\ttraining's l2: 16127.4\tvalid_1's l2: 37661\n",
      "Early stopping, best iteration is:\n",
      "[174]\ttraining's l2: 17265\tvalid_1's l2: 37388.2\n",
      "Training until validation scores don't improve for 30 rounds\n",
      "[100]\ttraining's l2: 24714.6\tvalid_1's l2: 32140.6\n",
      "[200]\ttraining's l2: 16900.7\tvalid_1's l2: 29818.2\n",
      "Early stopping, best iteration is:\n",
      "[216]\ttraining's l2: 16094.2\tvalid_1's l2: 29772.3\n",
      "Training until validation scores don't improve for 30 rounds\n",
      "[100]\ttraining's l2: 23123.8\tvalid_1's l2: 36464.7\n",
      "Early stopping, best iteration is:\n",
      "[136]\ttraining's l2: 19638.4\tvalid_1's l2: 35125\n",
      "Training until validation scores don't improve for 30 rounds\n",
      "[100]\ttraining's l2: 18747.5\tvalid_1's l2: 53232.8\n",
      "Early stopping, best iteration is:\n",
      "[122]\ttraining's l2: 16622.2\tvalid_1's l2: 52899.4\n",
      "Training until validation scores don't improve for 30 rounds\n",
      "[100]\ttraining's l2: 22910.9\tvalid_1's l2: 33881.1\n",
      "Early stopping, best iteration is:\n",
      "[107]\ttraining's l2: 22113.3\tvalid_1's l2: 33744.8\n"
     ]
    }
   ],
   "source": [
    "kfold = KFold(n_splits=N_FOLD, shuffle=True, random_state=42)\n",
    "folds = []\n",
    "for train_idx, valid_idx in kfold.split(x_train, y_train):\n",
    "    folds.append((train_idx, valid_idx))\n",
    "\n",
    "preds = []\n",
    "fe = []\n",
    "models = {}\n",
    "for fold in range(5):\n",
    "    train_idx, valid_idx = folds[fold]\n",
    "    X_tra = x_train.iloc[train_idx, :]\n",
    "    y_tra = y_train.iloc[train_idx]\n",
    "    X_val = x_train.iloc[valid_idx, :]\n",
    "    y_val = y_train.iloc[valid_idx]\n",
    "\n",
    "    model=LGBMRegressor(learning_rate=0.027, random_state=42, n_estimators=10000)\n",
    "    model.fit(X_tra, y_tra, eval_set=[(X_tra, y_tra), (X_val, y_val)],\n",
    "              eval_metric='mse',\n",
    "              early_stopping_rounds=30, verbose=100)\n",
    "    models[fold]=model\n",
    "\n",
    "for k in range(N_FOLD):\n",
    "    preds.append(models[k].predict(x_test))\n",
    "    fe.append(models[k].feature_importances_)"
   ]
  },
  {
   "cell_type": "code",
   "execution_count": 1194,
   "id": "f618fc46",
   "metadata": {},
   "outputs": [
    {
     "data": {
      "image/png": "[encoded data removed]",
      "text/plain": [
       "<Figure size 1152x576 with 1 Axes>"
      ]
     },
     "metadata": {
      "needs_background": "light"
     },
     "output_type": "display_data"
    }
   ],
   "source": [
    "warnings.simplefilter(action='ignore', category=FutureWarning)\n",
    "plt.rcParams[\"font.size\"] = \"14\"\n",
    "\n",
    "fe_avg = pd.DataFrame(np.array(fe).mean(axis=0),\n",
    "                      index=x_train.columns, columns=['fe']).sort_values(by=['fe'], ascending=False)\n",
    "\n",
    "plt.figure(figsize=(16, 8))\n",
    "plots = sns.barplot(fe_avg.fe, y=fe_avg.index)\n",
    "\n",
    "# Annotate every single Bar with its value, based on it's width           \n",
    "for bar in plots.patches:\n",
    "    width = bar.get_width()\n",
    "    plt.text(0.015+ bar.get_width(),\n",
    "             bar.get_y() + 0.5 * bar.get_height(),\n",
    "             '{:.3f}'.format(width),\n",
    "             ha='center', va='center')\n",
    "\n",
    "plt.show()"
   ]
  },
  {
   "cell_type": "code",
   "execution_count": 1198,
   "id": "37c3f9bd",
   "metadata": {},
   "outputs": [],
   "source": [
    "sub.num = np.array(preds).mean(axis=0)"
   ]
  },
  {
   "cell_type": "code",
   "execution_count": 1199,
   "id": "8036c9b4",
   "metadata": {},
   "outputs": [
    {
     "data": {
      "text/html": [
       "<div>\n",
       "<style scoped>\n",
       "    .dataframe tbody tr th:only-of-type {\n",
       "        vertical-align: middle;\n",
       "    }\n",
       "\n",
       "    .dataframe tbody tr th {\n",
       "        vertical-align: top;\n",
       "    }\n",
       "\n",
       "    .dataframe thead th {\n",
       "        text-align: right;\n",
       "    }\n",
       "</style>\n",
       "<table border=\"1\" class=\"dataframe\">\n",
       "  <thead>\n",
       "    <tr style=\"text-align: right;\">\n",
       "      <th></th>\n",
       "      <th>code</th>\n",
       "      <th>num</th>\n",
       "    </tr>\n",
       "  </thead>\n",
       "  <tbody>\n",
       "    <tr>\n",
       "      <th>0</th>\n",
       "      <td>C1072</td>\n",
       "      <td>836.315186</td>\n",
       "    </tr>\n",
       "    <tr>\n",
       "      <th>1</th>\n",
       "      <td>C1128</td>\n",
       "      <td>1396.000910</td>\n",
       "    </tr>\n",
       "    <tr>\n",
       "      <th>2</th>\n",
       "      <td>C1456</td>\n",
       "      <td>488.152748</td>\n",
       "    </tr>\n",
       "    <tr>\n",
       "      <th>3</th>\n",
       "      <td>C1840</td>\n",
       "      <td>469.579905</td>\n",
       "    </tr>\n",
       "    <tr>\n",
       "      <th>4</th>\n",
       "      <td>C1332</td>\n",
       "      <td>1188.812485</td>\n",
       "    </tr>\n",
       "    <tr>\n",
       "      <th>...</th>\n",
       "      <td>...</td>\n",
       "      <td>...</td>\n",
       "    </tr>\n",
       "    <tr>\n",
       "      <th>145</th>\n",
       "      <td>C2456</td>\n",
       "      <td>223.164319</td>\n",
       "    </tr>\n",
       "    <tr>\n",
       "      <th>146</th>\n",
       "      <td>C1266</td>\n",
       "      <td>582.701482</td>\n",
       "    </tr>\n",
       "    <tr>\n",
       "      <th>147</th>\n",
       "      <td>C2152</td>\n",
       "      <td>93.230246</td>\n",
       "    </tr>\n",
       "    <tr>\n",
       "      <th>148</th>\n",
       "      <td>C1267</td>\n",
       "      <td>343.158412</td>\n",
       "    </tr>\n",
       "    <tr>\n",
       "      <th>149</th>\n",
       "      <td>C2189</td>\n",
       "      <td>253.037589</td>\n",
       "    </tr>\n",
       "  </tbody>\n",
       "</table>\n",
       "<p>150 rows × 2 columns</p>\n",
       "</div>"
      ],
      "text/plain": [
       "      code          num\n",
       "0    C1072   836.315186\n",
       "1    C1128  1396.000910\n",
       "2    C1456   488.152748\n",
       "3    C1840   469.579905\n",
       "4    C1332  1188.812485\n",
       "..     ...          ...\n",
       "145  C2456   223.164319\n",
       "146  C1266   582.701482\n",
       "147  C2152    93.230246\n",
       "148  C1267   343.158412\n",
       "149  C2189   253.037589\n",
       "\n",
       "[150 rows x 2 columns]"
      ]
     },
     "execution_count": 1199,
     "metadata": {},
     "output_type": "execute_result"
    }
   ],
   "source": [
    "sub"
   ]
  },
  {
   "cell_type": "code",
   "execution_count": 1200,
   "id": "e8b42180",
   "metadata": {},
   "outputs": [],
   "source": [
    "sub.to_csv('submission/parking_210619_kfoldlgbm.csv', index=False)"
   ]
  },
  {
   "cell_type": "markdown",
   "id": "8a6bd219",
   "metadata": {},
   "source": [
    "#### 210615 실험\n",
    "\n",
    "1. 소수의 데이터를 다수의 데이터로 바꾸고 모델링\n",
    "2. 소수의 데이터를 그대로 두고, test set에 빈 컬럼을 만들어서라도 모델링\n",
    "3. 소수의 데이터를 그대로 두고, drop 해버리고 모델링\n",
    "\n",
    "결론: 3번이 우세"
   ]
  },
  {
   "cell_type": "markdown",
   "id": "25abfeff",
   "metadata": {},
   "source": [
    "#### 210616 실험\n",
    "\n",
    "- 전 실험을 MAE에서 MSE로 똑같이 진행\n",
    "\n",
    "결론: MSE가 우세"
   ]
  },
  {
   "cell_type": "markdown",
   "id": "6bdb8871",
   "metadata": {},
   "source": [
    "#### 210617 실험\n",
    "\n",
    "1. new환산보증금: 114.9096\n",
    "2. 상가를 빼고 집계: 결과가 같다. 상가를 넣지 않고 하고 있었다.\n",
    "3. 공급유형을 그대로 두고, test set에 빈 컬럼을 만들기 : 131.316"
   ]
  },
  {
   "cell_type": "markdown",
   "id": "574a2f57",
   "metadata": {},
   "source": [
    "#### 210618 실험\n",
    "\n",
    "1. 공급유형을 그대로 두고, drop 해버리고 모델링 : 113.263<br>\n",
    "이정도면 최빈값으로 바꾸는 행위는 하지 않는 게 맞는 것 같다. 차라리 그냥 드랍을 시켜라\n",
    "2. 상가세대수 넣어주기: 113.7165\n",
    "3. 총세대수 제대로 넣어주기: 117.7521"
   ]
  },
  {
   "cell_type": "markdown",
   "id": "4bf02c20",
   "metadata": {},
   "source": [
    "*테스트 데이터에 버스 정류장 50개 짜리 20개로 바꿔야 하나 말아야 하나*"
   ]
  },
  {
   "cell_type": "markdown",
   "id": "b076a486",
   "metadata": {},
   "source": [
    "#### 210619 실험\n",
    "1. all new std deposit\n",
    "2. summation units product std deposit\n",
    "3. and so on"
   ]
  },
  {
   "cell_type": "code",
   "execution_count": 762,
   "id": "6d9e9587",
   "metadata": {},
   "outputs": [],
   "source": [
    "X = make_train_test(train)\n",
    "y = make_train_test(test)"
   ]
  },
  {
   "cell_type": "code",
   "execution_count": 763,
   "id": "daab9559",
   "metadata": {},
   "outputs": [
    {
     "data": {
      "text/plain": [
       "((423, 45), (150, 38))"
      ]
     },
     "execution_count": 763,
     "metadata": {},
     "output_type": "execute_result"
    }
   ],
   "source": [
    "X.shape, y.shape"
   ]
  },
  {
   "cell_type": "code",
   "execution_count": 764,
   "id": "758bdb6d",
   "metadata": {},
   "outputs": [
    {
     "data": {
      "text/plain": [
       "Index([         '단지코드',          '총세대수',            '지역',           '공가수',\n",
       "                 '지하철',            '버스',       '단지내주차면수',         '등록차량수',\n",
       "               '상가세대수',       'new총세대수',        '실거주세대수',            '대형',\n",
       "                  '소형',            '중형',          '공공분양',     '공공임대(10년)',\n",
       "           '공공임대(50년)',      '공공임대(5년)',      '공공임대(분납)',          '국민임대',\n",
       "                '영구임대',          '장기전세',          '행복주택',             'A',\n",
       "                   'B',             'C',             'E',             'F',\n",
       "                   'G',             'H',             'I',             'J',\n",
       "                   'K',             'L',             'M',             'N',\n",
       "                   'O',   'new면적당환산보증금',  '면적당환산보증금가중평균', '면적당환산보증금세대수합계',\n",
       "                   1.0,             2.0,             3.0,             4.0,\n",
       "                   5.0],\n",
       "      dtype='object')"
      ]
     },
     "execution_count": 764,
     "metadata": {},
     "output_type": "execute_result"
    }
   ],
   "source": [
    "X.columns"
   ]
  },
  {
   "cell_type": "code",
   "execution_count": 765,
   "id": "08504d41",
   "metadata": {},
   "outputs": [
    {
     "data": {
      "text/plain": [
       "Index([         '단지코드',          '총세대수',            '지역',           '공가수',\n",
       "                 '지하철',            '버스',       '단지내주차면수',         '상가세대수',\n",
       "             'new총세대수',        '실거주세대수',            '대형',            '소형',\n",
       "                  '중형',     '공공임대(10년)',     '공공임대(50년)',      '공공임대(분납)',\n",
       "                '국민임대',          '영구임대',          '행복주택',             'A',\n",
       "                   'C',             'E',             'G',             'H',\n",
       "                   'I',             'J',             'K',             'L',\n",
       "                   'M',             'N',   'new면적당환산보증금',  '면적당환산보증금가중평균',\n",
       "       '면적당환산보증금세대수합계',             1.0,             2.0,             3.0,\n",
       "                   4.0,             5.0],\n",
       "      dtype='object')"
      ]
     },
     "execution_count": 765,
     "metadata": {},
     "output_type": "execute_result"
    }
   ],
   "source": [
    "y.columns"
   ]
  },
  {
   "cell_type": "code",
   "execution_count": 766,
   "id": "9218be85",
   "metadata": {},
   "outputs": [
    {
     "data": {
      "text/plain": [
       "{'B', 'F', 'O', '공공분양', '공공임대(5년)', '등록차량수', '장기전세'}"
      ]
     },
     "execution_count": 766,
     "metadata": {},
     "output_type": "execute_result"
    }
   ],
   "source": [
    "set(X.columns).difference(y.columns)"
   ]
  },
  {
   "cell_type": "code",
   "execution_count": 767,
   "id": "ba8fc9f6",
   "metadata": {},
   "outputs": [],
   "source": [
    "# y['B'] = 0\n",
    "# y['F'] = 0\n",
    "# y['O'] = 0\n",
    "# y['공공분양'] = 0\n",
    "# y['공공임대(5년)'] = 0\n",
    "# y['장기전세'] = 0"
   ]
  },
  {
   "cell_type": "code",
   "execution_count": 768,
   "id": "b37314dd",
   "metadata": {},
   "outputs": [],
   "source": [
    "X.drop(['B', 'F', 'O', '공공분양','공공임대(5년)', '장기전세'], axis=1, inplace=True)\n",
    "# y.drop(['B', 'F', 'O', '공공분양','공공임대(5년)', '장기전세'], axis=1, inplace=True)"
   ]
  },
  {
   "cell_type": "code",
   "execution_count": 769,
   "id": "705e60c9",
   "metadata": {},
   "outputs": [
    {
     "data": {
      "text/plain": [
       "((423, 39), (150, 38))"
      ]
     },
     "execution_count": 769,
     "metadata": {},
     "output_type": "execute_result"
    }
   ],
   "source": [
    "X.shape, y.shape"
   ]
  },
  {
   "cell_type": "code",
   "execution_count": 756,
   "id": "92df9565",
   "metadata": {},
   "outputs": [],
   "source": [
    "x_train = X.loc[:, ~X.columns.isin(['단지코드', '등록차량수', '총세대수', 'new총세대수', '상가세대수', '공가수', '면적당환산보증금가중평균', '면적당환산보증금세대수합계', 1.0, 2.0 , 3.0, 4.0, 5.0])]\n",
    "y_train = X['등록차량수']\n",
    "x_test = y.loc[:, ~y.columns.isin(['단지코드', '총세대수', 'new총세대수', '상가세대수', '공가수', '면적당환산보증금가중평균', '면적당환산보증금세대수합계', 1.0, 2.0 , 3.0, 4.0, 5.0])]"
   ]
  },
  {
   "cell_type": "code",
   "execution_count": 776,
   "id": "a1ebf333",
   "metadata": {},
   "outputs": [
    {
     "data": {
      "text/plain": [
       "((423, 2), (423,), (150, 2))"
      ]
     },
     "execution_count": 776,
     "metadata": {},
     "output_type": "execute_result"
    }
   ],
   "source": [
    "x_train.shape, y_train.shape, x_test.shape"
   ]
  },
  {
   "cell_type": "code",
   "execution_count": 777,
   "id": "f8900e16",
   "metadata": {},
   "outputs": [],
   "source": [
    "rf = RandomForestRegressor(random_state=42, oob_score=True, criterion='mse', n_estimators=200)\n",
    "rf.fit(x_train, y_train)\n",
    "pred = rf.predict(x_test)"
   ]
  },
  {
   "cell_type": "code",
   "execution_count": 782,
   "id": "21063503",
   "metadata": {},
   "outputs": [
    {
     "data": {
      "image/png": "[encoded data removed]",
      "text/plain": [
       "<Figure size 720x432 with 1 Axes>"
      ]
     },
     "metadata": {
      "needs_background": "light"
     },
     "output_type": "display_data"
    }
   ],
   "source": [
    "warnings.simplefilter(action='ignore', category=FutureWarning)\n",
    "plt.rcParams[\"font.size\"] = \"14\"\n",
    "\n",
    "fe_avg = pd.DataFrame(rf.feature_importances_,\n",
    "                      index=x_train.columns, columns=['fe']).sort_values(by=['fe'], ascending=False)\n",
    "\n",
    "plt.figure(figsize=(10, 6))\n",
    "plots = sns.barplot(fe_avg.fe, y=fe_avg.index)\n",
    "\n",
    "# Annotate every single Bar with its value, based on it's width           \n",
    "for bar in plots.patches:\n",
    "    width = bar.get_width()\n",
    "    plt.text(0.015+ bar.get_width(),\n",
    "             bar.get_y() + 0.5 * bar.get_height(),\n",
    "             '{:.3f}'.format(width),\n",
    "             ha='center', va='center')\n",
    "\n",
    "plt.show()"
   ]
  },
  {
   "cell_type": "code",
   "execution_count": 779,
   "id": "a3eb40b8",
   "metadata": {},
   "outputs": [
    {
     "data": {
      "text/plain": [
       "0.6272641162981709"
      ]
     },
     "execution_count": 779,
     "metadata": {},
     "output_type": "execute_result"
    }
   ],
   "source": [
    "rf.oob_score_"
   ]
  },
  {
   "cell_type": "code",
   "execution_count": 780,
   "id": "ba37ae4c",
   "metadata": {},
   "outputs": [],
   "source": [
    "sub.num = pred"
   ]
  },
  {
   "cell_type": "code",
   "execution_count": 781,
   "id": "ba0f6d4c",
   "metadata": {},
   "outputs": [
    {
     "data": {
      "text/html": [
       "<div>\n",
       "<style scoped>\n",
       "    .dataframe tbody tr th:only-of-type {\n",
       "        vertical-align: middle;\n",
       "    }\n",
       "\n",
       "    .dataframe tbody tr th {\n",
       "        vertical-align: top;\n",
       "    }\n",
       "\n",
       "    .dataframe thead th {\n",
       "        text-align: right;\n",
       "    }\n",
       "</style>\n",
       "<table border=\"1\" class=\"dataframe\">\n",
       "  <thead>\n",
       "    <tr style=\"text-align: right;\">\n",
       "      <th></th>\n",
       "      <th>code</th>\n",
       "      <th>num</th>\n",
       "    </tr>\n",
       "  </thead>\n",
       "  <tbody>\n",
       "    <tr>\n",
       "      <th>0</th>\n",
       "      <td>C1072</td>\n",
       "      <td>648.465</td>\n",
       "    </tr>\n",
       "    <tr>\n",
       "      <th>1</th>\n",
       "      <td>C1128</td>\n",
       "      <td>1144.380</td>\n",
       "    </tr>\n",
       "    <tr>\n",
       "      <th>2</th>\n",
       "      <td>C1456</td>\n",
       "      <td>533.050</td>\n",
       "    </tr>\n",
       "    <tr>\n",
       "      <th>3</th>\n",
       "      <td>C1840</td>\n",
       "      <td>525.800</td>\n",
       "    </tr>\n",
       "    <tr>\n",
       "      <th>4</th>\n",
       "      <td>C1332</td>\n",
       "      <td>1230.350</td>\n",
       "    </tr>\n",
       "    <tr>\n",
       "      <th>...</th>\n",
       "      <td>...</td>\n",
       "      <td>...</td>\n",
       "    </tr>\n",
       "    <tr>\n",
       "      <th>145</th>\n",
       "      <td>C2456</td>\n",
       "      <td>275.700</td>\n",
       "    </tr>\n",
       "    <tr>\n",
       "      <th>146</th>\n",
       "      <td>C1266</td>\n",
       "      <td>546.450</td>\n",
       "    </tr>\n",
       "    <tr>\n",
       "      <th>147</th>\n",
       "      <td>C2152</td>\n",
       "      <td>29.640</td>\n",
       "    </tr>\n",
       "    <tr>\n",
       "      <th>148</th>\n",
       "      <td>C1267</td>\n",
       "      <td>451.225</td>\n",
       "    </tr>\n",
       "    <tr>\n",
       "      <th>149</th>\n",
       "      <td>C2189</td>\n",
       "      <td>341.145</td>\n",
       "    </tr>\n",
       "  </tbody>\n",
       "</table>\n",
       "<p>150 rows × 2 columns</p>\n",
       "</div>"
      ],
      "text/plain": [
       "      code       num\n",
       "0    C1072   648.465\n",
       "1    C1128  1144.380\n",
       "2    C1456   533.050\n",
       "3    C1840   525.800\n",
       "4    C1332  1230.350\n",
       "..     ...       ...\n",
       "145  C2456   275.700\n",
       "146  C1266   546.450\n",
       "147  C2152    29.640\n",
       "148  C1267   451.225\n",
       "149  C2189   341.145\n",
       "\n",
       "[150 rows x 2 columns]"
      ]
     },
     "execution_count": 781,
     "metadata": {},
     "output_type": "execute_result"
    }
   ],
   "source": [
    "sub"
   ]
  },
  {
   "cell_type": "code",
   "execution_count": 498,
   "id": "2f881030",
   "metadata": {},
   "outputs": [],
   "source": [
    "sub.to_csv('submission/parking_210618_541010+fillUnitCounts.csv', index=False)"
   ]
  },
  {
   "cell_type": "code",
   "execution_count": null,
   "id": "ab94516b",
   "metadata": {},
   "outputs": [],
   "source": []
  },
  {
   "cell_type": "markdown",
   "id": "a16833cd",
   "metadata": {},
   "source": [
    "#### 210620 실험\n",
    "1. add rooms\n",
    "2. change unitype to rooms\n",
    "3. and so on"
   ]
  },
  {
   "cell_type": "markdown",
   "id": "2d544845",
   "metadata": {},
   "source": [
    "#### 210621 실험\n",
    "1. add age_gender\n",
    "2. change region to age_gender\n",
    "3. and so on"
   ]
  },
  {
   "cell_type": "code",
   "execution_count": null,
   "id": "73449937",
   "metadata": {},
   "outputs": [],
   "source": []
  }
 ],
 "metadata": {
  "kernelspec": {
   "display_name": "wyatt38",
   "language": "python",
   "name": "wyatt38"
  },
  "language_info": {
   "codemirror_mode": {
    "name": "ipython",
    "version": 3
   },
   "file_extension": ".py",
   "mimetype": "text/x-python",
   "name": "python",
   "nbconvert_exporter": "python",
   "pygments_lexer": "ipython3",
   "version": "3.8.0"
  }
 },
 "nbformat": 4,
 "nbformat_minor": 5
}
