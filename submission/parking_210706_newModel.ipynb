{
 "cells": [
  {
   "cell_type": "markdown",
   "id": "fde5bef6",
   "metadata": {},
   "source": [
    "# **임대주택 단지 내 적정 주차수요 예측 대회**"
   ]
  },
  {
   "cell_type": "markdown",
   "id": "1b31e5b7",
   "metadata": {},
   "source": [
    "처음부터 다시 시작하겠습니다."
   ]
  },
  {
   "cell_type": "code",
   "execution_count": 1,
   "id": "acd8f60f",
   "metadata": {},
   "outputs": [],
   "source": [
    "PATH = r'C:\\Users\\Wyatt\\wyatt37\\data\\parking'"
   ]
  },
  {
   "cell_type": "code",
   "execution_count": 2,
   "id": "fcb4a0dc",
   "metadata": {},
   "outputs": [],
   "source": [
    "import pandas as pd\n",
    "pd.options.display.max_rows = 100\n",
    "pd.options.display.max_columns = 100\n",
    "from tabulate import tabulate\n",
    "\n",
    "import numpy as np\n",
    "import matplotlib.pyplot as plt\n",
    "import seaborn as sns\n",
    "import matplotlib.patches as mpatches\n",
    "\n",
    "from matplotlib import font_manager, rc\n",
    "font_path = \"C:/Windows/Fonts/NGULIM.TTF\"\n",
    "font = font_manager.FontProperties(fname=font_path).get_name()\n",
    "rc('font', family=font)\n",
    "\n",
    "import warnings\n",
    "warnings.filterwarnings(\"ignore\")"
   ]
  },
  {
   "cell_type": "code",
   "execution_count": 3,
   "id": "359b3bc6",
   "metadata": {},
   "outputs": [],
   "source": [
    "from sklearn.ensemble import RandomForestRegressor, ExtraTreesRegressor\n",
    "from lightgbm import LGBMRegressor\n",
    "from catboost import CatBoostRegressor\n",
    "from sklearn.linear_model import LassoLars, HuberRegressor"
   ]
  },
  {
   "cell_type": "code",
   "execution_count": 4,
   "id": "18bf1499",
   "metadata": {
    "tags": []
   },
   "outputs": [],
   "source": [
    "age_gender = pd.read_csv(PATH + '\\\\new_age_gender_info.csv')\n",
    "train = pd.read_csv(PATH + '\\\\new_train.csv')\n",
    "test = pd.read_csv(PATH + '\\\\new_test.csv')\n",
    "sub = pd.read_csv(PATH + '\\\\new_sample_submission.csv')"
   ]
  },
  {
   "cell_type": "markdown",
   "id": "248bc825",
   "metadata": {},
   "source": [
    "# PREPROCESSING"
   ]
  },
  {
   "cell_type": "code",
   "execution_count": 5,
   "id": "3054c7ae",
   "metadata": {},
   "outputs": [],
   "source": [
    "# 컬럼명이 너무 긴 지하철과 버스만 바꿔주겠습니다.\n",
    "train.rename({'도보 10분거리 내 지하철역 수(환승노선 수 반영)': '지하철',\n",
    "             '도보 10분거리 내 버스정류장 수': '버스'}, axis=1, inplace=True)\n",
    "test.rename({'도보 10분거리 내 지하철역 수(환승노선 수 반영)': '지하철',\n",
    "             '도보 10분거리 내 버스정류장 수': '버스'}, axis=1, inplace=True)"
   ]
  },
  {
   "cell_type": "markdown",
   "id": "2bc3cfae",
   "metadata": {},
   "source": [
    "## FILLNA"
   ]
  },
  {
   "cell_type": "markdown",
   "id": "3adf766b",
   "metadata": {},
   "source": [
    "### Subway"
   ]
  },
  {
   "cell_type": "code",
   "execution_count": 6,
   "id": "3ed5b063",
   "metadata": {},
   "outputs": [],
   "source": [
    "# train set에 지하철 정보가 없는 경남, 충남은 0으로 보간\n",
    "train.loc[(train['지역'].isin(['경상남도', '충청남도'])) & (train['지하철'].isnull()), '지하철'] = 0"
   ]
  },
  {
   "cell_type": "code",
   "execution_count": 7,
   "id": "cea872fa",
   "metadata": {},
   "outputs": [],
   "source": [
    "# LH청약센터에서 찾은 주소로 확인한 대전의 8개 단지는 지하철이 없음\n",
    "# 0으로 채워줍시다.\n",
    "\n",
    "(train.loc[(train['지역'] == '대전광역시') & (train['지하철'].isnull()) , '지하철']) = 0"
   ]
  },
  {
   "cell_type": "code",
   "execution_count": 8,
   "id": "13d46439",
   "metadata": {},
   "outputs": [],
   "source": [
    "# test set에 지하철 정보가 없는 충남은 0으로 보간\n",
    "test.loc[(test['지역'].isin(['충청남도'])) & (test['지하철'].isnull()), '지하철'] = 0"
   ]
  },
  {
   "cell_type": "code",
   "execution_count": 9,
   "id": "212c5423",
   "metadata": {},
   "outputs": [],
   "source": [
    "# LH청약센터에서 찾은 주소로 확인한 대전의 2개 단지는 지하철이 없음\n",
    "# 0으로 채워줍시다.\n",
    "\n",
    "(test.loc[(test['지역'] == '대전광역시') & (test['지하철'].isnull()), '지하철']) = 0"
   ]
  },
  {
   "cell_type": "markdown",
   "id": "811b72f6",
   "metadata": {},
   "source": [
    "### Bus"
   ]
  },
  {
   "cell_type": "code",
   "execution_count": 10,
   "id": "92034ea8",
   "metadata": {},
   "outputs": [],
   "source": [
    "# 버스정류장 결측치는 train set에 1개 단지에 존재\n",
    "# 해당 단지는 양산신도시LH아파트 5단지\n",
    "# 지도를 확인한 결과 보수적으로 잡아도 7개 이상\n",
    "\n",
    "train.loc[train['버스'].isnull(), '버스'] = 7"
   ]
  },
  {
   "cell_type": "markdown",
   "id": "2a15585d",
   "metadata": {},
   "source": [
    "### Rent"
   ]
  },
  {
   "cell_type": "code",
   "execution_count": 11,
   "id": "6cd4925e",
   "metadata": {},
   "outputs": [],
   "source": [
    "# test set 에 임대보증금과 임대료가 결측치인 1개 단지 존재\n",
    "# 해당 단지는 대전둔산1단지주공아파트\n",
    "# 공고문에 의거, 임대보증금과 임대료 아래와 같이 보간\n",
    "\n",
    "test.loc[(test['임대건물구분'] != '상가') & (test['임대보증금'].isnull()), '임대보증금'] = [5787000, 5787000, 11574000]\n",
    "test.loc[(test['임대건물구분'] != '상가') & (test['임대료'].isnull()), '임대료'] = [79980, 79980, 159960]"
   ]
  },
  {
   "cell_type": "markdown",
   "id": "224b5ab1",
   "metadata": {},
   "source": [
    "### Qualification"
   ]
  },
  {
   "cell_type": "code",
   "execution_count": 12,
   "id": "d44845c0",
   "metadata": {},
   "outputs": [],
   "source": [
    "# C2411 아파트의 자격유형은 전부 A로 되어 있음.\n",
    "# 동일하게 A로 보간\n",
    "\n",
    "test.loc[(test['단지코드'] == 'C2411') & (test['자격유형'].isnull()), '자격유형'] = 'A'"
   ]
  },
  {
   "cell_type": "code",
   "execution_count": 13,
   "id": "33eb59fe",
   "metadata": {},
   "outputs": [],
   "source": [
    "# C2253 아파트의 자격유형은 전부 C로 되어 있음.\n",
    "# 동일하게 C로 보간\n",
    "\n",
    "test.loc[(test['단지코드'] == 'C2253') & (test['자격유형'].isnull()), '자격유형'] = 'C'"
   ]
  },
  {
   "cell_type": "markdown",
   "id": "b67294eb",
   "metadata": {},
   "source": [
    "## REPLACING"
   ]
  },
  {
   "cell_type": "markdown",
   "id": "ae93a8d2",
   "metadata": {},
   "source": [
    "### 주차면수와 등록차량수가 동일한 단지"
   ]
  },
  {
   "cell_type": "code",
   "execution_count": 14,
   "id": "f762a1d2",
   "metadata": {},
   "outputs": [],
   "source": [
    "train.loc[train['단지코드'] == 'C2085', '단지코드'] = 'C1397'\n",
    "train.loc[train['단지코드'] == 'C1397', '총세대수'] = (\n",
    "    train.loc[train['단지코드'] == 'C1397'].groupby(['단지코드'])['전용면적별세대수'].sum()[0]\n",
    ")\n",
    "train.loc[train['단지코드'] == 'C1397', '공가수'] = 9"
   ]
  },
  {
   "cell_type": "markdown",
   "id": "12016da5",
   "metadata": {},
   "source": [
    "### Qualification"
   ]
  },
  {
   "cell_type": "markdown",
   "id": "ab9d9e43",
   "metadata": {},
   "source": [
    "'D' 는 상가에서 보여지는 자격유형입니다. 그러나 train, test 셋에 각각 존재합니다."
   ]
  },
  {
   "cell_type": "code",
   "execution_count": 15,
   "id": "1222795a",
   "metadata": {},
   "outputs": [],
   "source": [
    "# train의 C1350의 D는 최빈값 A로 넣겠습니다.\n",
    "train.loc[(train['자격유형'] == 'D') & (train['임대건물구분'] == '아파트'), '자격유형'] = (\n",
    "    train.loc[(train['단지코드'] == 'C1350') & (~train['임대료'].isnull()), '자격유형'].mode()[0]\n",
    ")"
   ]
  },
  {
   "cell_type": "code",
   "execution_count": 16,
   "id": "7b92de7e",
   "metadata": {},
   "outputs": [],
   "source": [
    "# test의 C1006의 D값은 최빈값인 C로 대체하겠습니다.\n",
    "test.loc[(test['단지코드'] == 'C1006') & (test['임대건물구분'] == '아파트'), '자격유형'] = (\n",
    "    test.loc[(test['단지코드'] == 'C1006') & (test['임대건물구분'] == '아파트'), '자격유형'].mode()[0]\n",
    ")"
   ]
  },
  {
   "cell_type": "markdown",
   "id": "c6c4deef",
   "metadata": {},
   "source": [
    "### UnitType"
   ]
  },
  {
   "cell_type": "markdown",
   "id": "d0db451b",
   "metadata": {},
   "source": [
    "전용면적별세대수의 합과 총세대수가 맞지 않는 단지는 값을 조정해줍니다."
   ]
  },
  {
   "cell_type": "code",
   "execution_count": 17,
   "id": "6aaa3929",
   "metadata": {},
   "outputs": [],
   "source": [
    "# 경북혁신도시천년나무3단지\n",
    "test.loc[test['단지코드'] == 'C2497', '전용면적별세대수'] = [114, 60, 275, 39]\n",
    "\n",
    "\n",
    "# 충무공동혁신도시LH아파트5단지\n",
    "train.loc[train['단지코드'] == 'C2405', '전용면적별세대수'] = [100, 100, 400]\n",
    "# 경북혁신LH천년나무2단지\n",
    "train.loc[train['단지코드'] == 'C1740', '전용면적별세대수'] = [305, 126, 184, 168]\n",
    "# LH강남아이파크\n",
    "train.loc[train['단지코드'] == 'C1024', '전용면적별세대수'] = [195, 60, 15, 154, 99, 48, 42, 53, 29, 23]\n",
    "# 서울서초A4BL\n",
    "train.loc[train['단지코드'] == 'C1344', '전용면적별세대수'] = [106, 96, 41, 39, 42, 100]\n",
    "# 진천군 연미로 131 천년나무7단지\n",
    "train.loc[train['단지코드'] == 'C1490', '전용면적별세대수'] = [105, 84, 472, 88]\n",
    "# 나주빛가람LH3단지\n",
    "train.loc[train['단지코드'] == 'C2620', '전용면적별세대수'] = [60, 227, 316, 160, 266]\n",
    "# 남양주별내A1-3블록\n",
    "train.loc[train['단지코드'] == 'C1804', '전용면적별세대수'] = [76, 82, 279, 28]\n",
    "train = train.append({'단지코드': 'C1804',\n",
    "              '총세대수': 478,\n",
    "              '임대건물구분': '아파트',\n",
    "              '지역': '경기도',\n",
    "              '공급유형': '공공임대(10년)',\n",
    "              '전용면적': 75.78,\n",
    "              '전용면적별세대수': 13,\n",
    "              '공가수': 3.0,\n",
    "              '자격유형': 'A',\n",
    "              '임대보증금': 78957000,\n",
    "              '임대료': 530130,\n",
    "              '지하철': 0.0,\n",
    "              '버스': 3.0,\n",
    "              '단지내주차면수': 629.0,\n",
    "              '등록차량수': 951.0}, ignore_index=True)\n",
    "# 대전대신2구역2단지\n",
    "train = train.append({'단지코드': 'C2470',\n",
    "                      '총세대수': 636,\n",
    "                      '임대건물구분': '아파트',\n",
    "                      '지역': '대전광역시',\n",
    "                      '공급유형': '공공분양',\n",
    "                      '전용면적': 74.99,\n",
    "                      '전용면적별세대수': 72,\n",
    "                      '공가수': 1.0,\n",
    "                      '자격유형': 'A',\n",
    "                      '임대보증금': 225013300,\n",
    "                      '지하철': 1.0,\n",
    "                      '버스': 2.0,\n",
    "                      '단지내주차면수': 772.0,\n",
    "                      '등록차량수': 887.0}, ignore_index=True)\n",
    "train = train.append({'단지코드': 'C2470',\n",
    "                      '총세대수': 636,\n",
    "                      '임대건물구분': '아파트',\n",
    "                      '지역': '대전광역시',\n",
    "                      '공급유형': '공공분양',\n",
    "                      '전용면적': 74.95,\n",
    "                      '전용면적별세대수': 66,\n",
    "                      '공가수': 1.0,\n",
    "                      '자격유형': 'A',\n",
    "                      '임대보증금': 226278000,\n",
    "                      '지하철': 1.0,\n",
    "                      '버스': 2.0,\n",
    "                      '단지내주차면수': 772.0,\n",
    "                      '등록차량수': 887.0}, ignore_index=True)\n",
    "train = train.append({'단지코드': 'C2470',\n",
    "                      '총세대수': 636,\n",
    "                      '임대건물구분': '아파트',\n",
    "                      '지역': '대전광역시',\n",
    "                      '공급유형': '공공분양',\n",
    "                      '전용면적': 74.99,\n",
    "                      '전용면적별세대수': 92,\n",
    "                      '공가수': 1.0,\n",
    "                      '자격유형': 'A',\n",
    "                      '임대보증금': 230417000,\n",
    "                      '지하철': 1.0,\n",
    "                      '버스': 2.0,\n",
    "                      '단지내주차면수': 772.0,\n",
    "                      '등록차량수': 887.0}, ignore_index=True)\n",
    "# 속초청초아파트\n",
    "#train.loc[train['단지코드'] == 'C1206', '총세대수'] = 478\n",
    "train = train.append({'단지코드': 'C1206',\n",
    "                      '총세대수': 755,\n",
    "                      '임대건물구분': '아파트',\n",
    "                      '지역': '강원도',\n",
    "                      '공급유형': '공공분양',\n",
    "                      '전용면적': 41.85,\n",
    "                      '전용면적별세대수': 177,\n",
    "                      '공가수': 1.0,\n",
    "                      '자격유형': 'A',\n",
    "                      '지하철': 0.0,\n",
    "                      '버스': 4.0,\n",
    "                      '단지내주차면수': 88.0,\n",
    "                      '등록차량수': 90.0}, ignore_index=True)\n",
    "train = train.append({'단지코드': 'C1206',\n",
    "                      '총세대수': 755,\n",
    "                      '임대건물구분': '아파트',\n",
    "                      '지역': '강원도',\n",
    "                      '공급유형': '공공분양',\n",
    "                      '전용면적': 51.66,\n",
    "                      '전용면적별세대수': 90,\n",
    "                      '공가수': 1.0,\n",
    "                      '자격유형': 'A',\n",
    "                      '지하철': 0.0,\n",
    "                      '버스': 4.0,\n",
    "                      '단지내주차면수': 88.0,\n",
    "                      '등록차량수': 90.0}, ignore_index=True)\n",
    "#광주첨단H-2BL,H-3BL\n",
    "#train.loc[train['단지코드'] == 'C1970', '총세대수'] = 200\n",
    "# 평택고덕Ca1, Ca2\n",
    "#train.loc[train['단지코드'] == 'C1894', '총세대수'] = 296"
   ]
  },
  {
   "cell_type": "markdown",
   "id": "39452459",
   "metadata": {},
   "source": [
    "### 총세대수, 전용면적별세대수, 주차면수, 오차가 너무 심합니다. 이거 때문에 분석에 문제가 생깁니다."
   ]
  },
  {
   "cell_type": "markdown",
   "id": "c43a59d4",
   "metadata": {},
   "source": [
    "#### 총세대수와 전용면적별세대수"
   ]
  },
  {
   "cell_type": "code",
   "execution_count": 18,
   "id": "ed83ef11",
   "metadata": {},
   "outputs": [],
   "source": [
    "# train의 C1024만 해주면 됩니다.\n",
    "train.loc[train['단지코드'] == 'C1024', '총세대수'] = (\n",
    "    train.loc[train['단지코드'] == 'C1024'].groupby(['단지코드'])['전용면적별세대수'].sum()[0]\n",
    ")"
   ]
  },
  {
   "cell_type": "markdown",
   "id": "f8dc600c",
   "metadata": {},
   "source": [
    "### Deposit / Rent Preprocessing"
   ]
  },
  {
   "cell_type": "code",
   "execution_count": 19,
   "id": "e8eb7f6c",
   "metadata": {
    "tags": []
   },
   "outputs": [],
   "source": [
    "# '-' 값을 0으로 만들어줍니다.\n",
    "train.loc[train['임대보증금'] == '-', '임대보증금'] = 0\n",
    "test.loc[test['임대보증금'] == '-', '임대보증금'] = 0\n",
    "\n",
    "train.loc[train['임대료'] == '-', '임대료'] = 0\n",
    "test.loc[test['임대료'] == '-', '임대료'] = 0"
   ]
  },
  {
   "cell_type": "code",
   "execution_count": 20,
   "id": "9bc3530a",
   "metadata": {},
   "outputs": [],
   "source": [
    "# nan 값 때문에 object로 되어 있습니다. 일단 0으로 채워 줍니다.\n",
    "train['임대보증금'] = train['임대보증금'].fillna(0)\n",
    "test['임대보증금'] = test['임대보증금'].fillna(0)\n",
    "\n",
    "train['임대료'] = train['임대료'].fillna(0)\n",
    "test['임대료'] = test['임대료'].fillna(0)"
   ]
  },
  {
   "cell_type": "code",
   "execution_count": 21,
   "id": "67feec25",
   "metadata": {
    "tags": []
   },
   "outputs": [],
   "source": [
    "# 계산을 위해서 int로 바꿔줍니다.\n",
    "train['임대보증금'] = train['임대보증금'].astype(int)\n",
    "test['임대보증금'] = test['임대보증금'].astype(int)\n",
    "\n",
    "train['임대료'] = train['임대료'].astype(int)\n",
    "test['임대료'] = test['임대료'].astype(int)"
   ]
  },
  {
   "cell_type": "code",
   "execution_count": 22,
   "id": "67532d67",
   "metadata": {},
   "outputs": [],
   "source": [
    "# 면적당으로 보증금과 임대료를 산출해서 역으로 채워넣겠습니다.\n",
    "train['면적당보증금'] = train['임대보증금'] / train['전용면적']\n",
    "train['면적당임대료'] = train['임대료'] / train['전용면적']\n",
    "\n",
    "test['면적당보증금'] = test['임대보증금'] / test['전용면적']\n",
    "test['면적당임대료'] = test['임대료'] / test['전용면적']"
   ]
  },
  {
   "cell_type": "code",
   "execution_count": 23,
   "id": "a23b06c5",
   "metadata": {},
   "outputs": [],
   "source": [
    "# 0 값을 다시 NULL 값으로 바꿉니다.\n",
    "train.loc[(train['면적당보증금'] == 0), ['임대보증금', '면적당보증금']] = np.nan\n",
    "train.loc[(train['면적당임대료'] == 0), ['임대료', '면적당임대료']] = np.nan\n",
    "\n",
    "test.loc[(test['면적당보증금'] == 0), ['임대보증금', '면적당보증금']] = np.nan\n",
    "test.loc[(test['면적당임대료'] == 0), ['임대료', '면적당임대료']] = np.nan"
   ]
  },
  {
   "cell_type": "markdown",
   "id": "51532f87",
   "metadata": {},
   "source": [
    "Train 의 보증금과 임대료가 비어있는 곳은 C1350, C1786, C2186, C1326 입니다."
   ]
  },
  {
   "cell_type": "code",
   "execution_count": 24,
   "id": "5cd73e16",
   "metadata": {},
   "outputs": [],
   "source": [
    "# C1350은 공공분양이기 때문에 임대료가 없고 보증금이 매우 큽니다.\n",
    "# 이 경우는 비슷한 공급유형의 면적당보증금을 가져오겠습니다.\n",
    "# 임대료는 추후 작업하겠습니다.\n",
    "\n",
    "# 같은 유형의 공공분양 단지의 면적당 보증금의 평균으로 채워줍니다.\n",
    "train.loc[(train['단지코드'] == 'C1350') & (train['임대보증금'].isnull()), '면적당보증금'] = (\n",
    "    train.loc[(train['공급유형'] == '공공분양') & (~train['임대보증금'].isnull()), '면적당보증금'].mean()\n",
    ")\n",
    "\n",
    "# 면적당보증금과 전용면적을 곱해서 임대보증금을 만들어줍니다.\n",
    "train.loc[(train['단지코드'] == 'C1350') & (train['임대보증금'].isnull()), '임대보증금'] = (\n",
    "    train.loc[(train['단지코드'] == 'C1350') & (train['임대보증금'].isnull()), '전용면적']\n",
    "    * train.loc[(train['단지코드'] == 'C1350') & (train['임대보증금'].isnull()), '면적당보증금']\n",
    ")"
   ]
  },
  {
   "cell_type": "code",
   "execution_count": 25,
   "id": "ad695fa7",
   "metadata": {},
   "outputs": [],
   "source": [
    "# C1786 은 행복주택, K 유형의 아파트입니다.\n",
    "# 동일한 공급유형, 자격유형의 값을 가져오겠습니다.\n",
    "train.loc[(train['단지코드'] == 'C1786') & (train['자격유형'] == 'K'), '면적당보증금'] = (\n",
    "    train.loc[(train['공급유형'] == '행복주택') & (train['자격유형'] == 'K'), '면적당보증금'].mean()\n",
    ")\n",
    "train.loc[(train['단지코드'] == 'C1786') & (train['자격유형'] == 'K'), '면적당임대료'] = (\n",
    "    train.loc[(train['공급유형'] == '행복주택') & (train['자격유형'] == 'K'), '면적당임대료'].mean()\n",
    ")\n",
    "\n",
    "# 면적당보증금과 전용면적을 곱해서 임대보증금을 만들어줍니다.\n",
    "train.loc[(train['단지코드'] == 'C1786') & (train['자격유형'] == 'K'), '임대보증금'] = (\n",
    "    train.loc[(train['단지코드'] == 'C1786') & (train['자격유형'] == 'K'), '전용면적']\n",
    "    * train.loc[(train['단지코드'] == 'C1786') & (train['자격유형'] == 'K'), '면적당보증금']\n",
    ")\n",
    "train.loc[(train['단지코드'] == 'C1786') & (train['자격유형'] == 'K'), '임대료'] = (\n",
    "    train.loc[(train['단지코드'] == 'C1786') & (train['자격유형'] == 'K'), '전용면적']\n",
    "    * train.loc[(train['단지코드'] == 'C1786') & (train['자격유형'] == 'K'), '면적당임대료']\n",
    ")"
   ]
  },
  {
   "cell_type": "code",
   "execution_count": 26,
   "id": "270b6c51",
   "metadata": {},
   "outputs": [],
   "source": [
    "# C2186 단지는 같은 단지에 동일한 공급유형, 동일한 자격유형의 값이 있습니다.\n",
    "# 해당 값으로 넣어주겠습니다.\n",
    "train.loc[(train['단지코드'] == 'C2186') & (train['임대료'].isnull()), '면적당임대료'] = (\n",
    "    train.loc[(train['단지코드'] == 'C2186') & (train['자격유형'] == 'H') & (~train['임대료'].isnull()), '면적당임대료'].mean()\n",
    ")\n",
    "train.loc[(train['단지코드'] == 'C2186') & (train['임대보증금'].isnull()), '면적당보증금'] = (\n",
    "    train.loc[(train['단지코드'] == 'C2186') & (train['자격유형'] == 'H') & (~train['임대보증금'].isnull()), '면적당보증금'].mean()\n",
    ")\n",
    "\n",
    "# 면적당보증금과 전용면적을 곱해서 임대보증금을 만들어줍니다.\n",
    "train.loc[(train['단지코드'] == 'C2186') & (train['임대료'].isnull()), '임대료'] = (\n",
    "    train.loc[(train['단지코드'] == 'C2186') & (train['임대료'].isnull()), '전용면적']\n",
    "    * train.loc[(train['단지코드'] == 'C2186') & (train['임대료'].isnull()), '면적당임대료']\n",
    ")\n",
    "train.loc[(train['단지코드'] == 'C2186') & (train['임대보증금'].isnull()), '임대보증금'] = (\n",
    "    train.loc[(train['단지코드'] == 'C2186') & (train['임대보증금'].isnull()), '전용면적']\n",
    "    * train.loc[(train['단지코드'] == 'C2186') & (train['임대보증금'].isnull()), '면적당보증금']\n",
    ")"
   ]
  },
  {
   "cell_type": "code",
   "execution_count": 27,
   "id": "d9fb581c",
   "metadata": {},
   "outputs": [],
   "source": [
    "# C1326 단지는 동일 지역에 H국민임대 단지가 없습니다. 전국적으로 4000~6500원 선이니 평균으로 넣어주겠습니다.\n",
    "train.loc[train['단지코드'] == 'C1326', '면적당보증금'] = (\n",
    "    train.loc[(train['공급유형'] == '국민임대') & (train['자격유형'] == 'H'), '면적당보증금'].mean()\n",
    ")\n",
    "train.loc[train['단지코드'] == 'C1326', '면적당임대료'] = (\n",
    "    train.loc[(train['공급유형'] == '국민임대') & (train['자격유형'] == 'H'), '면적당임대료'].mean()\n",
    ")\n",
    "\n",
    "# 면적당보증금과 전용면적을 곱해서 임대보증금을 만들어줍니다.\n",
    "train.loc[train['단지코드'] == 'C1326', '임대보증금'] = (\n",
    "    train.loc[train['단지코드'] == 'C1326', '면적당보증금']\n",
    "    * train.loc[train['단지코드'] == 'C1326', '전용면적']\n",
    ")\n",
    "train.loc[train['단지코드'] == 'C1326', '임대료'] = (\n",
    "    train.loc[train['단지코드'] == 'C1326', '면적당임대료']\n",
    "    * train.loc[train['단지코드'] == 'C1326', '전용면적']\n",
    ")"
   ]
  },
  {
   "cell_type": "markdown",
   "id": "611f1423",
   "metadata": {},
   "source": [
    "test의 보증금과 임대료가 비어 있는 곳은 C1267, C2152, C2335 입니다."
   ]
  },
  {
   "cell_type": "code",
   "execution_count": 28,
   "id": "149a1c0b",
   "metadata": {},
   "outputs": [],
   "source": [
    "# C1267 단지는 train의 동일공급유형, 동일자격유형, 거기에 경기도를 뺀 지역의 평균을 넣겠습니다.\n",
    "test.loc[(test['단지코드'] == 'C1267') & (test['임대보증금'].isnull()), '면적당보증금'] = (\n",
    "    train.loc[(train['공급유형'] == '행복주택') & (train['자격유형'] == 'L') & (train['지역'] != '경기도'), '면적당보증금'].mean()\n",
    ")\n",
    "test.loc[(test['단지코드'] == 'C1267') & (test['임대료'].isnull()), '면적당임대료'] = (\n",
    "    train.loc[(train['공급유형'] == '행복주택') & (train['자격유형'] == 'L') & (train['지역'] != '경기도'), '면적당임대료'].mean()\n",
    ")\n",
    "\n",
    "# 면적당보증금과 전용면적을 곱해서 임대보증금을 만들어줍니다.\n",
    "test.loc[(test['단지코드'] == 'C1267') & (test['임대보증금'].isnull()), '임대보증금'] = (\n",
    "    test.loc[(test['단지코드'] == 'C1267') & (test['임대보증금'].isnull()), '전용면적']\n",
    "    * test.loc[(test['단지코드'] == 'C1267') & (test['임대보증금'].isnull()), '면적당보증금']\n",
    ")\n",
    "test.loc[(test['단지코드'] == 'C1267') & (test['임대료'].isnull()), '임대료'] = (\n",
    "    test.loc[(test['단지코드'] == 'C1267') & (test['임대료'].isnull()), '전용면적']\n",
    "    * test.loc[(test['단지코드'] == 'C1267') & (test['임대료'].isnull()), '면적당임대료']\n",
    ")"
   ]
  },
  {
   "cell_type": "code",
   "execution_count": 29,
   "id": "7c0480aa",
   "metadata": {},
   "outputs": [],
   "source": [
    "# C2152 단지는 train의 동일 공급유형, 자격유형의 전국 평균 값으로 넣겠습니다.\n",
    "test.loc[test['단지코드'] == 'C2152', '면적당보증금'] = (\n",
    "    train.loc[(train['공급유형'] == '영구임대') & (train['자격유형'] == 'C'), '면적당보증금'].mean()\n",
    ")\n",
    "test.loc[test['단지코드'] == 'C2152', '면적당임대료'] = (\n",
    "    train.loc[(train['공급유형'] == '영구임대') & (train['자격유형'] == 'C'), '면적당임대료'].mean()\n",
    ")\n",
    "\n",
    "# 면적당보증금과 전용면적을 곱해서 임대보증금을 만들어줍니다.\n",
    "test.loc[test['단지코드'] == 'C2152', '임대보증금'] = (\n",
    "    test.loc[test['단지코드'] == 'C2152', '전용면적']\n",
    "    * test.loc[test['단지코드'] == 'C2152', '면적당보증금']\n",
    ")\n",
    "test.loc[test['단지코드'] == 'C2152', '임대료'] = (\n",
    "    test.loc[test['단지코드'] == 'C2152', '전용면적']\n",
    "    * test.loc[test['단지코드'] == 'C2152', '면적당임대료']\n",
    ")"
   ]
  },
  {
   "cell_type": "code",
   "execution_count": null,
   "id": "111931ff",
   "metadata": {},
   "outputs": [],
   "source": []
  },
  {
   "cell_type": "code",
   "execution_count": 30,
   "id": "75975076",
   "metadata": {},
   "outputs": [],
   "source": [
    "train['환산보증금'] = train['임대료'] * 354 + train['임대보증금']\n",
    "test['환산보증금'] = test['임대료'] * 354 + test['임대보증금']"
   ]
  },
  {
   "cell_type": "code",
   "execution_count": null,
   "id": "05a96e73",
   "metadata": {},
   "outputs": [],
   "source": []
  },
  {
   "cell_type": "code",
   "execution_count": null,
   "id": "18ab9a29",
   "metadata": {},
   "outputs": [],
   "source": []
  },
  {
   "cell_type": "code",
   "execution_count": null,
   "id": "35f72af1",
   "metadata": {},
   "outputs": [],
   "source": []
  },
  {
   "cell_type": "code",
   "execution_count": 31,
   "id": "4644910a",
   "metadata": {},
   "outputs": [],
   "source": [
    "train['건축연면적'] = train['전용면적'] * train['전용면적별세대수']\n",
    "test['건축연면적'] = test['전용면적'] * test['전용면적별세대수']"
   ]
  },
  {
   "cell_type": "code",
   "execution_count": 32,
   "id": "9b1f1d76",
   "metadata": {},
   "outputs": [],
   "source": [
    "train['세대수X환산보증금'] = train['전용면적별세대수'] * train['환산보증금']\n",
    "test['세대수X환산보증금'] = test['전용면적별세대수'] * test['환산보증금']"
   ]
  },
  {
   "cell_type": "code",
   "execution_count": 33,
   "id": "bed7fca9",
   "metadata": {},
   "outputs": [],
   "source": [
    "train.loc[train['전용면적'] < 35, '방개수'] = '1룸'\n",
    "train.loc[train['전용면적'] >= 35, '방개수'] = '2룸'\n",
    "train.loc[train['전용면적'] >= 45, '방개수'] = '3룸'\n",
    "train.loc[train['전용면적'] >= 56, '방개수'] = '4룸'\n",
    "train.loc[train['전용면적'] >= 77, '방개수'] = '5룸'"
   ]
  },
  {
   "cell_type": "code",
   "execution_count": 34,
   "id": "ff614a22",
   "metadata": {},
   "outputs": [],
   "source": [
    "test.loc[test['전용면적'] < 35, '방개수'] = '1룸'\n",
    "test.loc[test['전용면적'] >= 35, '방개수'] = '2룸'\n",
    "test.loc[test['전용면적'] >= 45, '방개수'] = '3룸'\n",
    "test.loc[test['전용면적'] >= 56, '방개수'] = '4룸'\n",
    "test.loc[test['전용면적'] >= 77, '방개수'] = '5룸'"
   ]
  },
  {
   "cell_type": "code",
   "execution_count": 35,
   "id": "4508802e",
   "metadata": {},
   "outputs": [],
   "source": [
    "# 80 ~ 은 대형\n",
    "# 40 ~ 80 은 중형\n",
    "# ~ 40 은 소형\n",
    "\n",
    "train.loc[train['전용면적'] < 40, '전용면적구분'] = '소형'\n",
    "train.loc[train['전용면적'] >= 40, '전용면적구분'] = '중형'\n",
    "train.loc[train['전용면적'] >= 80, '전용면적구분'] = '대형'\n",
    "\n",
    "test.loc[test['전용면적'] < 40, '전용면적구분'] = '소형'\n",
    "test.loc[test['전용면적'] >= 40, '전용면적구분'] = '중형'\n",
    "test.loc[test['전용면적'] >= 80, '전용면적구분'] = '대형'"
   ]
  },
  {
   "cell_type": "code",
   "execution_count": 36,
   "id": "ad5acb27",
   "metadata": {},
   "outputs": [
    {
     "data": {
      "text/html": [
       "<div>\n",
       "<style scoped>\n",
       "    .dataframe tbody tr th:only-of-type {\n",
       "        vertical-align: middle;\n",
       "    }\n",
       "\n",
       "    .dataframe tbody tr th {\n",
       "        vertical-align: top;\n",
       "    }\n",
       "\n",
       "    .dataframe thead th {\n",
       "        text-align: right;\n",
       "    }\n",
       "</style>\n",
       "<table border=\"1\" class=\"dataframe\">\n",
       "  <thead>\n",
       "    <tr style=\"text-align: right;\">\n",
       "      <th></th>\n",
       "      <th>단지코드</th>\n",
       "      <th>총세대수</th>\n",
       "      <th>임대건물구분</th>\n",
       "      <th>지역</th>\n",
       "      <th>공급유형</th>\n",
       "      <th>전용면적</th>\n",
       "      <th>전용면적별세대수</th>\n",
       "      <th>공가수</th>\n",
       "      <th>자격유형</th>\n",
       "      <th>임대보증금</th>\n",
       "      <th>임대료</th>\n",
       "      <th>지하철</th>\n",
       "      <th>버스</th>\n",
       "      <th>단지내주차면수</th>\n",
       "      <th>등록차량수</th>\n",
       "      <th>면적당보증금</th>\n",
       "      <th>면적당임대료</th>\n",
       "      <th>환산보증금</th>\n",
       "      <th>건축연면적</th>\n",
       "      <th>세대수X환산보증금</th>\n",
       "      <th>방개수</th>\n",
       "      <th>전용면적구분</th>\n",
       "    </tr>\n",
       "  </thead>\n",
       "  <tbody>\n",
       "    <tr>\n",
       "      <th>0</th>\n",
       "      <td>C2483</td>\n",
       "      <td>900</td>\n",
       "      <td>아파트</td>\n",
       "      <td>경상북도</td>\n",
       "      <td>국민임대</td>\n",
       "      <td>39.72</td>\n",
       "      <td>134</td>\n",
       "      <td>38.0</td>\n",
       "      <td>A</td>\n",
       "      <td>15667000.0</td>\n",
       "      <td>103680.0</td>\n",
       "      <td>0.0</td>\n",
       "      <td>3.0</td>\n",
       "      <td>1425.0</td>\n",
       "      <td>1015.0</td>\n",
       "      <td>3.944361e+05</td>\n",
       "      <td>2610.271903</td>\n",
       "      <td>52369720.0</td>\n",
       "      <td>5322.48</td>\n",
       "      <td>7.017542e+09</td>\n",
       "      <td>2룸</td>\n",
       "      <td>소형</td>\n",
       "    </tr>\n",
       "    <tr>\n",
       "      <th>1</th>\n",
       "      <td>C2483</td>\n",
       "      <td>900</td>\n",
       "      <td>아파트</td>\n",
       "      <td>경상북도</td>\n",
       "      <td>국민임대</td>\n",
       "      <td>39.72</td>\n",
       "      <td>15</td>\n",
       "      <td>38.0</td>\n",
       "      <td>A</td>\n",
       "      <td>15667000.0</td>\n",
       "      <td>103680.0</td>\n",
       "      <td>0.0</td>\n",
       "      <td>3.0</td>\n",
       "      <td>1425.0</td>\n",
       "      <td>1015.0</td>\n",
       "      <td>3.944361e+05</td>\n",
       "      <td>2610.271903</td>\n",
       "      <td>52369720.0</td>\n",
       "      <td>595.80</td>\n",
       "      <td>7.855458e+08</td>\n",
       "      <td>2룸</td>\n",
       "      <td>소형</td>\n",
       "    </tr>\n",
       "    <tr>\n",
       "      <th>2</th>\n",
       "      <td>C2483</td>\n",
       "      <td>900</td>\n",
       "      <td>아파트</td>\n",
       "      <td>경상북도</td>\n",
       "      <td>국민임대</td>\n",
       "      <td>51.93</td>\n",
       "      <td>385</td>\n",
       "      <td>38.0</td>\n",
       "      <td>A</td>\n",
       "      <td>27304000.0</td>\n",
       "      <td>184330.0</td>\n",
       "      <td>0.0</td>\n",
       "      <td>3.0</td>\n",
       "      <td>1425.0</td>\n",
       "      <td>1015.0</td>\n",
       "      <td>5.257847e+05</td>\n",
       "      <td>3549.585981</td>\n",
       "      <td>92556820.0</td>\n",
       "      <td>19993.05</td>\n",
       "      <td>3.563438e+10</td>\n",
       "      <td>3룸</td>\n",
       "      <td>중형</td>\n",
       "    </tr>\n",
       "    <tr>\n",
       "      <th>3</th>\n",
       "      <td>C2483</td>\n",
       "      <td>900</td>\n",
       "      <td>아파트</td>\n",
       "      <td>경상북도</td>\n",
       "      <td>국민임대</td>\n",
       "      <td>51.93</td>\n",
       "      <td>15</td>\n",
       "      <td>38.0</td>\n",
       "      <td>A</td>\n",
       "      <td>27304000.0</td>\n",
       "      <td>184330.0</td>\n",
       "      <td>0.0</td>\n",
       "      <td>3.0</td>\n",
       "      <td>1425.0</td>\n",
       "      <td>1015.0</td>\n",
       "      <td>5.257847e+05</td>\n",
       "      <td>3549.585981</td>\n",
       "      <td>92556820.0</td>\n",
       "      <td>778.95</td>\n",
       "      <td>1.388352e+09</td>\n",
       "      <td>3룸</td>\n",
       "      <td>중형</td>\n",
       "    </tr>\n",
       "    <tr>\n",
       "      <th>4</th>\n",
       "      <td>C2483</td>\n",
       "      <td>900</td>\n",
       "      <td>아파트</td>\n",
       "      <td>경상북도</td>\n",
       "      <td>국민임대</td>\n",
       "      <td>51.93</td>\n",
       "      <td>41</td>\n",
       "      <td>38.0</td>\n",
       "      <td>A</td>\n",
       "      <td>27304000.0</td>\n",
       "      <td>184330.0</td>\n",
       "      <td>0.0</td>\n",
       "      <td>3.0</td>\n",
       "      <td>1425.0</td>\n",
       "      <td>1015.0</td>\n",
       "      <td>5.257847e+05</td>\n",
       "      <td>3549.585981</td>\n",
       "      <td>92556820.0</td>\n",
       "      <td>2129.13</td>\n",
       "      <td>3.794830e+09</td>\n",
       "      <td>3룸</td>\n",
       "      <td>중형</td>\n",
       "    </tr>\n",
       "    <tr>\n",
       "      <th>...</th>\n",
       "      <td>...</td>\n",
       "      <td>...</td>\n",
       "      <td>...</td>\n",
       "      <td>...</td>\n",
       "      <td>...</td>\n",
       "      <td>...</td>\n",
       "      <td>...</td>\n",
       "      <td>...</td>\n",
       "      <td>...</td>\n",
       "      <td>...</td>\n",
       "      <td>...</td>\n",
       "      <td>...</td>\n",
       "      <td>...</td>\n",
       "      <td>...</td>\n",
       "      <td>...</td>\n",
       "      <td>...</td>\n",
       "      <td>...</td>\n",
       "      <td>...</td>\n",
       "      <td>...</td>\n",
       "      <td>...</td>\n",
       "      <td>...</td>\n",
       "      <td>...</td>\n",
       "    </tr>\n",
       "    <tr>\n",
       "      <th>2953</th>\n",
       "      <td>C2470</td>\n",
       "      <td>636</td>\n",
       "      <td>아파트</td>\n",
       "      <td>대전광역시</td>\n",
       "      <td>공공분양</td>\n",
       "      <td>74.99</td>\n",
       "      <td>72</td>\n",
       "      <td>1.0</td>\n",
       "      <td>A</td>\n",
       "      <td>225013300.0</td>\n",
       "      <td>NaN</td>\n",
       "      <td>1.0</td>\n",
       "      <td>2.0</td>\n",
       "      <td>772.0</td>\n",
       "      <td>887.0</td>\n",
       "      <td>3.000577e+06</td>\n",
       "      <td>NaN</td>\n",
       "      <td>NaN</td>\n",
       "      <td>5399.28</td>\n",
       "      <td>NaN</td>\n",
       "      <td>4룸</td>\n",
       "      <td>중형</td>\n",
       "    </tr>\n",
       "    <tr>\n",
       "      <th>2954</th>\n",
       "      <td>C2470</td>\n",
       "      <td>636</td>\n",
       "      <td>아파트</td>\n",
       "      <td>대전광역시</td>\n",
       "      <td>공공분양</td>\n",
       "      <td>74.95</td>\n",
       "      <td>66</td>\n",
       "      <td>1.0</td>\n",
       "      <td>A</td>\n",
       "      <td>226278000.0</td>\n",
       "      <td>NaN</td>\n",
       "      <td>1.0</td>\n",
       "      <td>2.0</td>\n",
       "      <td>772.0</td>\n",
       "      <td>887.0</td>\n",
       "      <td>3.019053e+06</td>\n",
       "      <td>NaN</td>\n",
       "      <td>NaN</td>\n",
       "      <td>4946.70</td>\n",
       "      <td>NaN</td>\n",
       "      <td>4룸</td>\n",
       "      <td>중형</td>\n",
       "    </tr>\n",
       "    <tr>\n",
       "      <th>2955</th>\n",
       "      <td>C2470</td>\n",
       "      <td>636</td>\n",
       "      <td>아파트</td>\n",
       "      <td>대전광역시</td>\n",
       "      <td>공공분양</td>\n",
       "      <td>74.99</td>\n",
       "      <td>92</td>\n",
       "      <td>1.0</td>\n",
       "      <td>A</td>\n",
       "      <td>230417000.0</td>\n",
       "      <td>NaN</td>\n",
       "      <td>1.0</td>\n",
       "      <td>2.0</td>\n",
       "      <td>772.0</td>\n",
       "      <td>887.0</td>\n",
       "      <td>3.072636e+06</td>\n",
       "      <td>NaN</td>\n",
       "      <td>NaN</td>\n",
       "      <td>6899.08</td>\n",
       "      <td>NaN</td>\n",
       "      <td>4룸</td>\n",
       "      <td>중형</td>\n",
       "    </tr>\n",
       "    <tr>\n",
       "      <th>2956</th>\n",
       "      <td>C1206</td>\n",
       "      <td>755</td>\n",
       "      <td>아파트</td>\n",
       "      <td>강원도</td>\n",
       "      <td>공공분양</td>\n",
       "      <td>41.85</td>\n",
       "      <td>177</td>\n",
       "      <td>1.0</td>\n",
       "      <td>A</td>\n",
       "      <td>NaN</td>\n",
       "      <td>NaN</td>\n",
       "      <td>0.0</td>\n",
       "      <td>4.0</td>\n",
       "      <td>88.0</td>\n",
       "      <td>90.0</td>\n",
       "      <td>NaN</td>\n",
       "      <td>NaN</td>\n",
       "      <td>NaN</td>\n",
       "      <td>7407.45</td>\n",
       "      <td>NaN</td>\n",
       "      <td>2룸</td>\n",
       "      <td>중형</td>\n",
       "    </tr>\n",
       "    <tr>\n",
       "      <th>2957</th>\n",
       "      <td>C1206</td>\n",
       "      <td>755</td>\n",
       "      <td>아파트</td>\n",
       "      <td>강원도</td>\n",
       "      <td>공공분양</td>\n",
       "      <td>51.66</td>\n",
       "      <td>90</td>\n",
       "      <td>1.0</td>\n",
       "      <td>A</td>\n",
       "      <td>NaN</td>\n",
       "      <td>NaN</td>\n",
       "      <td>0.0</td>\n",
       "      <td>4.0</td>\n",
       "      <td>88.0</td>\n",
       "      <td>90.0</td>\n",
       "      <td>NaN</td>\n",
       "      <td>NaN</td>\n",
       "      <td>NaN</td>\n",
       "      <td>4649.40</td>\n",
       "      <td>NaN</td>\n",
       "      <td>3룸</td>\n",
       "      <td>중형</td>\n",
       "    </tr>\n",
       "  </tbody>\n",
       "</table>\n",
       "<p>2958 rows × 22 columns</p>\n",
       "</div>"
      ],
      "text/plain": [
       "       단지코드  총세대수 임대건물구분     지역  공급유형   전용면적  전용면적별세대수   공가수 자격유형  \\\n",
       "0     C2483   900    아파트   경상북도  국민임대  39.72       134  38.0    A   \n",
       "1     C2483   900    아파트   경상북도  국민임대  39.72        15  38.0    A   \n",
       "2     C2483   900    아파트   경상북도  국민임대  51.93       385  38.0    A   \n",
       "3     C2483   900    아파트   경상북도  국민임대  51.93        15  38.0    A   \n",
       "4     C2483   900    아파트   경상북도  국민임대  51.93        41  38.0    A   \n",
       "...     ...   ...    ...    ...   ...    ...       ...   ...  ...   \n",
       "2953  C2470   636    아파트  대전광역시  공공분양  74.99        72   1.0    A   \n",
       "2954  C2470   636    아파트  대전광역시  공공분양  74.95        66   1.0    A   \n",
       "2955  C2470   636    아파트  대전광역시  공공분양  74.99        92   1.0    A   \n",
       "2956  C1206   755    아파트    강원도  공공분양  41.85       177   1.0    A   \n",
       "2957  C1206   755    아파트    강원도  공공분양  51.66        90   1.0    A   \n",
       "\n",
       "            임대보증금       임대료  지하철   버스  단지내주차면수   등록차량수        면적당보증금  \\\n",
       "0      15667000.0  103680.0  0.0  3.0   1425.0  1015.0  3.944361e+05   \n",
       "1      15667000.0  103680.0  0.0  3.0   1425.0  1015.0  3.944361e+05   \n",
       "2      27304000.0  184330.0  0.0  3.0   1425.0  1015.0  5.257847e+05   \n",
       "3      27304000.0  184330.0  0.0  3.0   1425.0  1015.0  5.257847e+05   \n",
       "4      27304000.0  184330.0  0.0  3.0   1425.0  1015.0  5.257847e+05   \n",
       "...           ...       ...  ...  ...      ...     ...           ...   \n",
       "2953  225013300.0       NaN  1.0  2.0    772.0   887.0  3.000577e+06   \n",
       "2954  226278000.0       NaN  1.0  2.0    772.0   887.0  3.019053e+06   \n",
       "2955  230417000.0       NaN  1.0  2.0    772.0   887.0  3.072636e+06   \n",
       "2956          NaN       NaN  0.0  4.0     88.0    90.0           NaN   \n",
       "2957          NaN       NaN  0.0  4.0     88.0    90.0           NaN   \n",
       "\n",
       "           면적당임대료       환산보증금     건축연면적     세대수X환산보증금 방개수 전용면적구분  \n",
       "0     2610.271903  52369720.0   5322.48  7.017542e+09  2룸     소형  \n",
       "1     2610.271903  52369720.0    595.80  7.855458e+08  2룸     소형  \n",
       "2     3549.585981  92556820.0  19993.05  3.563438e+10  3룸     중형  \n",
       "3     3549.585981  92556820.0    778.95  1.388352e+09  3룸     중형  \n",
       "4     3549.585981  92556820.0   2129.13  3.794830e+09  3룸     중형  \n",
       "...           ...         ...       ...           ...  ..    ...  \n",
       "2953          NaN         NaN   5399.28           NaN  4룸     중형  \n",
       "2954          NaN         NaN   4946.70           NaN  4룸     중형  \n",
       "2955          NaN         NaN   6899.08           NaN  4룸     중형  \n",
       "2956          NaN         NaN   7407.45           NaN  2룸     중형  \n",
       "2957          NaN         NaN   4649.40           NaN  3룸     중형  \n",
       "\n",
       "[2958 rows x 22 columns]"
      ]
     },
     "execution_count": 36,
     "metadata": {},
     "output_type": "execute_result"
    }
   ],
   "source": [
    "train"
   ]
  },
  {
   "cell_type": "code",
   "execution_count": null,
   "id": "ca125b95",
   "metadata": {},
   "outputs": [],
   "source": []
  },
  {
   "cell_type": "code",
   "execution_count": null,
   "id": "9e8cae4b",
   "metadata": {},
   "outputs": [],
   "source": []
  }
 ],
 "metadata": {
  "kernelspec": {
   "display_name": "wyatt38",
   "language": "python",
   "name": "wyatt38"
  },
  "language_info": {
   "codemirror_mode": {
    "name": "ipython",
    "version": 3
   },
   "file_extension": ".py",
   "mimetype": "text/x-python",
   "name": "python",
   "nbconvert_exporter": "python",
   "pygments_lexer": "ipython3",
   "version": "3.8.0"
  }
 },
 "nbformat": 4,
 "nbformat_minor": 5
}
